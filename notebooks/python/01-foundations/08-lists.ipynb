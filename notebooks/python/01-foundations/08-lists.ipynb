{
 "cells": [
  {
   "cell_type": "markdown",
   "id": "8a43d86b-ccdd-4e63-bb56-5eef2391ae23",
   "metadata": {},
   "source": [
    "<!-- markdownlint-disable-next-line MD041 -->\n",
    "[Go back to Home](/) - [Go to lesson page](/docs/python/foundations/lists-and-strings) - [Go to Foundations section](/docs/python/foundations)"
   ]
  },
  {
   "cell_type": "markdown",
   "id": "7addf743-ea51-4d57-9cff-aa48fdcf045a",
   "metadata": {},
   "source": [
    "# Lists\n",
    "\n",
    "Let's continue talking about lists. You can add to them, remove from them, and put two lists together.\n",
    "\n",
    "***💡WARNING***\n",
    "You may see `# NBVAL_IGNORE_OUTPUT` in a few cells for `id()`. You can ignore that comment. It's part of the testing that these notebooks go through.\n",
    "*** ***"
   ]
  },
  {
   "cell_type": "markdown",
   "id": "07af04e4-165e-4074-8aa1-03d71e648d6b",
   "metadata": {},
   "source": [
    "## Learning Objective\n",
    "\n",
    "- `id()`\n",
    "- List return\n",
    "- Learn list methods (and a function)\n",
    "  - `.append()`\n",
    "  - `len()`\n",
    "  - `.count()`\n",
    "  - `.sort()`\n",
    "  - `.insert()`\n",
    "  - `.index()`\n",
    "  - `.reverse()`  \n",
    "  - `.remove()`\n",
    "  - `.pop()`\n",
    "\n",
    "## `id()` function\n",
    "\n",
    "In Python, there is something you need to know that's different about lists compared with other programming languages.\n",
    "\n",
    "A list in Python is a reference to a location in memory. When you create variables and other objects in Python, they have a location in memory. They have to go somewhere, right?\n",
    "\n",
    "If you create a list that's assigned a new variable name, it will point to the same location in memory. We are copying a `reference` and it's called a `shallow copy`.\n",
    "\n",
    "Let me show you."
   ]
  },
  {
   "cell_type": "code",
   "execution_count": 1,
   "id": "4fb4c157-a713-444f-996c-a829a772a045",
   "metadata": {},
   "outputs": [
    {
     "data": {
      "text/plain": [
       "129998931779008"
      ]
     },
     "execution_count": 1,
     "metadata": {},
     "output_type": "execute_result"
    }
   ],
   "source": [
    "# NBVAL_IGNORE_OUTPUT\n",
    "\n",
    "original_fruits_list = ['banana', 'papaya', 'strawberry', 'lychee', 'paw paw']\n",
    "\n",
    "id_original = id(original_fruits_list)\n",
    "\n",
    "id_original"
   ]
  },
  {
   "cell_type": "markdown",
   "id": "a9b7e04e-cfd8-4df6-8ae7-3c2d6c8baf1b",
   "metadata": {},
   "source": [
    "What we just did was create a list, and get it's location in memory. That's what `id()` does. It gives you a unique ID that tells you its location in memory.\n",
    "\n",
    "Next, we'll assign the list to a new name and get that ID."
   ]
  },
  {
   "cell_type": "code",
   "execution_count": 2,
   "id": "26cae0c6-a3c4-4441-80eb-edb183912530",
   "metadata": {},
   "outputs": [
    {
     "data": {
      "text/plain": [
       "129998931779008"
      ]
     },
     "execution_count": 2,
     "metadata": {},
     "output_type": "execute_result"
    }
   ],
   "source": [
    "# NBVAL_IGNORE_OUTPUT\n",
    "\n",
    "new_fruits_list = original_fruits_list\n",
    "\n",
    "id_new = id(new_fruits_list)\n",
    "\n",
    "id_new"
   ]
  },
  {
   "cell_type": "markdown",
   "id": "482ee8ba-15d0-4bdc-9a57-58168553399d",
   "metadata": {},
   "source": [
    "So we have two lists that are the same. That number is the same as the other ID above. Let me show you they're the same with this equals `==` comparison operator. I'm asking if the `id_original` is the same as `id_new`."
   ]
  },
  {
   "cell_type": "code",
   "execution_count": 3,
   "id": "66cca154-09a5-479a-b53e-0310d2af43ff",
   "metadata": {},
   "outputs": [
    {
     "data": {
      "text/plain": [
       "True"
      ]
     },
     "execution_count": 3,
     "metadata": {},
     "output_type": "execute_result"
    }
   ],
   "source": [
    "id_original == id_new"
   ]
  },
  {
   "cell_type": "markdown",
   "id": "f0479f8f-dac3-4006-8e72-c9a7a096a7c4",
   "metadata": {},
   "source": [
    "Is it the same? True. True means yes it's the same. This is something you have to keep in mind with lists. In some programming languages, you can create a new variable of something, and the variable is totally new.\n",
    "\n",
    "But Python does something a little different with lists! I can change the new or the old list, and both are changed."
   ]
  },
  {
   "cell_type": "code",
   "execution_count": 4,
   "id": "8f62dca9-6d48-4cdd-b9eb-c7e9d4b08424",
   "metadata": {},
   "outputs": [
    {
     "data": {
      "text/plain": [
       "['banana', 'papaya', 'lychee', 'paw paw']"
      ]
     },
     "execution_count": 4,
     "metadata": {},
     "output_type": "execute_result"
    }
   ],
   "source": [
    "new_fruits_list.remove('strawberry')\n",
    "\n",
    "new_fruits_list"
   ]
  },
  {
   "cell_type": "markdown",
   "id": "1895f611-b573-46ac-a098-a0e893a00928",
   "metadata": {},
   "source": [
    "`.remove()` took out the \"strawberry\" element. It's not in new_fruits_list anymore. But look, it's gone from original_fruits_list too."
   ]
  },
  {
   "cell_type": "code",
   "execution_count": 5,
   "id": "3616dae3-295a-4e68-9240-42c13112fd2e",
   "metadata": {},
   "outputs": [
    {
     "data": {
      "text/plain": [
       "['banana', 'papaya', 'lychee', 'paw paw']"
      ]
     },
     "execution_count": 5,
     "metadata": {},
     "output_type": "execute_result"
    }
   ],
   "source": [
    "original_fruits_list"
   ]
  },
  {
   "cell_type": "markdown",
   "id": "031f1b4c-ab33-486b-961f-3ba99239faaf",
   "metadata": {},
   "source": [
    "We didn't even do `.remove(\"strawberry\")` on it, and it was the same. Anything else we do to it, will happen to the other list too.\n",
    "\n",
    "What if we create two lists that are the same?"
   ]
  },
  {
   "cell_type": "code",
   "execution_count": 6,
   "id": "39b3995e-e155-462d-9a78-3706e933049a",
   "metadata": {},
   "outputs": [
    {
     "name": "stdout",
     "output_type": "stream",
     "text": [
      "\n",
      "    129998932112448\n",
      "    vs\n",
      "    129998932111040\n",
      "    \n"
     ]
    }
   ],
   "source": [
    "# NBVAL_IGNORE_OUTPUT\n",
    "\n",
    "games_list_one = ['Poppy', 'Candy', 'Sudoku', 'Halo']\n",
    "games_list_two = ['Poppy', 'Candy', 'Sudoku', 'Halo']\n",
    "\n",
    "print(\n",
    "    f\"\"\"\n",
    "    {id(games_list_one)}\n",
    "    vs\n",
    "    {id(games_list_two)}\n",
    "    \"\"\"\n",
    ")"
   ]
  },
  {
   "cell_type": "code",
   "execution_count": 7,
   "id": "6b64ef99-0e57-4ed7-b683-c197b5239bdc",
   "metadata": {},
   "outputs": [
    {
     "data": {
      "text/plain": [
       "False"
      ]
     },
     "execution_count": 7,
     "metadata": {},
     "output_type": "execute_result"
    }
   ],
   "source": [
    "id(games_list_one) == id(games_list_two)"
   ]
  },
  {
   "cell_type": "markdown",
   "id": "14b1e398-8996-4098-946b-deed49ec5c92",
   "metadata": {},
   "source": [
    "They're different. If we do something to one, it doesn't happen to the other."
   ]
  },
  {
   "cell_type": "code",
   "execution_count": 8,
   "id": "7e4f7045-ce65-41a0-bfa3-1e7a7aca8729",
   "metadata": {},
   "outputs": [
    {
     "name": "stdout",
     "output_type": "stream",
     "text": [
      "\n",
      "    List values:\n",
      "    'one': ['Poppy', 'Candy', 'Sudoku']\n",
      "    'two': ['Poppy', 'Candy', 'Sudoku', 'Halo', 'RE']\n",
      "    \n"
     ]
    }
   ],
   "source": [
    "games_list_one.pop()\n",
    "games_list_two.append(\"RE\")\n",
    "\n",
    "print(\n",
    "    f\"\"\"\n",
    "    List values:\n",
    "    'one': {games_list_one}\n",
    "    'two': {games_list_two}\n",
    "    \"\"\"\n",
    ")"
   ]
  },
  {
   "cell_type": "markdown",
   "id": "904e2ec4-a4a0-469c-8762-a56384dcf8fc",
   "metadata": {},
   "source": [
    "`.pop()` took off the last element in the list. `.append(\"RE\")` added \"RE\" to the end of the list. What we did to one list didn't happen to the other. They were created separately and not assigned to each other.\n",
    "\n",
    "But if we assign one to the other, then they have that shared reference that means changing one changes the other. See the next cell."
   ]
  },
  {
   "cell_type": "code",
   "execution_count": 9,
   "id": "0ec923f1-7eda-4e2f-8a9d-0b4fe90fa32b",
   "metadata": {},
   "outputs": [
    {
     "name": "stdout",
     "output_type": "stream",
     "text": [
      "\n",
      "    129998932111040\n",
      "    vs\n",
      "    129998932111040\n",
      "    \n"
     ]
    }
   ],
   "source": [
    "# NBVAL_IGNORE_OUTPUT\n",
    "\n",
    "games_list_one = games_list_two\n",
    "\n",
    "print(\n",
    "    f\"\"\"\n",
    "    {id(games_list_one)}\n",
    "    vs\n",
    "    {id(games_list_two)}\n",
    "    \"\"\"\n",
    ")"
   ]
  },
  {
   "cell_type": "code",
   "execution_count": 10,
   "id": "72b52f34-1095-4cc1-8f1e-67f811e0d82e",
   "metadata": {},
   "outputs": [
    {
     "data": {
      "text/plain": [
       "True"
      ]
     },
     "execution_count": 10,
     "metadata": {},
     "output_type": "execute_result"
    }
   ],
   "source": [
    "id(games_list_one) == id(games_list_two)"
   ]
  },
  {
   "cell_type": "markdown",
   "id": "5412a192-865a-4c23-96de-63bad3224aaf",
   "metadata": {},
   "source": [
    "They're the same list."
   ]
  },
  {
   "cell_type": "code",
   "execution_count": 11,
   "id": "33b67a33-d68d-490f-ac73-a20b2fd895f8",
   "metadata": {},
   "outputs": [
    {
     "name": "stdout",
     "output_type": "stream",
     "text": [
      "\n",
      "    List values:\n",
      "    'one': ['Poppy', 'Candy', 'Sudoku', 'Halo', 'RE']\n",
      "    'two': ['Poppy', 'Candy', 'Sudoku', 'Halo', 'RE']\n",
      "    \n"
     ]
    }
   ],
   "source": [
    "print(\n",
    "    f\"\"\"\n",
    "    List values:\n",
    "    'one': {games_list_one}\n",
    "    'two': {games_list_two}\n",
    "    \"\"\"\n",
    ")"
   ]
  },
  {
   "cell_type": "markdown",
   "id": "040eda52-2f1b-4451-93e5-5ecd2535709b",
   "metadata": {},
   "source": [
    "Now they're the same and if we do something to one, it happens to the other. I'll change games_list_two by appending to it, and check the other list, games_list_one."
   ]
  },
  {
   "cell_type": "code",
   "execution_count": 12,
   "id": "8dce4ee5-95cb-48bf-bca2-2c5546551f3e",
   "metadata": {},
   "outputs": [
    {
     "name": "stdout",
     "output_type": "stream",
     "text": [
      "['Poppy', 'Candy', 'Sudoku', 'Halo', 'RE', 'Dandy']\n"
     ]
    }
   ],
   "source": [
    "games_list_two.append(\"Dandy\")\n",
    "\n",
    "print(games_list_one)"
   ]
  },
  {
   "cell_type": "markdown",
   "id": "19bdb6b3-89a3-42c3-a72e-2a57fdfb509e",
   "metadata": {},
   "source": [
    "Next, I'll change games_list_one by appending to it, and check the other list, games_list_two."
   ]
  },
  {
   "cell_type": "code",
   "execution_count": 13,
   "id": "c69baeeb-65a0-4ac7-9363-9514d2eec56f",
   "metadata": {},
   "outputs": [
    {
     "name": "stdout",
     "output_type": "stream",
     "text": [
      "['Poppy', 'Candy', 'Sudoku', 'Halo', 'RE', 'Dandy', 'Rainbow']\n"
     ]
    }
   ],
   "source": [
    "games_list_one.append(\"Rainbow\")\n",
    "\n",
    "print(games_list_two)"
   ]
  },
  {
   "cell_type": "markdown",
   "id": "51f3172a-1f4e-4132-a3c6-289b7301f075",
   "metadata": {},
   "source": [
    "## `.copy()\n",
    "\n",
    "One last note about this for lists. There is a `.copy()` method that you can use also. The Python docs for list say that it creates a `shallow copy`, the shared reference where the two lists are basically the same.\n",
    "\n",
    "However, the behavior below shows that it's creating a `deep copy`, which means you get a new list with `.copy()`. Be cautious when copying lists. You shouldn't need to do it very often."
   ]
  },
  {
   "cell_type": "code",
   "execution_count": 14,
   "id": "5dfebb56-7681-4f3f-af85-6b1d15f10c13",
   "metadata": {},
   "outputs": [
    {
     "name": "stdout",
     "output_type": "stream",
     "text": [
      "\n",
      "    129998932111040\n",
      "    vs\n",
      "    129998932115328\n",
      "    \n"
     ]
    }
   ],
   "source": [
    "# NBVAL_IGNORE_OUTPUT\n",
    "\n",
    "games_list_three = games_list_two.copy()\n",
    "\n",
    "print(\n",
    "    f\"\"\"\n",
    "    {id(games_list_two)}\n",
    "    vs\n",
    "    {id(games_list_three)}\n",
    "    \"\"\"\n",
    ")"
   ]
  },
  {
   "cell_type": "code",
   "execution_count": 15,
   "id": "6919fa59-c91c-4352-a8bd-79095197c2d2",
   "metadata": {},
   "outputs": [
    {
     "data": {
      "text/plain": [
       "False"
      ]
     },
     "execution_count": 15,
     "metadata": {},
     "output_type": "execute_result"
    }
   ],
   "source": [
    "id(games_list_two) == id(games_list_three)"
   ]
  },
  {
   "cell_type": "markdown",
   "id": "ad47b5b3-3542-4f2b-be59-efdc0e8def3c",
   "metadata": {},
   "source": [
    "False means they're different lists."
   ]
  },
  {
   "cell_type": "code",
   "execution_count": 16,
   "id": "1831bcc5-cf9d-457b-8bf1-65a2b1d6d36b",
   "metadata": {},
   "outputs": [
    {
     "name": "stdout",
     "output_type": "stream",
     "text": [
      "\n",
      "    List values before doing anything:\n",
      "    ['Poppy', 'Candy', 'Sudoku', 'Halo', 'RE', 'Dandy', 'Rainbow']\n",
      "    ['Poppy', 'Candy', 'Sudoku', 'Halo', 'RE', 'Dandy', 'Rainbow']\n",
      "    \n"
     ]
    }
   ],
   "source": [
    "print(\n",
    "    f\"\"\"\n",
    "    List values before doing anything:\n",
    "    {games_list_two}\n",
    "    {games_list_three}\n",
    "    \"\"\"\n",
    ")"
   ]
  },
  {
   "cell_type": "code",
   "execution_count": 17,
   "id": "b9596a61-f258-478f-adaa-59a4cb71c1b6",
   "metadata": {},
   "outputs": [
    {
     "name": "stdout",
     "output_type": "stream",
     "text": [
      "\n",
      "    List values after removing the last item from \"three\":\n",
      "    ['Poppy', 'Candy', 'Sudoku', 'Halo', 'RE', 'Dandy', 'Rainbow']\n",
      "    ['Poppy', 'Candy', 'Sudoku', 'Halo', 'RE', 'Dandy']\n",
      "    \n"
     ]
    }
   ],
   "source": [
    "games_list_three.pop()\n",
    "\n",
    "print(\n",
    "    f\"\"\"\n",
    "    List values after removing the last item from \"three\":\n",
    "    {games_list_two}\n",
    "    {games_list_three}\n",
    "    \"\"\"\n",
    ")"
   ]
  },
  {
   "cell_type": "markdown",
   "id": "a452cb11-854c-4f02-b1ff-1680b7bc2951",
   "metadata": {},
   "source": [
    "## List return\n",
    "\n",
    "This section is to point out what you might've noticed. When I used `.remove()`, `.pop()`, `.append()`, and `.reverse()`, I didn't assign it to anything, not even itself. This is like looking at the sun:\n",
    "\n",
    "~~list = list.remove()~~\n",
    "\n",
    "Don't look! That's not how you do it.\n",
    "\n",
    "Lists don't return anything, so most of their methods just change the list `in place`. The notebook cells also aren't showing the new list, since it doesn't return anything, even if we `print()`. We have to print the list itself after we do an operation to see what happened."
   ]
  },
  {
   "cell_type": "code",
   "execution_count": 18,
   "id": "98b4d8b5-7c53-4839-ae79-efa49e5dce0c",
   "metadata": {},
   "outputs": [
    {
     "name": "stdout",
     "output_type": "stream",
     "text": [
      "None\n"
     ]
    }
   ],
   "source": [
    "numbers_list = ['one', 'two', 'three', 'four']\n",
    "\n",
    "print(numbers_list.append(\"five\"))"
   ]
  },
  {
   "cell_type": "markdown",
   "id": "0169078d-94d2-4e6e-a773-d6d73e9c3da3",
   "metadata": {},
   "source": [
    "Another thing is the method will change the list even if you do it inside a `print()` statement. That doesn't always happen"
   ]
  },
  {
   "cell_type": "code",
   "execution_count": 19,
   "id": "3c0ed8dc-5327-4dc3-8785-e8ef6e449609",
   "metadata": {},
   "outputs": [
    {
     "data": {
      "text/plain": [
       "['one', 'two', 'three', 'four', 'five']"
      ]
     },
     "execution_count": 19,
     "metadata": {},
     "output_type": "execute_result"
    }
   ],
   "source": [
    "numbers_list"
   ]
  },
  {
   "cell_type": "markdown",
   "id": "492cf872-01fa-429a-a300-40ba152121b2",
   "metadata": {},
   "source": [
    "The first print above showed that the list method doesn't return anything. The other cell printed the list to show the new number \"five\" added on even though we did it within a `print()` statement.\n",
    "\n",
    "## List methods\n",
    "\n",
    "For the next set of examples, I'm going to provide a list of random computer words, and we'll use these methods on it."
   ]
  },
  {
   "cell_type": "code",
   "execution_count": 20,
   "id": "828cc2fe-5bd0-4a44-ac29-2ef9273b06f2",
   "metadata": {},
   "outputs": [
    {
     "data": {
      "text/plain": [
       "['bus', 'RAM', 'cache', 'register', 'clock', 'binary']"
      ]
     },
     "execution_count": 20,
     "metadata": {},
     "output_type": "execute_result"
    }
   ],
   "source": [
    "computer_words = ['bus', 'RAM', 'cache', 'register', 'clock', 'binary']\n",
    "\n",
    "computer_words"
   ]
  },
  {
   "cell_type": "markdown",
   "id": "568b671e-1186-4de7-925c-e10559704034",
   "metadata": {},
   "source": [
    "### `.append()`\n",
    "\n",
    "`.append()` adds something to the end of a list."
   ]
  },
  {
   "cell_type": "code",
   "execution_count": 21,
   "id": "66198c29-97b3-4a86-bea7-424cab99f573",
   "metadata": {},
   "outputs": [
    {
     "data": {
      "text/plain": [
       "['bus', 'RAM', 'cache', 'register', 'clock', 'binary', 'kernel']"
      ]
     },
     "execution_count": 21,
     "metadata": {},
     "output_type": "execute_result"
    }
   ],
   "source": [
    "computer_words.append(\"kernel\")\n",
    "\n",
    "computer_words"
   ]
  },
  {
   "cell_type": "markdown",
   "id": "c59d1716-13e9-450e-a36c-c7f9e0c9dab0",
   "metadata": {},
   "source": [
    "### `.extend()`\n",
    "\n",
    "Next, I'll make another list and I want to bring the two lists together. This is a method I use often.\n",
    "\n",
    "Note I make an empty list also. When I bring the two individual lists together, I want to give the new list a new name. The new name is meaningful and lets me know it's a different list."
   ]
  },
  {
   "cell_type": "code",
   "execution_count": 22,
   "id": "c4e4a9af-74c2-4d09-a896-3984b4fe5dd3",
   "metadata": {},
   "outputs": [
    {
     "name": "stdout",
     "output_type": "stream",
     "text": [
      "\n",
      "    []\n",
      "    ['binary', 'string', 'collection', 'set']\n",
      "    \n"
     ]
    }
   ],
   "source": [
    "hardware_software_words = []\n",
    "\n",
    "programming_words = ['binary', 'string', 'collection', 'set']\n",
    "\n",
    "print(\n",
    "    f\"\"\"\n",
    "    {hardware_software_words}\n",
    "    {programming_words}\n",
    "    \"\"\"\n",
    ")"
   ]
  },
  {
   "cell_type": "markdown",
   "id": "0bf45bc1-c87e-4a27-8694-f5d2afa233e7",
   "metadata": {},
   "source": [
    "`.extend()` combines the two lists. One just happens to be empty."
   ]
  },
  {
   "cell_type": "code",
   "execution_count": 23,
   "id": "c66b0b2f-db72-4028-9864-373acc5a1239",
   "metadata": {},
   "outputs": [
    {
     "data": {
      "text/plain": [
       "['binary', 'string', 'collection', 'set']"
      ]
     },
     "execution_count": 23,
     "metadata": {},
     "output_type": "execute_result"
    }
   ],
   "source": [
    "hardware_software_words.extend(programming_words)\n",
    "\n",
    "hardware_software_words"
   ]
  },
  {
   "cell_type": "markdown",
   "id": "27f50b10-0a3c-4ba0-b7be-ddfe2bb0beec",
   "metadata": {},
   "source": [
    "`.extend()` combines the two populated lists. You see the items/elements are all in the one list.\n",
    "\n",
    "We had to add the lists in one at a time. We can't add them at the same time."
   ]
  },
  {
   "cell_type": "code",
   "execution_count": 24,
   "id": "8a29a799-53b5-42f8-9949-ac2bec653124",
   "metadata": {},
   "outputs": [
    {
     "data": {
      "text/plain": [
       "['binary',\n",
       " 'string',\n",
       " 'collection',\n",
       " 'set',\n",
       " 'bus',\n",
       " 'RAM',\n",
       " 'cache',\n",
       " 'register',\n",
       " 'clock',\n",
       " 'binary',\n",
       " 'kernel']"
      ]
     },
     "execution_count": 24,
     "metadata": {},
     "output_type": "execute_result"
    }
   ],
   "source": [
    "hardware_software_words.extend(computer_words)\n",
    "\n",
    "hardware_software_words"
   ]
  },
  {
   "cell_type": "markdown",
   "id": "2643b681-ad3e-47ad-9f28-ee75110cdaa7",
   "metadata": {},
   "source": [
    "Now we have a list of all the words together, and our new list name is still descriptive for what's in it.\n",
    "\n",
    "The three lists we just dealt with are separate in memory. They do not have a shared reference. When we do something to one list, it's only done to that one list.\n",
    "\n",
    "### `len()`\n",
    "\n",
    "The `len()` function isn't specific to list, you can use this on many things. This will tell you how long your list is. It doesn't change the list, and it returns a number."
   ]
  },
  {
   "cell_type": "code",
   "execution_count": 25,
   "id": "bc06fbad-cd39-477b-89af-234f44877bc5",
   "metadata": {},
   "outputs": [
    {
     "data": {
      "text/plain": [
       "11"
      ]
     },
     "execution_count": 25,
     "metadata": {},
     "output_type": "execute_result"
    }
   ],
   "source": [
    "len(hardware_software_words)"
   ]
  },
  {
   "cell_type": "markdown",
   "id": "6b7e94d1-c5c2-48f7-b672-660e25fabe3d",
   "metadata": {},
   "source": [
    "If you want to know the last index in the list, you can subtract 1 from this."
   ]
  },
  {
   "cell_type": "code",
   "execution_count": 26,
   "id": "b3cd4eff-fdeb-4b06-bec9-bf43df715031",
   "metadata": {},
   "outputs": [
    {
     "data": {
      "text/plain": [
       "10"
      ]
     },
     "execution_count": 26,
     "metadata": {},
     "output_type": "execute_result"
    }
   ],
   "source": [
    "idx = len(hardware_software_words) - 1\n",
    "\n",
    "idx"
   ]
  },
  {
   "cell_type": "code",
   "execution_count": 27,
   "id": "2c8936af-c35a-48cc-8b88-0c3e8fb917c8",
   "metadata": {},
   "outputs": [
    {
     "data": {
      "text/plain": [
       "'kernel'"
      ]
     },
     "execution_count": 27,
     "metadata": {},
     "output_type": "execute_result"
    }
   ],
   "source": [
    "hardware_software_words[idx]"
   ]
  },
  {
   "cell_type": "markdown",
   "id": "74879d5b-155e-4d47-8389-5f71e5bad2f1",
   "metadata": {},
   "source": [
    "### `.count()`\n",
    "\n",
    "This will tell us how many times an item appears in a list.\n",
    "\n",
    "This doesn't change our list. It just tells us how many items are in it. It returns a number."
   ]
  },
  {
   "cell_type": "code",
   "execution_count": 28,
   "id": "7ecdfb90-4498-4394-9109-34fd5e95d4de",
   "metadata": {},
   "outputs": [
    {
     "data": {
      "text/plain": [
       "2"
      ]
     },
     "execution_count": 28,
     "metadata": {},
     "output_type": "execute_result"
    }
   ],
   "source": [
    "hardware_software_words.count('binary')"
   ]
  },
  {
   "cell_type": "markdown",
   "id": "ff7f50d7-c693-4631-991c-fa35f4150c9e",
   "metadata": {},
   "source": [
    "I'll add 'binary' to the list again and see how many times it appears in the list."
   ]
  },
  {
   "cell_type": "code",
   "execution_count": 29,
   "id": "fe89fdc4-f16c-4a1d-bff8-a23390e511d7",
   "metadata": {},
   "outputs": [],
   "source": [
    "hardware_software_words.append('binary')"
   ]
  },
  {
   "cell_type": "code",
   "execution_count": 30,
   "id": "401e9838-44d5-4892-bb9b-d7faf87ba2ec",
   "metadata": {},
   "outputs": [
    {
     "data": {
      "text/plain": [
       "3"
      ]
     },
     "execution_count": 30,
     "metadata": {},
     "output_type": "execute_result"
    }
   ],
   "source": [
    "hardware_software_words.count('binary')"
   ]
  },
  {
   "cell_type": "markdown",
   "id": "e652b694-7046-40b1-84a0-1cd18bf81a35",
   "metadata": {},
   "source": [
    "### `.sort()`\n",
    "\n",
    "Let's sort our list in alphabetical order. If we had numbers, they would be sorted in numerical order."
   ]
  },
  {
   "cell_type": "code",
   "execution_count": 31,
   "id": "49f42a0f-f956-422c-a12b-18ba9d5ae6c8",
   "metadata": {},
   "outputs": [
    {
     "data": {
      "text/plain": [
       "['RAM',\n",
       " 'binary',\n",
       " 'binary',\n",
       " 'binary',\n",
       " 'bus',\n",
       " 'cache',\n",
       " 'clock',\n",
       " 'collection',\n",
       " 'kernel',\n",
       " 'register',\n",
       " 'set',\n",
       " 'string']"
      ]
     },
     "execution_count": 31,
     "metadata": {},
     "output_type": "execute_result"
    }
   ],
   "source": [
    "hardware_software_words.sort()\n",
    "\n",
    "hardware_software_words"
   ]
  },
  {
   "cell_type": "markdown",
   "id": "3f1bb2ef-acab-4b73-bcbe-c4bb1e9c66c1",
   "metadata": {},
   "source": [
    "Wait, what? 'RAM' is first! Python's default behavior (some languages are like this) is to sort capitalized letters first.\n",
    "\n",
    "There's an option in `.sort()` that will fix this."
   ]
  },
  {
   "cell_type": "code",
   "execution_count": 32,
   "id": "5d4e3e46-aeba-4520-b338-542bffb705df",
   "metadata": {},
   "outputs": [
    {
     "data": {
      "text/plain": [
       "['binary',\n",
       " 'binary',\n",
       " 'binary',\n",
       " 'bus',\n",
       " 'cache',\n",
       " 'clock',\n",
       " 'collection',\n",
       " 'kernel',\n",
       " 'RAM',\n",
       " 'register',\n",
       " 'set',\n",
       " 'string']"
      ]
     },
     "execution_count": 32,
     "metadata": {},
     "output_type": "execute_result"
    }
   ],
   "source": [
    "hardware_software_words.sort(key=str.lower)\n",
    "\n",
    "hardware_software_words"
   ]
  },
  {
   "cell_type": "markdown",
   "id": "2db5e796-307b-4c22-a748-e4764e20c662",
   "metadata": {},
   "source": [
    "Let's do something crazy with that. Let's make our key the number of letters in each word.\n",
    "\n",
    "You don't do key=len(str), you just put in `len` the name of the function without the parens `()`."
   ]
  },
  {
   "cell_type": "code",
   "execution_count": 33,
   "id": "6f9ed8a1-a19f-46b1-96c2-2b2cd9465c1f",
   "metadata": {},
   "outputs": [
    {
     "data": {
      "text/plain": [
       "['bus',\n",
       " 'RAM',\n",
       " 'set',\n",
       " 'cache',\n",
       " 'clock',\n",
       " 'binary',\n",
       " 'binary',\n",
       " 'binary',\n",
       " 'kernel',\n",
       " 'string',\n",
       " 'register',\n",
       " 'collection']"
      ]
     },
     "execution_count": 33,
     "metadata": {},
     "output_type": "execute_result"
    }
   ],
   "source": [
    "hardware_software_words.sort(key=len)\n",
    "\n",
    "hardware_software_words"
   ]
  },
  {
   "cell_type": "markdown",
   "id": "e186b5ee-6a5a-44bf-ac53-d46aa84b5717",
   "metadata": {},
   "source": [
    "### `.insert()`\n",
    "\n",
    "Let's sort the list back in alphabetical order and insert a word in there where it belongs. Let's choose the word 'lambda'.\n",
    "\n",
    "First sort the list again."
   ]
  },
  {
   "cell_type": "code",
   "execution_count": 34,
   "id": "e02f352c-de42-4b28-abfb-6c87d74f71a1",
   "metadata": {},
   "outputs": [
    {
     "data": {
      "text/plain": [
       "['binary',\n",
       " 'binary',\n",
       " 'binary',\n",
       " 'bus',\n",
       " 'cache',\n",
       " 'clock',\n",
       " 'collection',\n",
       " 'kernel',\n",
       " 'RAM',\n",
       " 'register',\n",
       " 'set',\n",
       " 'string']"
      ]
     },
     "execution_count": 34,
     "metadata": {},
     "output_type": "execute_result"
    }
   ],
   "source": [
    "hardware_software_words.sort(key=str.lower)\n",
    "\n",
    "hardware_software_words"
   ]
  },
  {
   "cell_type": "markdown",
   "id": "c7030d29-7394-419d-a496-e1f2cf60c8a5",
   "metadata": {},
   "source": [
    "That sorted the list in alphabetical order. Now we insert a word."
   ]
  },
  {
   "cell_type": "code",
   "execution_count": 35,
   "id": "e9ea91c9-4d75-460d-9a16-f0b1cdf448c1",
   "metadata": {},
   "outputs": [
    {
     "data": {
      "text/plain": [
       "['binary',\n",
       " 'binary',\n",
       " 'binary',\n",
       " 'bus',\n",
       " 'cache',\n",
       " 'clock',\n",
       " 'collection',\n",
       " 'kernel',\n",
       " 'lambda',\n",
       " 'RAM',\n",
       " 'register',\n",
       " 'set',\n",
       " 'string']"
      ]
     },
     "execution_count": 35,
     "metadata": {},
     "output_type": "execute_result"
    }
   ],
   "source": [
    "hardware_software_words.insert(8, 'lambda')\n",
    "\n",
    "hardware_software_words"
   ]
  },
  {
   "cell_type": "markdown",
   "id": "c581235e-4f68-4070-9afd-aef0c38a6591",
   "metadata": {},
   "source": [
    "### `.index()`\n",
    "\n",
    "I inserted that to its place by looking at the list with my eyes.\n",
    "\n",
    "I usually don't want to do this type of thing. I want the computer to find and use the index.\n",
    "\n",
    "Let's use another list method to find the index of the word that starts with 'k', 'kernel', and add 'lambda' after it.\n",
    "\n",
    "We can find a word that `.startswith('k')` with a loop that we'll learn in a future lesson. So we're still doing this manually a little bit right now until we learn loops."
   ]
  },
  {
   "cell_type": "code",
   "execution_count": 36,
   "id": "b6524208-8b03-42b6-9ee2-7afabe765065",
   "metadata": {},
   "outputs": [
    {
     "data": {
      "text/plain": [
       "7"
      ]
     },
     "execution_count": 36,
     "metadata": {},
     "output_type": "execute_result"
    }
   ],
   "source": [
    "hardware_software_words.index('kernel')"
   ]
  },
  {
   "cell_type": "markdown",
   "id": "8bd79491-014f-4a9b-859a-3ae5bb42644c",
   "metadata": {},
   "source": [
    "Add 'lambda' in the list. Notice below we find the index where 'kernel' is and add 1 to it. We want to add 'lambda' at the location after 'kernel'."
   ]
  },
  {
   "cell_type": "code",
   "execution_count": 37,
   "id": "aa9dc1e4-2ab0-461d-ae3a-ea8a276ce8e0",
   "metadata": {},
   "outputs": [
    {
     "data": {
      "text/plain": [
       "['binary',\n",
       " 'binary',\n",
       " 'binary',\n",
       " 'bus',\n",
       " 'cache',\n",
       " 'clock',\n",
       " 'collection',\n",
       " 'kernel',\n",
       " 'lambda',\n",
       " 'lambda',\n",
       " 'RAM',\n",
       " 'register',\n",
       " 'set',\n",
       " 'string']"
      ]
     },
     "execution_count": 37,
     "metadata": {},
     "output_type": "execute_result"
    }
   ],
   "source": [
    "idx = hardware_software_words.index('kernel') + 1\n",
    "\n",
    "hardware_software_words.insert(idx, 'lambda')\n",
    "\n",
    "hardware_software_words"
   ]
  },
  {
   "cell_type": "markdown",
   "id": "4ebe395b-2c6d-44b4-9ce1-06e0cb58807a",
   "metadata": {},
   "source": [
    "### `.reverse()`\n",
    "\n",
    "We can reverse the order of the list. Notice it sorted in regular expected alphabetical order. 'RAM' is in with 'register' where it should be."
   ]
  },
  {
   "cell_type": "code",
   "execution_count": 38,
   "id": "311b3f5a-96f5-4bf6-a8ed-658801c8c84c",
   "metadata": {},
   "outputs": [
    {
     "data": {
      "text/plain": [
       "['string',\n",
       " 'set',\n",
       " 'register',\n",
       " 'RAM',\n",
       " 'lambda',\n",
       " 'lambda',\n",
       " 'kernel',\n",
       " 'collection',\n",
       " 'clock',\n",
       " 'cache',\n",
       " 'bus',\n",
       " 'binary',\n",
       " 'binary',\n",
       " 'binary']"
      ]
     },
     "execution_count": 38,
     "metadata": {},
     "output_type": "execute_result"
    }
   ],
   "source": [
    "hardware_software_words.reverse()\n",
    "\n",
    "hardware_software_words"
   ]
  },
  {
   "cell_type": "markdown",
   "id": "4ccdc120-2d31-443a-9f48-928d14e1c900",
   "metadata": {},
   "source": [
    "We can also use `.sort()` to reverse the list. Note we need to use these two `keyword arguments`, `key` and `reverse`. If we don't include `key=str.lower` here, it'll put 'RAM' at the end."
   ]
  },
  {
   "cell_type": "code",
   "execution_count": 39,
   "id": "200f1f2f-8495-4cde-b52f-cda03bfe1149",
   "metadata": {},
   "outputs": [
    {
     "data": {
      "text/plain": [
       "['string',\n",
       " 'set',\n",
       " 'register',\n",
       " 'RAM',\n",
       " 'lambda',\n",
       " 'lambda',\n",
       " 'kernel',\n",
       " 'collection',\n",
       " 'clock',\n",
       " 'cache',\n",
       " 'bus',\n",
       " 'binary',\n",
       " 'binary',\n",
       " 'binary']"
      ]
     },
     "execution_count": 39,
     "metadata": {},
     "output_type": "execute_result"
    }
   ],
   "source": [
    "hardware_software_words.sort(key=str.lower, reverse=True)\n",
    "\n",
    "hardware_software_words"
   ]
  },
  {
   "cell_type": "markdown",
   "id": "2f2f5a13-aeba-438a-aee6-04bf25fd1ba1",
   "metadata": {},
   "source": [
    "### `.remove()`\n",
    "\n",
    "Now we have two functions left that both remove things from the list.\n",
    "\n",
    "`.remove()` will remove something by name."
   ]
  },
  {
   "cell_type": "code",
   "execution_count": 40,
   "id": "92a078ab-a2a9-435d-94ba-3c2716f72c7a",
   "metadata": {},
   "outputs": [
    {
     "data": {
      "text/plain": [
       "['string',\n",
       " 'set',\n",
       " 'register',\n",
       " 'RAM',\n",
       " 'lambda',\n",
       " 'lambda',\n",
       " 'kernel',\n",
       " 'collection',\n",
       " 'cache',\n",
       " 'bus',\n",
       " 'binary',\n",
       " 'binary',\n",
       " 'binary']"
      ]
     },
     "execution_count": 40,
     "metadata": {},
     "output_type": "execute_result"
    }
   ],
   "source": [
    "hardware_software_words.remove(\"clock\")\n",
    "\n",
    "hardware_software_words"
   ]
  },
  {
   "cell_type": "markdown",
   "id": "1f531b98-5f5d-4597-96ec-8a2e50990691",
   "metadata": {},
   "source": [
    "What happens if we remove one of the words that appears more than once? It removes the first one it sees, and then it's done."
   ]
  },
  {
   "cell_type": "code",
   "execution_count": 41,
   "id": "5c35a992-bf6c-4c5d-b071-2f31c0fe33d8",
   "metadata": {},
   "outputs": [
    {
     "data": {
      "text/plain": [
       "['string',\n",
       " 'set',\n",
       " 'register',\n",
       " 'RAM',\n",
       " 'lambda',\n",
       " 'lambda',\n",
       " 'kernel',\n",
       " 'collection',\n",
       " 'cache',\n",
       " 'bus',\n",
       " 'binary',\n",
       " 'binary']"
      ]
     },
     "execution_count": 41,
     "metadata": {},
     "output_type": "execute_result"
    }
   ],
   "source": [
    "hardware_software_words.remove(\"binary\")\n",
    "\n",
    "hardware_software_words"
   ]
  },
  {
   "cell_type": "markdown",
   "id": "e253a0e5-3d62-425f-8476-d2b29686c9d0",
   "metadata": {},
   "source": [
    "### `.pop()`\n",
    "\n",
    "`.pop()` will \"pop\" or remove the last item in the list."
   ]
  },
  {
   "cell_type": "code",
   "execution_count": 42,
   "id": "338843b2-5894-4e66-bbe7-e53ffb236520",
   "metadata": {},
   "outputs": [
    {
     "data": {
      "text/plain": [
       "['string',\n",
       " 'set',\n",
       " 'register',\n",
       " 'RAM',\n",
       " 'lambda',\n",
       " 'lambda',\n",
       " 'kernel',\n",
       " 'collection',\n",
       " 'cache',\n",
       " 'bus',\n",
       " 'binary']"
      ]
     },
     "execution_count": 42,
     "metadata": {},
     "output_type": "execute_result"
    }
   ],
   "source": [
    "hardware_software_words.pop()\n",
    "\n",
    "hardware_software_words"
   ]
  },
  {
   "cell_type": "markdown",
   "id": "ee3e5c38-9ef7-4329-b7a9-53402daf8bdf",
   "metadata": {},
   "source": [
    "It will also take an index! Let's remove the first item in the list, which is at index 0."
   ]
  },
  {
   "cell_type": "code",
   "execution_count": 43,
   "id": "f99d7711-7b2f-429b-b8d1-dc35fa192fca",
   "metadata": {},
   "outputs": [
    {
     "data": {
      "text/plain": [
       "['set',\n",
       " 'register',\n",
       " 'RAM',\n",
       " 'lambda',\n",
       " 'lambda',\n",
       " 'kernel',\n",
       " 'collection',\n",
       " 'cache',\n",
       " 'bus',\n",
       " 'binary']"
      ]
     },
     "execution_count": 43,
     "metadata": {},
     "output_type": "execute_result"
    }
   ],
   "source": [
    "hardware_software_words.pop(0)\n",
    "\n",
    "hardware_software_words"
   ]
  },
  {
   "cell_type": "markdown",
   "id": "85aeae4c-979d-4951-80b7-0a3005ebbadb",
   "metadata": {},
   "source": [
    "## Conclusion\n",
    "\n",
    "In conclusion, we went over a lot of methods that come from the list class. You can add, remove, and sort lists now. The [lists and strings lesson](/docs/python/foundations/lists-and-strings/) went over how to access things in a list."
   ]
  }
 ],
 "metadata": {
  "kernelspec": {
   "display_name": "Python 3 (ipykernel)",
   "language": "python",
   "name": "python3"
  },
  "language_info": {
   "codemirror_mode": {
    "name": "ipython",
    "version": 3
   },
   "file_extension": ".py",
   "mimetype": "text/x-python",
   "name": "python",
   "nbconvert_exporter": "python",
   "pygments_lexer": "ipython3",
   "version": "3.10.12"
  }
 },
 "nbformat": 4,
 "nbformat_minor": 5
}
