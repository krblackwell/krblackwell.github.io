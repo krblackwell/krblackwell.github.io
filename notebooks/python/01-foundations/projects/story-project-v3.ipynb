{
 "cells": [
  {
   "cell_type": "markdown",
   "id": "5b38a955-bd8c-4fe1-ba18-3915c5b48fd5",
   "metadata": {},
   "source": [
    "<!-- markdownlint-disable-next-line MD041 -->\n",
    "[Go back to Home](/) - [Go to lesson page](/docs/python/foundations/projects/story-project-v3) - [Go to Foundations section](/docs/python/foundations)"
   ]
  },
  {
   "cell_type": "markdown",
   "id": "2b57629d-51fb-461d-8346-ef6a012aacf3",
   "metadata": {},
   "source": [
    "# Story Project v3\n",
    "\n",
    "We created a \"Silly Story\" in [Story Project v1](/docs/python/foundations/projects/story-project-v1), [Story Project v2](/docs/python/foundations/projects/story-project-v2), and we're going to expand on that with dictionaries.\n",
    "\n",
    "## What is a Silly Story?\n",
    "\n",
    "**(exclamation)**! Well, if **(person)** has never heard of a **(adjective)** Story, that's a shame!\n",
    "\n",
    "A Silly Story is a sentence that has some words taken out, and a friend fills them in (no peeking!).\n",
    "\n",
    "## Let's start with the full story\n",
    "\n",
    "Here is the story we used before.\n",
    "\n",
    "Pip is an axolotl who lives in a beautiful lake. Every day, Pip wakes up with a yawn, and eats his breakfast of waffles. He goes to the market. As he passes his turtle friends, they exclaim, \"What a beautiful day!\"\n",
    "\n",
    "The next cell contains the story with variables inserted, so you can add words in"
   ]
  },
  {
   "cell_type": "code",
   "execution_count": 1,
   "id": "388ca248-66c9-498b-b61f-a833548d9323",
   "metadata": {},
   "outputs": [
    {
     "name": "stdout",
     "output_type": "stream",
     "text": [
      "\n",
      "Lionel is a/an mosasaurus who lives in a bubbly blip. Every day,\n",
      "Lionel wakes up with a/an shriek, and eats his breakfast of rain.\n",
      "He goes to the bazaar.\n",
      "As he passes his bubble friends, they exclaim, \"No way!\"\n",
      "\n"
     ]
    }
   ],
   "source": [
    "name = 'Lionel'\n",
    "type_of_animal = 'mosasaurus'\n",
    "adjective1 = 'bubbly'\n",
    "noun1 = 'blip'\n",
    "noun2 = 'shriek'\n",
    "noun3 = 'rain'\n",
    "place = 'bazaar'\n",
    "type_of_animal2 = 'bubble'\n",
    "exclamation = \"No way\"\n",
    "\n",
    "print(f\"\"\"\n",
    "{name} is a/an {type_of_animal} who lives in a {adjective1} {noun1}. Every day,\n",
    "{name} wakes up with a/an {noun2}, and eats his breakfast of {noun3}.\n",
    "He goes to the {place}.\n",
    "As he passes his {type_of_animal2} friends, they exclaim, \"{exclamation}!\"\n",
    "\"\"\")"
   ]
  },
  {
   "cell_type": "markdown",
   "id": "f15c31b0-fb1f-4fb8-87fd-1f49c3e6e936",
   "metadata": {},
   "source": [
    "Now that we know about dictionaries, we can do a few things.\n",
    "\n",
    "We can create a dictionary for the input data."
   ]
  },
  {
   "cell_type": "code",
   "execution_count": 2,
   "id": "0c3fe3b9-45c1-4ea1-a055-0565991089d3",
   "metadata": {},
   "outputs": [
    {
     "data": {
      "text/plain": [
       "{'name': 'Lionel',\n",
       " 'type_of_animal': 'mosasaurus',\n",
       " 'adjective1': 'bubbly',\n",
       " 'noun1': 'blip',\n",
       " 'noun2': 'shriek',\n",
       " 'noun3': 'rain',\n",
       " 'place': 'bazaar',\n",
       " 'type_of_animal2': 'bubble',\n",
       " 'exclamation': 'No way'}"
      ]
     },
     "execution_count": 2,
     "metadata": {},
     "output_type": "execute_result"
    }
   ],
   "source": [
    "words = {\n",
    "    \"name\": \"Lionel\",\n",
    "    \"type_of_animal\": \"mosasaurus\",\n",
    "    \"adjective1\": \"bubbly\",\n",
    "    \"noun1\": \"blip\",\n",
    "    \"noun2\": \"shriek\",\n",
    "    \"noun3\": \"rain\",\n",
    "    \"place\": \"bazaar\",\n",
    "    \"type_of_animal2\": \"bubble\",\n",
    "    \"exclamation\": \"No way\"\n",
    "}\n",
    "\n",
    "words"
   ]
  },
  {
   "cell_type": "markdown",
   "id": "bea7bfb0-3f1c-47c6-9cf1-5789082ee7bd",
   "metadata": {},
   "source": [
    "And remember, we can get the values for each key like this."
   ]
  },
  {
   "cell_type": "code",
   "execution_count": 3,
   "id": "4cffe7aa-5ffb-46d9-b42d-c7673c8e25f3",
   "metadata": {},
   "outputs": [
    {
     "data": {
      "text/plain": [
       "'shriek'"
      ]
     },
     "execution_count": 3,
     "metadata": {},
     "output_type": "execute_result"
    }
   ],
   "source": [
    "words.get(\"noun2\")"
   ]
  },
  {
   "cell_type": "code",
   "execution_count": 4,
   "id": "9843bed6-4a00-42fe-9916-f189b0287cd3",
   "metadata": {},
   "outputs": [
    {
     "name": "stdout",
     "output_type": "stream",
     "text": [
      "\n",
      "Lionel is a/an mosasaurus who lives in a\n",
      "bubbly blip. Every day,\n",
      "Lionel wakes up with a/an shriek, and eats\n",
      "his breakfast of rain. He goes to the bazaar.\n",
      "As he passes his bubble friends, they exclaim,\n",
      "\"No way!\"\n",
      "\n"
     ]
    }
   ],
   "source": [
    "print(\n",
    "    f\"\"\"\n",
    "{words.get(\"name\")} is a/an {words.get(\"type_of_animal\")} who lives in a\n",
    "{words.get(\"adjective1\")} {words.get(\"noun1\")}. Every day,\n",
    "{words.get(\"name\")} wakes up with a/an {words.get(\"noun2\")}, and eats\n",
    "his breakfast of {words.get(\"noun3\")}. He goes to the {words.get(\"place\")}.\n",
    "As he passes his {words.get(\"type_of_animal2\")} friends, they exclaim,\n",
    "\"{words.get(\"exclamation\")}!\"\n",
    "\"\"\")"
   ]
  },
  {
   "cell_type": "markdown",
   "id": "0f539400-2ded-4d6c-8aca-df75bb52b76e",
   "metadata": {},
   "source": [
    "## Dictionary + List\n",
    "\n",
    "If we want to add the randomness of our lists from [v2](/docs/python/foundations/projects/story-project-v2), we can do that too! A dictionary can contain a list.\n",
    "\n",
    "I'll give the keys plural names, and the values are lists."
   ]
  },
  {
   "cell_type": "code",
   "execution_count": 5,
   "id": "b739394a-f07b-4639-a1ea-c269f5552b98",
   "metadata": {},
   "outputs": [
    {
     "data": {
      "text/plain": [
       "{'names': ['Fifi',\n",
       "  'Cookie',\n",
       "  'Steve',\n",
       "  'Sean',\n",
       "  'Barry',\n",
       "  'James',\n",
       "  'Sam',\n",
       "  'Opal',\n",
       "  'Jackson',\n",
       "  'Lakshmi',\n",
       "  'Chloe',\n",
       "  'Regan',\n",
       "  'Phoebe'],\n",
       " 'types_of_animals': ['dog',\n",
       "  'cat',\n",
       "  'snake',\n",
       "  'parrot',\n",
       "  'budgie',\n",
       "  'bunny',\n",
       "  'sugar bear',\n",
       "  'hermit crab'],\n",
       " 'adjectives': ['fizzy', 'stinky', 'flat', 'long', 'hairy', 'shimmery'],\n",
       " 'nouns': ['nose',\n",
       "  'yawn',\n",
       "  'waffles',\n",
       "  'cat food',\n",
       "  'funyuns',\n",
       "  'phone',\n",
       "  'journal',\n",
       "  'bowling ball',\n",
       "  'tree',\n",
       "  'pumpkin',\n",
       "  'ceramic art'],\n",
       " 'places': ['city of Timbuktu',\n",
       "  'forge',\n",
       "  'internet',\n",
       "  'backyard',\n",
       "  'mountain',\n",
       "  'volcano',\n",
       "  'kitchen'],\n",
       " 'exclamations': ['Whoa',\n",
       "  'Hooray',\n",
       "  'Huzzah',\n",
       "  'Yippee',\n",
       "  'Oh no',\n",
       "  'What',\n",
       "  \"For Pete's Sake\",\n",
       "  'How']}"
      ]
     },
     "execution_count": 5,
     "metadata": {},
     "output_type": "execute_result"
    }
   ],
   "source": [
    "words = {\n",
    "    \"names\": ['Fifi', 'Cookie', 'Steve', 'Sean', 'Barry', 'James',\n",
    "              'Sam', 'Opal', 'Jackson', 'Lakshmi', 'Chloe',\n",
    "              'Regan', 'Phoebe'],\n",
    "    \"types_of_animals\": ['dog', 'cat', 'snake', 'parrot', 'budgie',\n",
    "                         'bunny', 'sugar bear', 'hermit crab'],\n",
    "    \"adjectives\": ['fizzy', 'stinky', 'flat', 'long', 'hairy',\n",
    "                   'shimmery'],\n",
    "    \"nouns\": ['nose', 'yawn', 'waffles', 'cat food', 'funyuns',\n",
    "              'phone', 'journal', 'bowling ball', 'tree', \n",
    "              'pumpkin', 'ceramic art'],\n",
    "    \"places\": ['city of Timbuktu', 'forge', 'internet', 'backyard',\n",
    "               'mountain', 'volcano', 'kitchen'],\n",
    "    \"exclamations\": [\"Whoa\", 'Hooray', 'Huzzah', 'Yippee', 'Oh no',\n",
    "                     'What', \"For Pete's Sake\", 'How']\n",
    "}\n",
    "\n",
    "words"
   ]
  },
  {
   "cell_type": "code",
   "execution_count": 6,
   "id": "28659800-49b8-4282-8aa9-86924e24bc7f",
   "metadata": {},
   "outputs": [
    {
     "data": {
      "text/plain": [
       "['dog',\n",
       " 'cat',\n",
       " 'snake',\n",
       " 'parrot',\n",
       " 'budgie',\n",
       " 'bunny',\n",
       " 'sugar bear',\n",
       " 'hermit crab']"
      ]
     },
     "execution_count": 6,
     "metadata": {},
     "output_type": "execute_result"
    }
   ],
   "source": [
    "words.get(\"types_of_animals\")"
   ]
  },
  {
   "cell_type": "code",
   "execution_count": 7,
   "id": "bd41f1b9-b00c-4e27-9887-4f99fb7ed496",
   "metadata": {},
   "outputs": [
    {
     "data": {
      "text/plain": [
       "'parrot'"
      ]
     },
     "execution_count": 7,
     "metadata": {},
     "output_type": "execute_result"
    }
   ],
   "source": [
    "words.get(\"types_of_animals\")[3]"
   ]
  },
  {
   "cell_type": "markdown",
   "id": "28d8f8b6-0eed-4155-a6aa-2b69e3512f5e",
   "metadata": {},
   "source": [
    "Remember to `import random` and you don't have to set a seed unless you want to be able to reproduce a random result."
   ]
  },
  {
   "cell_type": "code",
   "execution_count": 8,
   "id": "26d5ad09-a3c8-486d-8a49-b1cead48e4c7",
   "metadata": {},
   "outputs": [],
   "source": [
    "import random\n",
    "random.seed(16)"
   ]
  },
  {
   "cell_type": "markdown",
   "id": "bc0e49f4-dcc6-4354-8172-9815d742872d",
   "metadata": {},
   "source": [
    "Now in order to get the list, you need `words.get()` in `len()`."
   ]
  },
  {
   "cell_type": "code",
   "execution_count": 9,
   "id": "c6bb5c90-78ae-4a95-9827-91bbcbbc03b7",
   "metadata": {},
   "outputs": [],
   "source": [
    "random_name = random.randint(0, len(words.get(\"names\")) - 1)\n",
    "random_animal1 = random.randint(0, len(words.get(\"types_of_animals\")) - 1)\n",
    "random_animal2 = random.randint(0, len(words.get(\"types_of_animals\")) - 1)\n",
    "random_adjective1 = random.randint(0, len(words.get(\"adjectives\")) - 1)\n",
    "random_noun1 = random.randint(0, len(words.get(\"nouns\")) - 1)\n",
    "random_noun2 = random.randint(0, len(words.get(\"nouns\")) - 1)\n",
    "random_noun3 = random.randint(0, len(words.get(\"nouns\")) - 1)\n",
    "random_place = random.randint(0, len(words.get(\"places\")) - 1)\n",
    "random_exclamation = random.randint(0, len(words.get(\"exclamations\")) - 1)"
   ]
  },
  {
   "cell_type": "markdown",
   "id": "3bc20edf-a0a5-4e51-a9ee-c188ce125dd1",
   "metadata": {},
   "source": [
    "Since there's a lot going on here, we'll use variables to fill in the text like we did in [Silly Stories v1](/docs/python/foundations/projects/story-project-v1)."
   ]
  },
  {
   "cell_type": "code",
   "execution_count": 10,
   "id": "a3c81be6-49ec-462a-98c8-bfd56a45d951",
   "metadata": {},
   "outputs": [
    {
     "name": "stdout",
     "output_type": "stream",
     "text": [
      "\n",
      "James is a/an hermit crab who lives in a flat journal. Every day,\n",
      "James wakes up with a/an cat food, and eats his breakfast of bowling ball.\n",
      "He goes to the city of Timbuktu.\n",
      "As he passes his hermit crab friends, they exclaim, \"For Pete's Sake!\"\n",
      "\n"
     ]
    }
   ],
   "source": [
    "name = words.get(\"names\")[random_name]\n",
    "type_of_animal = words.get(\"types_of_animals\")[random_animal1]\n",
    "adjective1 = words.get(\"adjectives\")[random_adjective1]\n",
    "noun1 = words.get(\"nouns\")[random_noun1]\n",
    "noun2 = words.get(\"nouns\")[random_noun2]\n",
    "noun3 = words.get(\"nouns\")[random_noun3]\n",
    "place = words.get(\"places\")[random_place]\n",
    "type_of_animal2 = words.get(\"types_of_animals\")[random_animal2]\n",
    "exclamation = words.get(\"exclamations\")[random_exclamation]\n",
    "\n",
    "print(f\"\"\"\n",
    "{name} is a/an {type_of_animal} who lives in a {adjective1} {noun1}. Every day,\n",
    "{name} wakes up with a/an {noun2}, and eats his breakfast of {noun3}.\n",
    "He goes to the {place}.\n",
    "As he passes his {type_of_animal2} friends, they exclaim, \"{exclamation}!\"\n",
    "\"\"\")"
   ]
  },
  {
   "cell_type": "markdown",
   "id": "6c7aaa67-b6c3-4a44-936d-6ec3cdcec982",
   "metadata": {},
   "source": [
    "Try making your own silly story, or fill in one with a friend! Add to the lists or fill them in with your own words.\n",
    "\n",
    "***💡TIP***\n",
    "<a href=\"/lite/lab/index.html\">Open a new blank notebook in the Lab</a> to test if you can remember how to do this on your own! To open a new notebook from the link, click on the tile that says \"Py\" or \"Python.\"\n",
    "*** ***"
   ]
  },
  {
   "cell_type": "markdown",
   "id": "13ba0aeb-f7bd-4165-868a-1bab02ee8768",
   "metadata": {},
   "source": [
    "## Conclusion\n",
    "\n",
    "We were able to take our silly story and add lists in to the mix. We learned how to use `import random` to get random values from the lists to make our story more interesting."
   ]
  }
 ],
 "metadata": {
  "kernelspec": {
   "display_name": "Python 3 (ipykernel)",
   "language": "python",
   "name": "python3"
  },
  "language_info": {
   "codemirror_mode": {
    "name": "ipython",
    "version": 3
   },
   "file_extension": ".py",
   "mimetype": "text/x-python",
   "name": "python",
   "nbconvert_exporter": "python",
   "pygments_lexer": "ipython3",
   "version": "3.10.12"
  }
 },
 "nbformat": 4,
 "nbformat_minor": 5
}
