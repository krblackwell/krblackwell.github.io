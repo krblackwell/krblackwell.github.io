{
 "cells": [
  {
   "cell_type": "markdown",
   "id": "f104ed8f-4e19-4cb1-ad50-ffdbd2c1b690",
   "metadata": {},
   "source": []
  },
  {
   "cell_type": "markdown",
   "id": "136f0702-d88d-4765-9b47-e7f6b2495579",
   "metadata": {},
   "source": [
    "# Python Project Compliment Generator"
   ]
  }
 ],
 "metadata": {
  "kernelspec": {
   "display_name": "Python 3 (ipykernel)",
   "language": "python",
   "name": "python3"
  },
  "language_info": {
   "codemirror_mode": {
    "name": "ipython",
    "version": 3
   },
   "file_extension": ".py",
   "mimetype": "text/x-python",
   "name": "python",
   "nbconvert_exporter": "python",
   "pygments_lexer": "ipython3",
   "version": "3.10.12"
  }
 },
 "nbformat": 4,
 "nbformat_minor": 5
}
