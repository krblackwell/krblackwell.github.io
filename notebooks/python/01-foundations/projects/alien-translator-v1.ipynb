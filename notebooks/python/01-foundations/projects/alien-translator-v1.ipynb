{
 "cells": [
  {
   "cell_type": "markdown",
   "id": "bab87e7c-78b5-4b4c-9a7a-bdccef9d7904",
   "metadata": {},
   "source": [
    "<!-- markdownlint-disable-next-line MD041 -->\n",
    "[Go back to Home](/) - [Go to lesson page](/docs/python/foundations/projects/alien-translator-v1) - [Go to Foundations section](/docs/python/foundations)"
   ]
  },
  {
   "cell_type": "markdown",
   "id": "cf780c7d-d0df-479b-8390-6c4ba5bdeb01",
   "metadata": {},
   "source": [
    "# Project - Alien Translator\n",
    "\n",
    "You've received an alien message.\n",
    "\n",
    "ZCAPS &ZTUQ MQ&F ZMQC I .&ZDAZL &UQY QT ZM ZKAT ,QLLZ$\n",
    "\n",
    "Lucky for you, you also know how to translate it. Some of these steps can happen in any order. For some of them, the order matters.\n",
    "\n",
    "Z means E\\\n",
    "Q means O\\\n",
    "$ means H\\\n",
    "& means R\n",
    "\n",
    "The aliens use all uppercase, but we don't. Also, remember \"I\" is always capitalized.\n",
    "\n",
    "Reverse the string. I'll show you how to do this. It's called `slicing`."
   ]
  },
  {
   "cell_type": "code",
   "execution_count": 1,
   "id": "e4d4ec82-d05d-4e1e-b586-f7f27989621f",
   "metadata": {},
   "outputs": [
    {
     "data": {
      "text/plain": [
       "'.ZCAPS &ZTUQ MQ&F ZMQC I .&ZDAZL &UQY QT ZM ZKAT ,QLLZ$'"
      ]
     },
     "execution_count": 1,
     "metadata": {},
     "output_type": "execute_result"
    }
   ],
   "source": [
    "alien_message = \".ZCAPS &ZTUQ MQ&F ZMQC I .&ZDAZL &UQY QT ZM ZKAT ,QLLZ$\"\n",
    "\n",
    "alien_message"
   ]
  },
  {
   "cell_type": "markdown",
   "id": "9c82e45a-dac6-49b1-ae64-ada9ec23564e",
   "metadata": {},
   "source": [
    "First, we put the message into a variable. Here we call it `alien_message`. Then we displayed it.\n",
    "\n",
    "Next, let's use `.replace()` to find and replace the alien letters one at a time. You can also chain them like\n",
    "\n",
    "`alien_message = alien_message.replace('Z', 'E').replace('Q', 'O')`"
   ]
  },
  {
   "cell_type": "code",
   "execution_count": 2,
   "id": "dd2c3007-5665-44ca-9d7f-8ea63a998e7b",
   "metadata": {},
   "outputs": [
    {
     "data": {
      "text/plain": [
       "'.ECAPS &ETUQ MQ&F EMQC I .&EDAEL &UQY QT EM EKAT ,QLLE$'"
      ]
     },
     "execution_count": 2,
     "metadata": {},
     "output_type": "execute_result"
    }
   ],
   "source": [
    "alien_message = alien_message.replace('Z', 'E')\n",
    "\n",
    "alien_message"
   ]
  },
  {
   "cell_type": "code",
   "execution_count": 3,
   "id": "f635cc70-bc7c-4c76-8e30-707a7f9e8f22",
   "metadata": {},
   "outputs": [
    {
     "data": {
      "text/plain": [
       "'.ECAPS &ETUO MO&F EMOC I .&EDAEL &UOY OT EM EKAT ,OLLE$'"
      ]
     },
     "execution_count": 3,
     "metadata": {},
     "output_type": "execute_result"
    }
   ],
   "source": [
    "alien_message = alien_message.replace('Q', 'O')\n",
    "\n",
    "alien_message"
   ]
  },
  {
   "cell_type": "code",
   "execution_count": 4,
   "id": "5fad11b5-5ab9-47ea-a101-7131be0fd741",
   "metadata": {},
   "outputs": [
    {
     "data": {
      "text/plain": [
       "'.ECAPS &ETUO MO&F EMOC I .&EDAEL &UOY OT EM EKAT ,OLLEH'"
      ]
     },
     "execution_count": 4,
     "metadata": {},
     "output_type": "execute_result"
    }
   ],
   "source": [
    "alien_message = alien_message.replace('$', 'H')\n",
    "\n",
    "alien_message"
   ]
  },
  {
   "cell_type": "code",
   "execution_count": 5,
   "id": "71fd75e0-2947-4f70-a4d0-8d78ef83315c",
   "metadata": {},
   "outputs": [
    {
     "data": {
      "text/plain": [
       "'.ECAPS RETUO MORF EMOC I .REDAEL RUOY OT EM EKAT ,OLLEH'"
      ]
     },
     "execution_count": 5,
     "metadata": {},
     "output_type": "execute_result"
    }
   ],
   "source": [
    "alien_message = alien_message.replace('&', 'R')\n",
    "\n",
    "alien_message"
   ]
  },
  {
   "cell_type": "markdown",
   "id": "453e1fd1-80bd-484a-b8ff-8362938c76d0",
   "metadata": {},
   "source": [
    "## Slice\n",
    "\n",
    "All the letters are uppercase, and in the end, we don't want that. We want it to look like normal sentences. Before we fix the cases, we want to reverse the string. This is where slicing comes in.\n",
    "\n",
    "Basically, you can slice a string or a list with square brackets and a colon `:`. The code looks like this:\n",
    "`string[start:stop:step]`"
   ]
  },
  {
   "cell_type": "code",
   "execution_count": 6,
   "id": "2700458d-6bce-4559-9264-37a07ff33a84",
   "metadata": {},
   "outputs": [
    {
     "data": {
      "text/plain": [
       "'The quick brown fox jumped over the lazy dog'"
      ]
     },
     "execution_count": 6,
     "metadata": {},
     "output_type": "execute_result"
    }
   ],
   "source": [
    "my_string = \"The quick brown fox jumped over the lazy dog.\"\n",
    "\n",
    "my_string[0:-1]"
   ]
  },
  {
   "cell_type": "markdown",
   "id": "ee754667-95a0-45e3-9b5d-4574d49de5d2",
   "metadata": {},
   "source": [
    "0 is the first character, and -1 is the last character. Why did it forget the period at the end of the string?\n",
    "\n",
    "The \"stop\" in our slice stops one before what you tell it. -1 is the end, so it will show us one character before that.\n",
    "\n",
    "How do we see everything after 0? We just don't put anything after \"start:\""
   ]
  },
  {
   "cell_type": "code",
   "execution_count": 7,
   "id": "24a7ac3d-659d-4d46-8967-029c1f830b26",
   "metadata": {},
   "outputs": [
    {
     "data": {
      "text/plain": [
       "'The quick brown fox jumped over the lazy dog.'"
      ]
     },
     "execution_count": 7,
     "metadata": {},
     "output_type": "execute_result"
    }
   ],
   "source": [
    "my_string[0:]"
   ]
  },
  {
   "cell_type": "markdown",
   "id": "cf966def-800b-4f34-a970-0fa2ed9c0b23",
   "metadata": {},
   "source": [
    "If we want to get every other character (this includes spaces) up to the end, we do this:"
   ]
  },
  {
   "cell_type": "code",
   "execution_count": 8,
   "id": "2ec7daf2-cf66-4f1b-8e6b-031c01447e4e",
   "metadata": {},
   "outputs": [
    {
     "data": {
      "text/plain": [
       "'Teqikbonfxjme vrtelz o.'"
      ]
     },
     "execution_count": 8,
     "metadata": {},
     "output_type": "execute_result"
    }
   ],
   "source": [
    "my_string[0::2]"
   ]
  },
  {
   "cell_type": "markdown",
   "id": "82ec9a21-0605-4ae4-9469-1d3f6938ab53",
   "metadata": {},
   "source": [
    "It would be easier to see if we slice a list of the words. Let's make a list of the individual words in the sentence."
   ]
  },
  {
   "cell_type": "code",
   "execution_count": 9,
   "id": "6e567faf-0861-415d-a229-6cb77524e9dc",
   "metadata": {},
   "outputs": [
    {
     "data": {
      "text/plain": [
       "['The', 'quick', 'brown', 'fox', 'jumped', 'over', 'the', 'lazy', 'dog.']"
      ]
     },
     "execution_count": 9,
     "metadata": {},
     "output_type": "execute_result"
    }
   ],
   "source": [
    "my_string_words = my_string.split()\n",
    "\n",
    "my_string_words"
   ]
  },
  {
   "cell_type": "code",
   "execution_count": 10,
   "id": "ad178d39-6a39-41e2-9ba9-7a94c45d5ac3",
   "metadata": {},
   "outputs": [
    {
     "data": {
      "text/plain": [
       "['The', 'brown', 'jumped', 'the', 'dog.']"
      ]
     },
     "execution_count": 10,
     "metadata": {},
     "output_type": "execute_result"
    }
   ],
   "source": [
    "my_string_words[0::2]"
   ]
  },
  {
   "cell_type": "markdown",
   "id": "2ebe8177-b53f-4e28-99c3-7b26d526b798",
   "metadata": {},
   "source": [
    "We get every other word!"
   ]
  },
  {
   "cell_type": "markdown",
   "id": "551c451e-1154-42c4-b722-610a6b05b754",
   "metadata": {},
   "source": [
    "If we want to reverse the words we can do the following cell.\n",
    "\n",
    "The blanks for \"start\" and \"stop\" tell us to use everything. -1 says step backwards by one."
   ]
  },
  {
   "cell_type": "code",
   "execution_count": 11,
   "id": "289f0773-6622-499c-8ec6-f61f222d61d0",
   "metadata": {},
   "outputs": [
    {
     "data": {
      "text/plain": [
       "['dog.', 'lazy', 'the', 'over', 'jumped', 'fox', 'brown', 'quick', 'The']"
      ]
     },
     "execution_count": 11,
     "metadata": {},
     "output_type": "execute_result"
    }
   ],
   "source": [
    "my_string_words[::-1]"
   ]
  },
  {
   "cell_type": "markdown",
   "id": "c3b79c0d-2ccd-4ce0-8547-883c3adb7ab3",
   "metadata": {},
   "source": [
    "I can do the same with a string, and it will reverse the letters."
   ]
  },
  {
   "cell_type": "code",
   "execution_count": 12,
   "id": "f5cf2a16-db0d-4880-9097-9b1f613b13b3",
   "metadata": {},
   "outputs": [
    {
     "data": {
      "text/plain": [
       "'.god yzal eht revo depmuj xof nworb kciuq ehT'"
      ]
     },
     "execution_count": 12,
     "metadata": {},
     "output_type": "execute_result"
    }
   ],
   "source": [
    "my_string[::-1]"
   ]
  },
  {
   "cell_type": "markdown",
   "id": "75f2d530-875f-49cd-b8f7-eb93450ca978",
   "metadata": {},
   "source": [
    "## Back to the message\n",
    "\n",
    "Now that you know a little about slicing, let's reverse the letters in our string message."
   ]
  },
  {
   "cell_type": "code",
   "execution_count": 13,
   "id": "dae26d9a-f044-43cf-849e-705d02170016",
   "metadata": {},
   "outputs": [
    {
     "data": {
      "text/plain": [
       "'HELLO, TAKE ME TO YOUR LEADER. I COME FROM OUTER SPACE.'"
      ]
     },
     "execution_count": 13,
     "metadata": {},
     "output_type": "execute_result"
    }
   ],
   "source": [
    "alien_message = alien_message[::-1]\n",
    "\n",
    "alien_message"
   ]
  },
  {
   "cell_type": "markdown",
   "id": "d8b6c78e-ecbc-47e8-baff-065d03282d0d",
   "metadata": {},
   "source": [
    "Wow! I can read that easily, but let's make sure **each sentence** has a capital first letter and the rest are lowercase. Do you remember what method does that?\n",
    "\n",
    "We have to do three steps for this.\n",
    "\n",
    "In order to use `.capitalize()` to properly capitalize our sentences, we need to do it on each sentence. Let's split the message by `'. '` so the first sentence and second sentence are each in a list."
   ]
  },
  {
   "cell_type": "code",
   "execution_count": 14,
   "id": "b47c1e9c-6ff2-4038-ba6d-8cbfffc7c437",
   "metadata": {},
   "outputs": [
    {
     "data": {
      "text/plain": [
       "['HELLO, TAKE ME TO YOUR LEADER', 'I COME FROM OUTER SPACE.']"
      ]
     },
     "execution_count": 14,
     "metadata": {},
     "output_type": "execute_result"
    }
   ],
   "source": [
    "alien_message = alien_message.split('. ')\n",
    "\n",
    "alien_message"
   ]
  },
  {
   "cell_type": "markdown",
   "id": "a79b2505-0e0a-460e-80c9-69f8d0403dc1",
   "metadata": {},
   "source": [
    "Now we can use the index for the first and second sentences to do capitalize."
   ]
  },
  {
   "cell_type": "code",
   "execution_count": 15,
   "id": "ab9ca907-9958-460a-8550-64e9c9df78d2",
   "metadata": {},
   "outputs": [
    {
     "data": {
      "text/plain": [
       "['Hello, take me to your leader', 'I COME FROM OUTER SPACE.']"
      ]
     },
     "execution_count": 15,
     "metadata": {},
     "output_type": "execute_result"
    }
   ],
   "source": [
    "alien_message[0] = alien_message[0].capitalize()\n",
    "\n",
    "alien_message"
   ]
  },
  {
   "cell_type": "code",
   "execution_count": 16,
   "id": "57859a9a-7e39-4a32-b244-e4bc7c883d9e",
   "metadata": {},
   "outputs": [
    {
     "data": {
      "text/plain": [
       "['Hello, take me to your leader', 'I come from outer space.']"
      ]
     },
     "execution_count": 16,
     "metadata": {},
     "output_type": "execute_result"
    }
   ],
   "source": [
    "alien_message[1] = alien_message[1].capitalize()\n",
    "\n",
    "alien_message"
   ]
  },
  {
   "cell_type": "markdown",
   "id": "ac60e1c8-6d06-4c7b-9023-e9b8eb71913e",
   "metadata": {},
   "source": [
    "Those look nice! Let's join the sentence back together and put the period back."
   ]
  },
  {
   "cell_type": "code",
   "execution_count": 17,
   "id": "25c32340-2902-4389-941b-526219ef60ab",
   "metadata": {},
   "outputs": [
    {
     "data": {
      "text/plain": [
       "'Hello, take me to your leader. I come from outer space.'"
      ]
     },
     "execution_count": 17,
     "metadata": {},
     "output_type": "execute_result"
    }
   ],
   "source": [
    "'. '.join(alien_message)"
   ]
  },
  {
   "cell_type": "markdown",
   "id": "f36806e6-8532-48b8-ae73-15fcbf0c2d34",
   "metadata": {},
   "source": [
    "Congratulations! You translated the alien message."
   ]
  },
  {
   "cell_type": "markdown",
   "id": "bd01099d-60ee-4080-a4e8-5887fcf93a80",
   "metadata": {},
   "source": [
    "Try making your own alien sentence, or fill in one with a friend!\n",
    "<!-- markdownlint-disable MD033 -->\n",
    "***💡TIP***\n",
    "<a href=\"/lite/lab/index.html\">Open a new blank notebook in the Lab</a> to test if you can remember how to do this on your own! To open a new notebook from the link, click on the tile that says \"Py\" or \"Python.\"\n",
    "*** ***\n",
    "<!-- markdownlint-enable MD033 -->"
   ]
  },
  {
   "cell_type": "markdown",
   "id": "e005910e-37a7-4c04-a062-74a7864b9008",
   "metadata": {},
   "source": [
    "## How I made the alien sentence\n",
    "\n",
    "I started with the ending sentence, \"Hello, take me to your leader. I come from outer space.\" Then, I thought about the things I showed in the lessons so far, and what might scramble the message up the best.\n",
    "\n",
    "Something like the following."
   ]
  },
  {
   "cell_type": "code",
   "execution_count": 19,
   "id": "e336f64b-d8b2-44e9-a983-5215c8f6a20d",
   "metadata": {},
   "outputs": [
    {
     "data": {
      "text/plain": [
       "'.ecaps retuo morf emoc I .redael ruoy ot em ekat ,olleH'"
      ]
     },
     "execution_count": 19,
     "metadata": {},
     "output_type": "execute_result"
    }
   ],
   "source": [
    "alien_message = \"Hello, take me to your leader. I come from outer space.\"\n",
    "\n",
    "alien_message = alien_message[::-1]\n",
    "\n",
    "alien_message"
   ]
  },
  {
   "cell_type": "code",
   "execution_count": 21,
   "id": "a065cc7e-2cd9-49f3-8244-9bf7343deb63",
   "metadata": {},
   "outputs": [
    {
     "data": {
      "text/plain": [
       "'.ECAPS RETUO MORF EMOC I .REDAEL RUOY OT EM EKAT ,OLLEH'"
      ]
     },
     "execution_count": 21,
     "metadata": {},
     "output_type": "execute_result"
    }
   ],
   "source": [
    "alien_message = alien_message.upper()\n",
    "\n",
    "alien_message"
   ]
  },
  {
   "cell_type": "markdown",
   "id": "87874822-0a8f-4e79-8e59-36a228006386",
   "metadata": {},
   "source": [
    "For replacing letters, I had to be careful not to replace one letter with another that is in the sentence. Otherwise, your translation wouldn't come out right!"
   ]
  },
  {
   "cell_type": "code",
   "execution_count": 22,
   "id": "270a8df5-925c-439c-9100-bb6d6a43bada",
   "metadata": {},
   "outputs": [
    {
     "data": {
      "text/plain": [
       "'.ZCAPS &ZTUQ MQ&F ZMQC I .&ZDAZL &UQY QT ZM ZKAT ,QLLZ$'"
      ]
     },
     "execution_count": 22,
     "metadata": {},
     "output_type": "execute_result"
    }
   ],
   "source": [
    "alien_message = alien_message\\\n",
    "    .replace('E', 'Z')\\\n",
    "    .replace('O', 'Q')\\\n",
    "    .replace('H', '$')\\\n",
    "    .replace('R', '&')\n",
    "\n",
    "alien_message"
   ]
  },
  {
   "cell_type": "code",
   "execution_count": 24,
   "id": "7ad7fdf3-bf82-4d67-ac5f-d1a0eff05113",
   "metadata": {},
   "outputs": [
    {
     "data": {
      "text/plain": [
       "True"
      ]
     },
     "execution_count": 24,
     "metadata": {},
     "output_type": "execute_result"
    }
   ],
   "source": [
    "alien_message == \".ZCAPS &ZTUQ MQ&F ZMQC I .&ZDAZL &UQY QT ZM ZKAT ,QLLZ$\""
   ]
  },
  {
   "cell_type": "markdown",
   "id": "5064c42b-7bd2-4c05-ae4f-a9bc193193fc",
   "metadata": {},
   "source": [
    "And I tested that to make sure it was what you started with. True means it is. So, there is the message you started with!\n",
    "\n",
    "## Conclusion\n",
    "\n",
    "You used string methods to decode a message.\n",
    "\n",
    "See if you can scramble and unscramble sentences of your own. Notice our \"unscramble\" steps weren't exactly the same (but backwards) as the steps we did to scramble the message. We created some complications with the sentence capitalization.\n",
    "\n",
    "For example, It was much easier to make everything uppercase than to undo that and make it so the first letter of each sentence was capitalized, while the rest was lowercase."
   ]
  }
 ],
 "metadata": {
  "kernelspec": {
   "display_name": "Python 3 (ipykernel)",
   "language": "python",
   "name": "python3"
  },
  "language_info": {
   "codemirror_mode": {
    "name": "ipython",
    "version": 3
   },
   "file_extension": ".py",
   "mimetype": "text/x-python",
   "name": "python",
   "nbconvert_exporter": "python",
   "pygments_lexer": "ipython3",
   "version": "3.10.12"
  }
 },
 "nbformat": 4,
 "nbformat_minor": 5
}
