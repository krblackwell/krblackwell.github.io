{
 "cells": [
  {
   "cell_type": "markdown",
   "id": "46a18bb0-0c6e-4dc5-a733-2ba3ac89c43d",
   "metadata": {},
   "source": [
    "<!-- markdownlint-disable-next-line MD041 -->\n",
    "[Go back to Home](/) - [Go to lesson page](/docs/python/foundations/lists-and-strings) - [Go to Foundations section](/docs/python/foundations)"
   ]
  },
  {
   "cell_type": "markdown",
   "id": "1397302c-c436-4818-b890-3933a59a95bb",
   "metadata": {},
   "source": [
    "# Lists\n",
    "\n",
    "`Lists` are a super useful `data structure` in Python. Sometimes this same type of structure is called an `array` in other programming languages.\n",
    "\n",
    "`Data structures` hold multiple pieces of data, while `data type` describes the format of individual data pieces. A data structure might be like a picnic basket, and that picnic basket can hold multiple types of things in it, like an food, drink, utensils. Those types of things are like data types.\n",
    "\n",
    "## Learning Objectives\n",
    "\n",
    "- Learn what a list is and how to use it.\n",
    "- Strings can be used like lists of characters.\n",
    "- Strings can be split into lists of words.\n",
    "\n",
    "## What is a list?\n",
    "\n",
    "Lists are collections of things. A list can have all strings, all integers, and more. A list can contain a list of lists."
   ]
  },
  {
   "cell_type": "code",
   "execution_count": 1,
   "id": "31ebe910-de3c-4bbb-8a1d-691424dfc30a",
   "metadata": {},
   "outputs": [
    {
     "data": {
      "text/plain": [
       "['dog', 'cat', 'bird', 'guinea pig', 'turtle']"
      ]
     },
     "execution_count": 1,
     "metadata": {},
     "output_type": "execute_result"
    }
   ],
   "source": [
    "pet_string_list = ['dog', 'cat', 'bird', 'guinea pig', 'turtle']\n",
    "\n",
    "pet_string_list"
   ]
  },
  {
   "cell_type": "code",
   "execution_count": 2,
   "id": "019de4c7-2ffc-4960-80a9-1742f443a905",
   "metadata": {},
   "outputs": [
    {
     "data": {
      "text/plain": [
       "[1, 34, 41, 55, 10]"
      ]
     },
     "execution_count": 2,
     "metadata": {},
     "output_type": "execute_result"
    }
   ],
   "source": [
    "age_integer_list = [1, 34, 41, 55, 10]\n",
    "\n",
    "age_integer_list"
   ]
  },
  {
   "cell_type": "code",
   "execution_count": 3,
   "id": "49468dce-4c55-4b91-9b1f-8372eb914e03",
   "metadata": {},
   "outputs": [
    {
     "data": {
      "text/plain": [
       "[['Soccer Practice', 'AV Club', 'Homework Help'],\n",
       " ['Chess Club', 'Track Practice', 'Art Studio'],\n",
       " ['Debate Team', 'Drama Club', 'Coding Workshop'],\n",
       " ['Science Club', 'Basketball Practice', 'Yearbook'],\n",
       " ['Film Club', 'School Newspaper', 'Open Gym']]"
      ]
     },
     "execution_count": 3,
     "metadata": {},
     "output_type": "execute_result"
    }
   ],
   "source": [
    "out_of_school_programs_list_of_lists = [\n",
    "    [\"Soccer Practice\", \"AV Club\", \"Homework Help\"],        # Monday\n",
    "    [\"Chess Club\", \"Track Practice\", \"Art Studio\"],         # Tuesday\n",
    "    [\"Debate Team\", \"Drama Club\", \"Coding Workshop\"],       # Wednesday\n",
    "    [\"Science Club\", \"Basketball Practice\", \"Yearbook\"],    # Thursday\n",
    "    [\"Film Club\", \"School Newspaper\", \"Open Gym\"],          # Friday\n",
    "]\n",
    "\n",
    "out_of_school_programs_list_of_lists"
   ]
  },
  {
   "cell_type": "markdown",
   "id": "badd0a53-0869-4d39-b83b-aff563162d2d",
   "metadata": {},
   "source": [
    "And in Python, the next example shows you can have different types of elements in the list. There's a string, an integer, a decimal, and a boolean!"
   ]
  },
  {
   "cell_type": "code",
   "execution_count": 4,
   "id": "0a4a58b9-ec59-45f4-841e-85a687387ba0",
   "metadata": {},
   "outputs": [
    {
     "data": {
      "text/plain": [
       "['String', 1, 0.99, True]"
      ]
     },
     "execution_count": 4,
     "metadata": {},
     "output_type": "execute_result"
    }
   ],
   "source": [
    "[\"String\", 1, 0.99, True]"
   ]
  },
  {
   "cell_type": "markdown",
   "id": "d9868109-5351-4f37-8bea-7cec98f8d4f0",
   "metadata": {},
   "source": [
    "And a list of lists."
   ]
  },
  {
   "cell_type": "code",
   "execution_count": 5,
   "id": "a098545e-4132-467c-8195-0f801b458ce2",
   "metadata": {},
   "outputs": [
    {
     "data": {
      "text/plain": [
       "[['Book', 2, 19.99, True],\n",
       " ['Headphones', 1, 39.99, False],\n",
       " ['Pen', 3, 2.49, True]]"
      ]
     },
     "execution_count": 5,
     "metadata": {},
     "output_type": "execute_result"
    }
   ],
   "source": [
    "shopping_cart = [\n",
    "    [\"Book\", 2, 19.99, True],\n",
    "    [\"Headphones\", 1, 39.99, False],\n",
    "    [\"Pen\", 3, 2.49, True]\n",
    "]\n",
    "\n",
    "shopping_cart"
   ]
  },
  {
   "cell_type": "markdown",
   "id": "421a965e-2877-4494-a6bb-b28fd5c4d15c",
   "metadata": {},
   "source": [
    "## Working with lists\n",
    "\n",
    "Now we get what lists can look like. Let's look at how to work with them. We'll take a list of numbers."
   ]
  },
  {
   "cell_type": "code",
   "execution_count": 6,
   "id": "73361735-2a3d-4549-903d-feaa0b32182e",
   "metadata": {},
   "outputs": [
    {
     "data": {
      "text/plain": [
       "[1, 10, 24, 13, 40, 8]"
      ]
     },
     "execution_count": 6,
     "metadata": {},
     "output_type": "execute_result"
    }
   ],
   "source": [
    "list_of_numbers = [1, 10, 24, 13, 40, 8]\n",
    "\n",
    "list_of_numbers"
   ]
  },
  {
   "cell_type": "markdown",
   "id": "fa9f3a6f-3584-4508-b8be-ea28aaaacf7c",
   "metadata": {},
   "source": [
    "Python lists start with 0 as their `index`.\n",
    "\n",
    "| Index | 0 | 1 | 2 | 3 | 4 | 5 |\n",
    "|-------|---|---|---|---|---|---|\n",
    "| Element | 1 | 10 | 24 | 13 | 40 | 8 |\n",
    "\n",
    "You can access each element in the list with the index.\n",
    "\n",
    "If we want to get the second element, 10, we need to ask for index 1."
   ]
  },
  {
   "cell_type": "code",
   "execution_count": 7,
   "id": "268559d0-0dce-448c-8846-817384b378cf",
   "metadata": {},
   "outputs": [
    {
     "data": {
      "text/plain": [
       "10"
      ]
     },
     "execution_count": 7,
     "metadata": {},
     "output_type": "execute_result"
    }
   ],
   "source": [
    "list_of_numbers[1]"
   ]
  },
  {
   "cell_type": "markdown",
   "id": "89444181-a936-45e2-9552-19d29e4ab4a8",
   "metadata": {},
   "source": [
    "Now add some cells in the Lab and try that out with other index numbers! What happens if you ask it for a number that is larger than 5?\n",
    "\n",
    "The next cell shows you a special way you can ask for the last element of a list. Use -1 as the index."
   ]
  },
  {
   "cell_type": "code",
   "execution_count": 8,
   "id": "f03f468b-e3e6-4167-9641-ba4244069c9f",
   "metadata": {},
   "outputs": [
    {
     "data": {
      "text/plain": [
       "8"
      ]
     },
     "execution_count": 8,
     "metadata": {},
     "output_type": "execute_result"
    }
   ],
   "source": [
    "list_of_numbers[-1]"
   ]
  },
  {
   "cell_type": "markdown",
   "id": "d19028ac-9a44-47c3-9501-18ef26824b9a",
   "metadata": {},
   "source": [
    "And if you keep going, you can go backwards through this list until you get to the first element again."
   ]
  },
  {
   "cell_type": "code",
   "execution_count": 9,
   "id": "eef64f5d-736b-4a33-9db2-9673a69d24bf",
   "metadata": {},
   "outputs": [
    {
     "data": {
      "text/plain": [
       "1"
      ]
     },
     "execution_count": 9,
     "metadata": {},
     "output_type": "execute_result"
    }
   ],
   "source": [
    "list_of_numbers[-6]"
   ]
  },
  {
   "cell_type": "markdown",
   "id": "7e6e3581-d9e2-430c-bfdc-ad050629a11f",
   "metadata": {},
   "source": [
    "## Strings can be used like lists\n",
    "\n",
    "You can treat strings like a list of characters by using the square brackets like you did with a list of items."
   ]
  },
  {
   "cell_type": "code",
   "execution_count": 10,
   "id": "5904b0c6-97a7-41bf-ad31-bafffc51cd2a",
   "metadata": {},
   "outputs": [
    {
     "data": {
      "text/plain": [
       "'Y'"
      ]
     },
     "execution_count": 10,
     "metadata": {},
     "output_type": "execute_result"
    }
   ],
   "source": [
    "\"YMCA\"[0]"
   ]
  },
  {
   "cell_type": "code",
   "execution_count": 11,
   "id": "2a17dcdf-bdf6-4253-ab6b-eb51988880b8",
   "metadata": {},
   "outputs": [
    {
     "data": {
      "text/plain": [
       "'M'"
      ]
     },
     "execution_count": 11,
     "metadata": {},
     "output_type": "execute_result"
    }
   ],
   "source": [
    "word = \"YMCA\"\n",
    "\n",
    "word[1]"
   ]
  },
  {
   "cell_type": "code",
   "execution_count": 12,
   "id": "344c1af7-9f96-43ac-9c28-22bd20a01c0c",
   "metadata": {},
   "outputs": [
    {
     "data": {
      "text/plain": [
       "'C'"
      ]
     },
     "execution_count": 12,
     "metadata": {},
     "output_type": "execute_result"
    }
   ],
   "source": [
    "\"YMCA\"[2]"
   ]
  },
  {
   "cell_type": "code",
   "execution_count": 13,
   "id": "898e4f8f-b8e3-4e11-8831-7a6f015c468c",
   "metadata": {},
   "outputs": [
    {
     "data": {
      "text/plain": [
       "'A'"
      ]
     },
     "execution_count": 13,
     "metadata": {},
     "output_type": "execute_result"
    }
   ],
   "source": [
    "\"YMCA\"[3]"
   ]
  },
  {
   "cell_type": "code",
   "execution_count": 14,
   "id": "62d65975-bdea-4800-b070-472808ef31b6",
   "metadata": {},
   "outputs": [
    {
     "data": {
      "text/plain": [
       "'A'"
      ]
     },
     "execution_count": 14,
     "metadata": {},
     "output_type": "execute_result"
    }
   ],
   "source": [
    "\"YMCA\"[-1]"
   ]
  },
  {
   "cell_type": "markdown",
   "id": "a6b8141f-5f49-4feb-b885-14cb1d6cdcd1",
   "metadata": {},
   "source": [
    "## String split into list of words"
   ]
  },
  {
   "cell_type": "markdown",
   "id": "4b5bc274-28a1-4218-9e30-e2958f620c6c",
   "metadata": {},
   "source": [
    "We can use the `.split()` method to turn our words into a list. By default, `.split()` separates words by whitespace. If there's at least one space, it'll use that as a separator."
   ]
  },
  {
   "cell_type": "code",
   "execution_count": 15,
   "id": "677d9b4a-9564-4bc3-87ab-81cdf930cd8c",
   "metadata": {},
   "outputs": [
    {
     "data": {
      "text/plain": [
       "['a', 'bunch', 'of', 'words']"
      ]
     },
     "execution_count": 15,
     "metadata": {},
     "output_type": "execute_result"
    }
   ],
   "source": [
    "\"a bunch of words\".split()"
   ]
  },
  {
   "cell_type": "markdown",
   "id": "7ced2938-d8e8-4264-9b15-1f6ed6cc374f",
   "metadata": {},
   "source": [
    "We can get creative with this."
   ]
  },
  {
   "cell_type": "code",
   "execution_count": 16,
   "id": "ab69c01b-2e4a-4f3d-a753-71421538f5ae",
   "metadata": {},
   "outputs": [
    {
     "data": {
      "text/plain": [
       "['We have a list', ' this, that, and the other thing.']"
      ]
     },
     "execution_count": 16,
     "metadata": {},
     "output_type": "execute_result"
    }
   ],
   "source": [
    "original_sentence = \"We have a list: this, that, and the other thing.\"\n",
    "\n",
    "split_sentence = original_sentence.split(\":\")\n",
    "\n",
    "split_sentence"
   ]
  },
  {
   "cell_type": "code",
   "execution_count": 17,
   "id": "1673dbfe-f0db-4f58-b20a-9b327b3bd78b",
   "metadata": {},
   "outputs": [
    {
     "data": {
      "text/plain": [
       "' this, that, and the other thing.'"
      ]
     },
     "execution_count": 17,
     "metadata": {},
     "output_type": "execute_result"
    }
   ],
   "source": [
    "split_sentence[1]"
   ]
  },
  {
   "cell_type": "code",
   "execution_count": 18,
   "id": "d0e63a06-67e5-4e76-9e5a-6c5312c6bd44",
   "metadata": {},
   "outputs": [
    {
     "data": {
      "text/plain": [
       "[' this', ' that', ' and the other thing.']"
      ]
     },
     "execution_count": 18,
     "metadata": {},
     "output_type": "execute_result"
    }
   ],
   "source": [
    "split_sentence2 = split_sentence[1].split(',')\n",
    "\n",
    "split_sentence2"
   ]
  },
  {
   "cell_type": "markdown",
   "id": "151873b8-acd5-4cc8-9c3b-0b536d2966bc",
   "metadata": {},
   "source": [
    "When we get to the lessons about looping, we can do a little more to process this list."
   ]
  },
  {
   "cell_type": "markdown",
   "id": "e641ebc7-2b09-4ad1-bbd0-4f1f9c64359b",
   "metadata": {},
   "source": [
    "## `.join()` text together\n",
    "\n",
    "Join is a useful method for lists. It will take the list, and join each piece by something you specify into a single string.\n",
    "\n",
    "Let's look at the pets list from earlier."
   ]
  },
  {
   "cell_type": "code",
   "execution_count": 19,
   "id": "a44d6a4e-8484-4b63-9229-acef621c77cb",
   "metadata": {},
   "outputs": [
    {
     "data": {
      "text/plain": [
       "'dog✨cat✨bird✨guinea pig✨turtle'"
      ]
     },
     "execution_count": 19,
     "metadata": {},
     "output_type": "execute_result"
    }
   ],
   "source": [
    "pet_string_list = ['dog', 'cat', 'bird', 'guinea pig', 'turtle']\n",
    "\n",
    "'✨'.join(pet_string_list)"
   ]
  },
  {
   "cell_type": "code",
   "execution_count": 20,
   "id": "18298a96-95b6-4e71-9ba9-132b18ebcf70",
   "metadata": {},
   "outputs": [
    {
     "data": {
      "text/plain": [
       "str"
      ]
     },
     "execution_count": 20,
     "metadata": {},
     "output_type": "execute_result"
    }
   ],
   "source": [
    "type('✨'.join(pet_string_list))"
   ]
  },
  {
   "cell_type": "code",
   "execution_count": 21,
   "id": "fece6200-2542-407d-9c60-ac19c26904fa",
   "metadata": {},
   "outputs": [
    {
     "data": {
      "text/plain": [
       "'dog--cat--bird--guinea pig--turtle'"
      ]
     },
     "execution_count": 21,
     "metadata": {},
     "output_type": "execute_result"
    }
   ],
   "source": [
    "'--'.join(pet_string_list)"
   ]
  },
  {
   "cell_type": "markdown",
   "id": "e0524166-dbd7-4d2e-b333-4591c0a953f1",
   "metadata": {},
   "source": [
    "Now let's get back to the example from our string lesson. We had some white space we couldn't easily deal with, but now we can.\n",
    "\n",
    "First we use `.split()` to get rid of the random whitespace amounts.\n",
    "\n",
    "Then, we can use `.join()` to bring it back together with the appropriate amount of whitespace."
   ]
  },
  {
   "cell_type": "code",
   "execution_count": 22,
   "id": "4079fcd1-fcc2-4e4a-90a7-871ba8813c72",
   "metadata": {},
   "outputs": [
    {
     "data": {
      "text/plain": [
       "['Extra',\n",
       " 'spaces',\n",
       " 'at',\n",
       " 'the',\n",
       " 'start,',\n",
       " 'in',\n",
       " 'the',\n",
       " 'middle',\n",
       " ',',\n",
       " 'and',\n",
       " 'at',\n",
       " 'the',\n",
       " 'end.']"
      ]
     },
     "execution_count": 22,
     "metadata": {},
     "output_type": "execute_result"
    }
   ],
   "source": [
    "example = \"   Extra spaces at the start,  in the middle  ,  and at the end.  \"\n",
    "\n",
    "example_split = example.split()\n",
    "\n",
    "example_split"
   ]
  },
  {
   "cell_type": "code",
   "execution_count": 23,
   "id": "2b2cfbc2-c426-4594-9015-fb7b0e48c3ef",
   "metadata": {},
   "outputs": [
    {
     "data": {
      "text/plain": [
       "'Extra spaces at the start, in the middle , and at the end.'"
      ]
     },
     "execution_count": 23,
     "metadata": {},
     "output_type": "execute_result"
    }
   ],
   "source": [
    "' '.join(example.split())"
   ]
  },
  {
   "cell_type": "markdown",
   "id": "e69f2889-8dde-4f6f-a498-f81529ff8c56",
   "metadata": {},
   "source": [
    "## Conclusion\n",
    "\n",
    "Now you can handle strings and lists like a pro. There is more to cover for lists,"
   ]
  }
 ],
 "metadata": {
  "kernelspec": {
   "display_name": "Python 3 (ipykernel)",
   "language": "python",
   "name": "python3"
  },
  "language_info": {
   "codemirror_mode": {
    "name": "ipython",
    "version": 3
   },
   "file_extension": ".py",
   "mimetype": "text/x-python",
   "name": "python",
   "nbconvert_exporter": "python",
   "pygments_lexer": "ipython3",
   "version": "3.10.12"
  }
 },
 "nbformat": 4,
 "nbformat_minor": 5
}
