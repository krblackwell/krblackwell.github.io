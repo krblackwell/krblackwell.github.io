{
 "cells": [
  {
   "cell_type": "markdown",
   "id": "28347d82-d6ee-4476-ad83-403787cb0190",
   "metadata": {},
   "source": [
    "<!-- markdownlint-disable-next-line MD041 -->\n",
    "[Go back to Home](/) - [Go to lesson page](/docs/python/foundations/logical-and-comparison-operators) - [Go to Foundations section](/docs/python/foundations)"
   ]
  },
  {
   "cell_type": "markdown",
   "id": "8f07c045-f80e-4b7c-845c-c832eb050835",
   "metadata": {},
   "source": [
    "# How do I compare things?\n",
    "\n",
    "This lesson is going to cover how to compare things. You've seen the `==` equals comparison operator in a few lessons. This let's you know if two things are the same.\n",
    "\n",
    "## Learning Objectives\n",
    "\n",
    "- `is`\n",
    "- Comparing strings\n",
    "- Logical operators\n",
    "- Comparison operators\n",
    "\n",
    "There are `pythonic` ways of doing things in Python. There is a quick way to get the idea of this if you `import this`."
   ]
  },
  {
   "cell_type": "code",
   "execution_count": 1,
   "id": "f6b70fb2-0658-429e-842c-70bf30550912",
   "metadata": {},
   "outputs": [
    {
     "name": "stdout",
     "output_type": "stream",
     "text": [
      "The Zen of Python, by Tim Peters\n",
      "\n",
      "Beautiful is better than ugly.\n",
      "Explicit is better than implicit.\n",
      "Simple is better than complex.\n",
      "Complex is better than complicated.\n",
      "Flat is better than nested.\n",
      "Sparse is better than dense.\n",
      "Readability counts.\n",
      "Special cases aren't special enough to break the rules.\n",
      "Although practicality beats purity.\n",
      "Errors should never pass silently.\n",
      "Unless explicitly silenced.\n",
      "In the face of ambiguity, refuse the temptation to guess.\n",
      "There should be one-- and preferably only one --obvious way to do it.\n",
      "Although that way may not be obvious at first unless you're Dutch.\n",
      "Now is better than never.\n",
      "Although never is often better than *right* now.\n",
      "If the implementation is hard to explain, it's a bad idea.\n",
      "If the implementation is easy to explain, it may be a good idea.\n",
      "Namespaces are one honking great idea -- let's do more of those!\n"
     ]
    }
   ],
   "source": [
    "import this"
   ]
  },
  {
   "cell_type": "markdown",
   "id": "c2eaa6c8-8521-429d-b18a-e333416f70c6",
   "metadata": {},
   "source": [
    "This is called the Zen of Python. It's a guide to writing Python code. Some of the big takeaways is that coding is about a balance. Sometimes you need to code something that's ugly, because that's the only way to achieve your results in a way that's practical.\n",
    "\n",
    "You want code to be clear and readable. Someone else should be able to follow it and understand what's going on, and what's not going on.\n",
    "\n",
    "## `is`\n",
    "\n",
    "The first way of comparing that I'm going to talk about is using the `is` identity operator. It is considered pythonic to use it in certain situations."
   ]
  },
  {
   "cell_type": "code",
   "execution_count": 2,
   "id": "4c8ab713-17a2-42b3-9517-5ac429086b92",
   "metadata": {},
   "outputs": [
    {
     "data": {
      "text/plain": [
       "True"
      ]
     },
     "execution_count": 2,
     "metadata": {},
     "output_type": "execute_result"
    }
   ],
   "source": [
    "var = None\n",
    "\n",
    "var is None"
   ]
  },
  {
   "cell_type": "markdown",
   "id": "4a0626b3-6393-48f3-8845-dbde79031cc0",
   "metadata": {},
   "source": [
    "You can check if something `is None`, and this is better than doing `== None` like ~~`var == None`~~ which has a strikethrough because it's like looking at the sun! Don't look! You don't want to do it that way.\n",
    "\n",
    "This check will make more sense when you start working with functions."
   ]
  },
  {
   "cell_type": "code",
   "execution_count": 3,
   "id": "faa91623-cc12-489f-b414-4185d59e6c80",
   "metadata": {},
   "outputs": [
    {
     "data": {
      "text/plain": [
       "True"
      ]
     },
     "execution_count": 3,
     "metadata": {},
     "output_type": "execute_result"
    }
   ],
   "source": [
    "no_list = None\n",
    "\n",
    "no_list is None"
   ]
  },
  {
   "cell_type": "markdown",
   "id": "d753b17c-37b1-4231-97ad-efe0099caefc",
   "metadata": {},
   "source": [
    "Remember `None` has a special meaning where something is intentionally missing, or doesn't have anything assigned yet.\n",
    "\n",
    "`is` checks if something has the same location in memory. Remember this is something that's important to know about working with lists and dictionaries. We used `id()` to check if two lists are the same, but we can also use `is` to do the same check."
   ]
  },
  {
   "cell_type": "code",
   "execution_count": 4,
   "id": "ae534632-5164-4212-870e-c1702159af0a",
   "metadata": {},
   "outputs": [
    {
     "data": {
      "text/plain": [
       "True"
      ]
     },
     "execution_count": 4,
     "metadata": {},
     "output_type": "execute_result"
    }
   ],
   "source": [
    "list1 = [1, 2, 3]\n",
    "\n",
    "list2 = list1\n",
    "\n",
    "list1 is list2"
   ]
  },
  {
   "cell_type": "markdown",
   "id": "880d6c56-de01-4431-8fd0-ae798f502c4e",
   "metadata": {},
   "source": [
    "But remember two lists can be the same to us, but have different locations in memory. It depends on how they are created. So if we want to check that two lists or two dictionaries are the same, as in they have the same elements, we check them in a different way.\n",
    "\n",
    "In other words. If we want to know if list1's items are the same as list2's items below, we have to loop through and check.\n",
    "\n",
    "But we can see with our eyes that they have the same items/elements in them."
   ]
  },
  {
   "cell_type": "code",
   "execution_count": 5,
   "id": "e18486ad-c05c-47b1-91ab-16e819555d84",
   "metadata": {},
   "outputs": [
    {
     "data": {
      "text/plain": [
       "False"
      ]
     },
     "execution_count": 5,
     "metadata": {},
     "output_type": "execute_result"
    }
   ],
   "source": [
    "list1 = [1, 2, 3]\n",
    "list2 = [1, 2, 3]\n",
    "\n",
    "list1 is list2"
   ]
  },
  {
   "cell_type": "markdown",
   "id": "e7fe47c9-ada2-480a-a594-2e8d5a9ea3ac",
   "metadata": {},
   "source": [
    "And dictionaries are like lists in this way, too."
   ]
  },
  {
   "cell_type": "code",
   "execution_count": 6,
   "id": "48f9aa25-737e-433e-9ebe-a0376c78d2ca",
   "metadata": {},
   "outputs": [
    {
     "data": {
      "text/plain": [
       "True"
      ]
     },
     "execution_count": 6,
     "metadata": {},
     "output_type": "execute_result"
    }
   ],
   "source": [
    "dict1 = {\n",
    "    \"key1\": 1,\n",
    "    \"key2\": 2,\n",
    "    \"key3\": 3\n",
    "}\n",
    "\n",
    "dict2 = dict1\n",
    "\n",
    "dict1 is dict2"
   ]
  },
  {
   "cell_type": "markdown",
   "id": "195972da-9700-45e3-926e-b3c137fc1d61",
   "metadata": {},
   "source": [
    "Like the \"identical\" lists, these two empty dictionaries below are the same to us, but they have different locations in memory. If I make changes to one, it doesn't make changes to the other. They're independent."
   ]
  },
  {
   "cell_type": "code",
   "execution_count": 7,
   "id": "b768ac27-c7d6-4aaf-a80f-9a06a5e34a5a",
   "metadata": {},
   "outputs": [
    {
     "data": {
      "text/plain": [
       "False"
      ]
     },
     "execution_count": 7,
     "metadata": {},
     "output_type": "execute_result"
    }
   ],
   "source": [
    "dict1 = {}\n",
    "dict2 = {}\n",
    "\n",
    "dict1 is dict2"
   ]
  },
  {
   "cell_type": "markdown",
   "id": "597690a7-10b9-4c38-98b6-56df5ce749c0",
   "metadata": {},
   "source": [
    "## Comparing strings\n",
    "\n",
    "We compare strings basically the same was as comparing numbers, but there's one `pythonic` way of comparing that I want to point out.\n",
    "\n",
    "If we want to know whether something is `in` a list or if a string contains another string, we use `in`.\n",
    "\n",
    "In the example below, we look for the word \"example\" in \"An example string\" and we find it!"
   ]
  },
  {
   "cell_type": "code",
   "execution_count": 8,
   "id": "9a469b38-78d5-4806-91e9-000cc9a59922",
   "metadata": {},
   "outputs": [
    {
     "data": {
      "text/plain": [
       "True"
      ]
     },
     "execution_count": 8,
     "metadata": {},
     "output_type": "execute_result"
    }
   ],
   "source": [
    "example_string = \"An example string\"\n",
    "\n",
    "\"example\" in example_string"
   ]
  },
  {
   "cell_type": "markdown",
   "id": "8829abac-c190-4f58-b07f-c136ea194d45",
   "metadata": {},
   "source": [
    "But remember, case matters in Python. The computer doesn't know that we might not care if it's \"Example\" or \"example\" that we're looking for."
   ]
  },
  {
   "cell_type": "code",
   "execution_count": 9,
   "id": "3f9d4e82-cb09-47c7-aa13-90b31dee99d2",
   "metadata": {},
   "outputs": [
    {
     "data": {
      "text/plain": [
       "False"
      ]
     },
     "execution_count": 9,
     "metadata": {},
     "output_type": "execute_result"
    }
   ],
   "source": [
    "\"Example\" in example_string"
   ]
  },
  {
   "cell_type": "markdown",
   "id": "a2eb7e6d-ba8a-4697-ba44-ddc3260268b7",
   "metadata": {},
   "source": [
    "We can ignore case by making both sides uppercase or lowercase."
   ]
  },
  {
   "cell_type": "code",
   "execution_count": 10,
   "id": "426fabd9-c37c-4438-a219-dcf1ae1f2f02",
   "metadata": {},
   "outputs": [
    {
     "data": {
      "text/plain": [
       "True"
      ]
     },
     "execution_count": 10,
     "metadata": {},
     "output_type": "execute_result"
    }
   ],
   "source": [
    "\"Example\".upper() in example_string.upper()"
   ]
  },
  {
   "cell_type": "code",
   "execution_count": 11,
   "id": "ef349a6b-6e72-47e3-807d-5b7a89711524",
   "metadata": {},
   "outputs": [
    {
     "data": {
      "text/plain": [
       "True"
      ]
     },
     "execution_count": 11,
     "metadata": {},
     "output_type": "execute_result"
    }
   ],
   "source": [
    "\"Example\".lower() in example_string.lower()"
   ]
  },
  {
   "cell_type": "markdown",
   "id": "63c29d80-4233-489b-9e92-3fda9b25d6ae",
   "metadata": {},
   "source": [
    "We can use this for lists with numbers and other things. Like this:"
   ]
  },
  {
   "cell_type": "code",
   "execution_count": 12,
   "id": "8e9eb90b-c32d-4d47-a59c-8b19bbe459b6",
   "metadata": {},
   "outputs": [
    {
     "data": {
      "text/plain": [
       "True"
      ]
     },
     "execution_count": 12,
     "metadata": {},
     "output_type": "execute_result"
    }
   ],
   "source": [
    "list1 = [1, 2, 3]\n",
    "\n",
    "1 in list1"
   ]
  },
  {
   "cell_type": "code",
   "execution_count": 13,
   "id": "58950a2d-c61a-427d-a3b7-a0deda924120",
   "metadata": {},
   "outputs": [
    {
     "data": {
      "text/plain": [
       "True"
      ]
     },
     "execution_count": 13,
     "metadata": {},
     "output_type": "execute_result"
    }
   ],
   "source": [
    "person_dict = {\n",
    "    \"name\": \"Bingo\",\n",
    "    \"likes\": [\"owls\", \"xylophone\", \"books\"]\n",
    "}\n",
    "\n",
    "\"xylophone\" in person_dict.get(\"likes\")"
   ]
  },
  {
   "cell_type": "markdown",
   "id": "c6fee1a0-8db8-477a-b31a-ac78e18f3116",
   "metadata": {},
   "source": [
    "Or like this with a list of strings:"
   ]
  },
  {
   "cell_type": "code",
   "execution_count": 14,
   "id": "e7ad28ea-c674-4ea6-8883-becf46966c2d",
   "metadata": {},
   "outputs": [
    {
     "data": {
      "text/plain": [
       "True"
      ]
     },
     "execution_count": 14,
     "metadata": {},
     "output_type": "execute_result"
    }
   ],
   "source": [
    "string_list = [\"aardvark\", \"hat\", \"yolo\"]\n",
    "\n",
    "\"yolo\" in string_list"
   ]
  },
  {
   "cell_type": "markdown",
   "id": "4767d90f-7e25-4be3-a79b-3e39b5cc05ea",
   "metadata": {},
   "source": [
    "## Comparison operators (`==`, `!=`, `<`, `>`, `<=`, `>=`)\n",
    "\n",
    "When we want to compare things, we want to know if they're equal.\\\n",
    "We might want to know if they're not equal.\\\n",
    "We might want to know if they're\n",
    "\n",
    "- less than, or\n",
    "- greater than something else.\n",
    "\n",
    "And when working with less than `<` or greater than `>`, you also might want to include something equal to, to get less than or equal to `<=` or greater than or equal to `>=`.\n",
    "\n",
    "In some cases in Python, like working with the Pandas library for example, you'll want to wrap your comparisons in parentheses (a > b) to make sure things evaluate in the right order and that they evaluate at all.\n",
    "\n",
    "Based on my experience, I recommend always wrapping your comparisons in parentheses. If you have a single comparison in a single cell, it's fine to leave them out."
   ]
  },
  {
   "cell_type": "markdown",
   "id": "2f694d3e-f261-4e06-bfb2-132c177a7316",
   "metadata": {},
   "source": [
    "### `==` and `!=` equals and not equals"
   ]
  },
  {
   "cell_type": "code",
   "execution_count": 15,
   "id": "f50b738e-d25e-4a94-8988-ed8e00ed7bec",
   "metadata": {},
   "outputs": [
    {
     "data": {
      "text/plain": [
       "False"
      ]
     },
     "execution_count": 15,
     "metadata": {},
     "output_type": "execute_result"
    }
   ],
   "source": [
    "1 == 2"
   ]
  },
  {
   "cell_type": "code",
   "execution_count": 16,
   "id": "f0d566a3-e5be-446a-b864-a1a7c842a0e9",
   "metadata": {},
   "outputs": [
    {
     "data": {
      "text/plain": [
       "False"
      ]
     },
     "execution_count": 16,
     "metadata": {},
     "output_type": "execute_result"
    }
   ],
   "source": [
    "(1 == 2)"
   ]
  },
  {
   "cell_type": "code",
   "execution_count": 17,
   "id": "6579e3ba-0835-4bdd-aee1-38e6271cf9a7",
   "metadata": {},
   "outputs": [
    {
     "data": {
      "text/plain": [
       "True"
      ]
     },
     "execution_count": 17,
     "metadata": {},
     "output_type": "execute_result"
    }
   ],
   "source": [
    "\"This is the same\" == \"This is the same\""
   ]
  },
  {
   "cell_type": "code",
   "execution_count": 18,
   "id": "2d9e0a24-1b03-49bd-8a60-de2357bdf80f",
   "metadata": {},
   "outputs": [
    {
     "data": {
      "text/plain": [
       "False"
      ]
     },
     "execution_count": 18,
     "metadata": {},
     "output_type": "execute_result"
    }
   ],
   "source": [
    "\"This is different.\" == \"Than this\""
   ]
  },
  {
   "cell_type": "code",
   "execution_count": 19,
   "id": "62670542-e0af-4d54-8a68-f6df8a5fcedd",
   "metadata": {},
   "outputs": [
    {
     "data": {
      "text/plain": [
       "False"
      ]
     },
     "execution_count": 19,
     "metadata": {},
     "output_type": "execute_result"
    }
   ],
   "source": [
    "\"This is the same\" != \"This is the same\""
   ]
  },
  {
   "cell_type": "code",
   "execution_count": 20,
   "id": "28df6fac-6cbd-4c73-bf3d-95d8452b702f",
   "metadata": {},
   "outputs": [
    {
     "data": {
      "text/plain": [
       "True"
      ]
     },
     "execution_count": 20,
     "metadata": {},
     "output_type": "execute_result"
    }
   ],
   "source": [
    "\"This is different.\" != \"Than this\""
   ]
  },
  {
   "cell_type": "code",
   "execution_count": 21,
   "id": "dd7d46e4-aa54-458d-a300-83dc2d97f529",
   "metadata": {},
   "outputs": [
    {
     "data": {
      "text/plain": [
       "True"
      ]
     },
     "execution_count": 21,
     "metadata": {},
     "output_type": "execute_result"
    }
   ],
   "source": [
    "3 == 3"
   ]
  },
  {
   "cell_type": "code",
   "execution_count": 22,
   "id": "0e9a9f10-a3cd-4403-aa82-cfc2a9366923",
   "metadata": {},
   "outputs": [
    {
     "data": {
      "text/plain": [
       "False"
      ]
     },
     "execution_count": 22,
     "metadata": {},
     "output_type": "execute_result"
    }
   ],
   "source": [
    "3 != 3"
   ]
  },
  {
   "cell_type": "code",
   "execution_count": 23,
   "id": "931883c0-5e0e-4e8c-9fbc-568448028729",
   "metadata": {},
   "outputs": [
    {
     "data": {
      "text/plain": [
       "True"
      ]
     },
     "execution_count": 23,
     "metadata": {},
     "output_type": "execute_result"
    }
   ],
   "source": [
    "1 != 2"
   ]
  },
  {
   "cell_type": "markdown",
   "id": "d0d34ff2-7cb5-4e87-a7fb-64d72e0f9b13",
   "metadata": {},
   "source": [
    "### `>` and `<` greater than and less than\n",
    "\n",
    "For the greater than/less than operators, you'll want to use numbers for comparison."
   ]
  },
  {
   "cell_type": "code",
   "execution_count": 24,
   "id": "2af5afe6-8b78-4bcc-88e4-fd258f2133ba",
   "metadata": {},
   "outputs": [
    {
     "data": {
      "text/plain": [
       "True"
      ]
     },
     "execution_count": 24,
     "metadata": {},
     "output_type": "execute_result"
    }
   ],
   "source": [
    "1 < 3"
   ]
  },
  {
   "cell_type": "code",
   "execution_count": 25,
   "id": "17019143-cd0b-40b7-9250-7f7deda40785",
   "metadata": {},
   "outputs": [
    {
     "data": {
      "text/plain": [
       "True"
      ]
     },
     "execution_count": 25,
     "metadata": {},
     "output_type": "execute_result"
    }
   ],
   "source": [
    "2 <= 2"
   ]
  },
  {
   "cell_type": "code",
   "execution_count": 26,
   "id": "95c60b3d-32cc-4237-9aad-bcc02b3f9bc7",
   "metadata": {},
   "outputs": [
    {
     "data": {
      "text/plain": [
       "True"
      ]
     },
     "execution_count": 26,
     "metadata": {},
     "output_type": "execute_result"
    }
   ],
   "source": [
    "2 <= 1000"
   ]
  },
  {
   "cell_type": "code",
   "execution_count": 27,
   "id": "83fb0473-a48a-4343-bf4c-80de85ff05a5",
   "metadata": {},
   "outputs": [
    {
     "data": {
      "text/plain": [
       "True"
      ]
     },
     "execution_count": 27,
     "metadata": {},
     "output_type": "execute_result"
    }
   ],
   "source": [
    "6 > 3"
   ]
  },
  {
   "cell_type": "code",
   "execution_count": 28,
   "id": "cb54b8a1-f231-4888-bd2c-ae56b42559d8",
   "metadata": {},
   "outputs": [
    {
     "data": {
      "text/plain": [
       "True"
      ]
     },
     "execution_count": 28,
     "metadata": {},
     "output_type": "execute_result"
    }
   ],
   "source": [
    "4 >= 4"
   ]
  },
  {
   "cell_type": "code",
   "execution_count": 29,
   "id": "0494e7a5-16fa-47a0-bc4e-6be1b8fba9ca",
   "metadata": {},
   "outputs": [
    {
     "data": {
      "text/plain": [
       "True"
      ]
     },
     "execution_count": 29,
     "metadata": {},
     "output_type": "execute_result"
    }
   ],
   "source": [
    "4 >= -2"
   ]
  },
  {
   "cell_type": "markdown",
   "id": "bc930ba3-bd92-411c-a773-07e57c499fa0",
   "metadata": {},
   "source": [
    "## Logical operators (`and`, `or`, `not`)\n",
    "\n",
    "Logical operators can join things together. Think of multiple comparisons like a sentence, and these are your conjunctions. Sometimes you can also use symbols for these:\n",
    "\n",
    "and - &\\\n",
    "or - |\\\n",
    "not - !\n",
    "\n",
    "Some packages will allow you to use the symbols and some allow you to use the words. I usually use the symbols, but some people do find the words more readable, so I will try to use the words more often in these lessons."
   ]
  },
  {
   "cell_type": "markdown",
   "id": "3c9644c2-961d-4c11-8fb2-a085049f896f",
   "metadata": {},
   "source": [
    "### and `&`\n",
    "\n",
    "Both conditions with `and` must be true for the whole thing to be true."
   ]
  },
  {
   "cell_type": "code",
   "execution_count": 30,
   "id": "9e42ae11-a17e-4c3d-8e0d-b39dca4a6f14",
   "metadata": {},
   "outputs": [
    {
     "data": {
      "text/plain": [
       "True"
      ]
     },
     "execution_count": 30,
     "metadata": {},
     "output_type": "execute_result"
    }
   ],
   "source": [
    "(1 == 1) & (2 == 2)"
   ]
  },
  {
   "cell_type": "code",
   "execution_count": 31,
   "id": "58bd0137-72ab-4ca2-8847-73aa41ebccfa",
   "metadata": {},
   "outputs": [
    {
     "data": {
      "text/plain": [
       "True"
      ]
     },
     "execution_count": 31,
     "metadata": {},
     "output_type": "execute_result"
    }
   ],
   "source": [
    "(1 == 1) and (2 == 2)"
   ]
  },
  {
   "cell_type": "markdown",
   "id": "35b3f1d7-a205-4679-8285-b57365c4dd47",
   "metadata": {},
   "source": [
    "But here's one where one condition is true and the other is false. Both must be true for us to get true with `and`."
   ]
  },
  {
   "cell_type": "code",
   "execution_count": 32,
   "id": "b09aa7d1-6b1e-4775-bd7a-6d482fa38022",
   "metadata": {},
   "outputs": [
    {
     "data": {
      "text/plain": [
       "False"
      ]
     },
     "execution_count": 32,
     "metadata": {},
     "output_type": "execute_result"
    }
   ],
   "source": [
    "(1 == 1) and (2 == 10)"
   ]
  },
  {
   "cell_type": "markdown",
   "id": "e7819e3a-26c1-4a1d-9d19-ed352e73adec",
   "metadata": {},
   "source": [
    "It doesn't matter if most are true. Only one has to be false for it to be false."
   ]
  },
  {
   "cell_type": "code",
   "execution_count": 33,
   "id": "adf67af4-0fab-48f4-a796-58941230bee7",
   "metadata": {},
   "outputs": [
    {
     "data": {
      "text/plain": [
       "False"
      ]
     },
     "execution_count": 33,
     "metadata": {},
     "output_type": "execute_result"
    }
   ],
   "source": [
    "(1 == 1) and (2 == 10) and (2 == 2) and (3 == 3)"
   ]
  },
  {
   "cell_type": "markdown",
   "id": "bcc3450e-6886-40f3-878a-590e3f2d1f96",
   "metadata": {},
   "source": [
    "### or `|`\n",
    "\n",
    "But with `or`, only one has to be true to get true, no matter how many are false."
   ]
  },
  {
   "cell_type": "code",
   "execution_count": 34,
   "id": "a397e41e-54f3-4c07-9fd9-9afe88872124",
   "metadata": {},
   "outputs": [
    {
     "data": {
      "text/plain": [
       "True"
      ]
     },
     "execution_count": 34,
     "metadata": {},
     "output_type": "execute_result"
    }
   ],
   "source": [
    "(1 == 1) | (\"not same\" == \"same?\")"
   ]
  },
  {
   "cell_type": "code",
   "execution_count": null,
   "id": "fbba8623-1988-4aec-b281-5f42c9ea7b41",
   "metadata": {},
   "outputs": [],
   "source": []
  }
 ],
 "metadata": {
  "kernelspec": {
   "display_name": "Python 3 (ipykernel)",
   "language": "python",
   "name": "python3"
  },
  "language_info": {
   "codemirror_mode": {
    "name": "ipython",
    "version": 3
   },
   "file_extension": ".py",
   "mimetype": "text/x-python",
   "name": "python",
   "nbconvert_exporter": "python",
   "pygments_lexer": "ipython3",
   "version": "3.10.12"
  }
 },
 "nbformat": 4,
 "nbformat_minor": 5
}
