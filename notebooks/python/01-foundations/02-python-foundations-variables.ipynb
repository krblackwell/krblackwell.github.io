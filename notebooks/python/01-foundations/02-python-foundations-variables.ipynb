{
 "cells": [
  {
   "cell_type": "markdown",
   "id": "29c327a3-edba-4aa2-b16c-87d832c838e3",
   "metadata": {},
   "source": [
    "# What are variables?\n",
    "\n",
    "When you code, you'll always be using something called a `variable`. A variable is like a container that holds information. It helps you to do a few things:\n",
    "\n",
    "- Use the same information again without writing it over and over.\n",
    "- Make many changes in one place.\n",
    "- Make a program more flexible."
   ]
  },
  {
   "cell_type": "markdown",
   "id": "a363d4fb-2da0-40d1-970b-9d0ad3fc052f",
   "metadata": {},
   "source": [
    "## Learning Objectives\n",
    "\n",
    "In this notebook, you'll learn about what a variable is, how to use it, and some of the different types.\n",
    "\n",
    "- A variable holds information.\n",
    "- Variables are assigned values.\n",
    "- There are a few variable types we'll start with: strings and integers."
   ]
  },
  {
   "cell_type": "markdown",
   "id": "87bd7088-3868-451c-9493-99939b78e476",
   "metadata": {},
   "source": [
    "## A variable holds information\n",
    "\n",
    "Sometimes you'll want to save a word or phrase, numbers, or bigger things so you can refer back to them later or change them up.\n",
    "\n",
    "Let's look at an example without a variable, and then use a variable."
   ]
  },
  {
   "cell_type": "code",
   "execution_count": 1,
   "id": "2cd78580-d1d8-476a-b54e-e55fba07edc4",
   "metadata": {},
   "outputs": [
    {
     "name": "stdout",
     "output_type": "stream",
     "text": [
      "Hello, World!\n"
     ]
    }
   ],
   "source": [
    "print(\"Hello, World!\")"
   ]
  },
  {
   "cell_type": "markdown",
   "id": "0dfcb0d8-f1ce-4f46-ba69-8ddbfede584c",
   "metadata": {},
   "source": [
    "We're printing a phrase here, but what if we want to change who we say \"Hello\" to!\n",
    "\n",
    "We can use a variable to do that."
   ]
  },
  {
   "cell_type": "code",
   "execution_count": 2,
   "id": "c949e053-56b6-4bbf-9946-b2f20f765912",
   "metadata": {},
   "outputs": [
    {
     "name": "stdout",
     "output_type": "stream",
     "text": [
      "Hello, Katie\n"
     ]
    }
   ],
   "source": [
    "name = \"Katie\"\n",
    "print(\"Hello,\", name)"
   ]
  },
  {
   "cell_type": "markdown",
   "id": "aba0436b-00f3-4a06-9125-c956d0775a73",
   "metadata": {},
   "source": [
    "The variable can hold a name! It does more than that for us."
   ]
  },
  {
   "cell_type": "markdown",
   "id": "a91e7f21-5fe9-4ddd-a3a4-93a504d6fc55",
   "metadata": {},
   "source": [
    "## Variables are assigned values\n",
    "\n",
    "When we put information into a variable, we are assigning it a value. You use only 1 equal sign for this.\n",
    "\n",
    "`name = \"Luke\"`\n",
    "\n",
    "The name Luke is assigned to the variable name.\n",
    "\n",
    "***TIP***\n",
    "`name` is a string!\n",
    "*** ***"
   ]
  },
  {
   "cell_type": "markdown",
   "id": "70d2640a-5730-4cd1-a287-f129f13ce92b",
   "metadata": {},
   "source": [
    "## There are different variable types\n",
    "\n",
    "Programming languages, like Python, have many different variable types. Two common ones are strings and integers.\n",
    "\n",
    "### Strings\n",
    "\n",
    "\"This is a string.\"\n",
    "\n",
    "\"string!\"\n",
    "\n",
    "\"striiiiiiiiiiiiiiing\"\n",
    "\n",
    "### Integers\n",
    "\n",
    "Numbers you've seen without a decimal are often integers. Most of the numbers you use and see everyday are integers.\n",
    "\n",
    "1, 2, 3, 4, 5 are integers\n",
    "\n",
    "100 is an integer"
   ]
  },
  {
   "cell_type": "markdown",
   "id": "6dfcac04-5b8a-43f0-b4c1-491955b85865",
   "metadata": {},
   "source": [
    "### Strings can be added together\n",
    "\n",
    "Adding a string is called `concatenation`. We will `concatenate` strings.\n",
    "\n",
    "Note I added a space after \"Hello.\""
   ]
  },
  {
   "cell_type": "code",
   "execution_count": 3,
   "id": "809c3d35-f6c8-4b50-bf84-1fa782e54443",
   "metadata": {},
   "outputs": [
    {
     "name": "stdout",
     "output_type": "stream",
     "text": [
      "Hello You! How are you doing?\n"
     ]
    }
   ],
   "source": [
    "print(\"Hello \" + \"You! \" + \"How are you doing?\")"
   ]
  },
  {
   "cell_type": "markdown",
   "id": "a4188185-d56a-499d-8c98-80f5b9a50403",
   "metadata": {},
   "source": [
    "This can be added into a variable also!"
   ]
  },
  {
   "cell_type": "code",
   "execution_count": 4,
   "id": "45009cc2-09e5-4974-95ae-3728b19b51e6",
   "metadata": {},
   "outputs": [
    {
     "name": "stdout",
     "output_type": "stream",
     "text": [
      "Hello You! How are you doing?\n"
     ]
    }
   ],
   "source": [
    "greeting = \"Hello \" + \"You! \" + \"How are you doing?\"\n",
    "print(greeting)"
   ]
  },
  {
   "cell_type": "markdown",
   "id": "7fc24cff-9435-4282-bfa8-28d450f1c5c5",
   "metadata": {},
   "source": [
    "And we can split it up into more variables."
   ]
  },
  {
   "cell_type": "code",
   "execution_count": 5,
   "id": "9f2c655f-dc33-46dd-93f8-14a581daa83f",
   "metadata": {},
   "outputs": [
    {
     "name": "stdout",
     "output_type": "stream",
     "text": [
      "Hello Sam! How are you doing?\n"
     ]
    }
   ],
   "source": [
    "name = \"Sam\"\n",
    "greeting = \"Hello \" + name + \"! \" + \"How are you doing?\"\n",
    "print(greeting)"
   ]
  },
  {
   "cell_type": "markdown",
   "id": "2b5648a7-81e2-4662-ac4c-405dcf1e159d",
   "metadata": {},
   "source": [
    "Notice we can change name much more easily this way. When we have a variable that's used a lot, this is very handy."
   ]
  },
  {
   "cell_type": "code",
   "execution_count": 6,
   "id": "a9f8846c-67df-444e-9ae5-3f4cfa0ddb41",
   "metadata": {},
   "outputs": [
    {
     "name": "stdout",
     "output_type": "stream",
     "text": [
      "Hello Krissy! How are you doing?\n"
     ]
    }
   ],
   "source": [
    "name = \"Krissy\"\n",
    "greeting = \"Hello \" + name + \"! \" + \"How are you doing?\"\n",
    "print(greeting)"
   ]
  },
  {
   "cell_type": "markdown",
   "id": "bfc5ae58-fddb-460b-a664-bf2751098291",
   "metadata": {},
   "source": [
    "### Numbers can be used in math\n",
    "\n",
    "Numbers can be printed in strings, but have to be `converted` into strings first in Python. This means we change an integer 5, for example, into a string.\n",
    "\n",
    "Don't worry if you don't know what `str()` is. It makes the integer variable `number1` a string.\n",
    "\n",
    "All I want you to remember is that when you mix numbers and letters together to print, you need it to all be a string."
   ]
  },
  {
   "cell_type": "code",
   "execution_count": 7,
   "id": "49c5f1cc-d949-4231-853c-586027ee43f3",
   "metadata": {},
   "outputs": [
    {
     "name": "stdout",
     "output_type": "stream",
     "text": [
      "It's 5!\n"
     ]
    }
   ],
   "source": [
    "number1 = 5\n",
    "number2 = 3\n",
    "print(\"It's \" + str(number1) + \"!\")"
   ]
  },
  {
   "cell_type": "markdown",
   "id": "2eefd66b-cc88-4703-b179-2b92a87390c1",
   "metadata": {},
   "source": [
    "I can do math, too. Look how I can use two variables in lots of different ways. If I ever need to change one of them, I only have to change it in one place—and it automatically updates everywhere else it’s used!"
   ]
  },
  {
   "cell_type": "code",
   "execution_count": 8,
   "id": "f1260fdd-0521-4044-8c9c-99f87ea3d4f5",
   "metadata": {},
   "outputs": [
    {
     "name": "stdout",
     "output_type": "stream",
     "text": [
      "8\n"
     ]
    }
   ],
   "source": [
    "print(number1 + number2)"
   ]
  },
  {
   "cell_type": "code",
   "execution_count": 9,
   "id": "b840a2c1-7350-466d-ac5c-889b7c6406a4",
   "metadata": {},
   "outputs": [
    {
     "name": "stdout",
     "output_type": "stream",
     "text": [
      "2\n"
     ]
    }
   ],
   "source": [
    "print(number1 - number2)"
   ]
  },
  {
   "cell_type": "code",
   "execution_count": 10,
   "id": "bdd2f56e-a849-42f1-b110-04def70f1a42",
   "metadata": {},
   "outputs": [
    {
     "name": "stdout",
     "output_type": "stream",
     "text": [
      "15\n"
     ]
    }
   ],
   "source": [
    "print(number1 * number2)"
   ]
  },
  {
   "cell_type": "markdown",
   "id": "a159577c-a12f-4b24-aaa0-9ebc78742822",
   "metadata": {},
   "source": [
    "## Recap\n",
    "\n",
    "In conclusion, we learned about variables, a way to hold and change out information in a program.\n",
    "Using variables helps us to make our code more flexible."
   ]
  }
 ],
 "metadata": {
  "kernelspec": {
   "display_name": "Python 3 (ipykernel)",
   "language": "python",
   "name": "python3"
  },
  "language_info": {
   "codemirror_mode": {
    "name": "ipython",
    "version": 3
   },
   "file_extension": ".py",
   "mimetype": "text/x-python",
   "name": "python",
   "nbconvert_exporter": "python",
   "pygments_lexer": "ipython3",
   "version": "3.10.12"
  }
 },
 "nbformat": 4,
 "nbformat_minor": 5
}
