{
 "cells": [
  {
   "cell_type": "markdown",
   "id": "b9dd82f7-5958-430d-b3f7-386cf295f91d",
   "metadata": {},
   "source": [
    "<!-- markdownlint-disable-next-line MD041 -->\n",
    "[Go back to Home](/) - [Go to lesson page](/docs/python/foundations/print) - [Go to Foundations section](/docs/python/foundations)"
   ]
  },
  {
   "cell_type": "markdown",
   "id": "58a5e3e1-b515-4938-b402-b1b6ae450037",
   "metadata": {},
   "source": [
    "# What is print?\n",
    "\n",
    "`print()` is something you'll be using a lot. It can help you with a lot of things:\n",
    "\n",
    "- Show information.\n",
    "- Figure out something wrong."
   ]
  },
  {
   "cell_type": "markdown",
   "id": "bfce517c-5ec3-4984-8930-4ab2963707a2",
   "metadata": {},
   "source": [
    "## Learning Objectives\n",
    "\n",
    "In this notebook, you'll learn about what a print statement is, and how to use it.\n",
    "\n",
    "- `print()` can display information.\n",
    "- `print()` can even help us make basic games."
   ]
  },
  {
   "cell_type": "markdown",
   "id": "286562ef-afd3-468e-a9ce-0f4f16723988",
   "metadata": {},
   "source": [
    "## `print()` shows us information on the screen\n",
    "\n",
    "When you display text, you use the `print()` statement. Here is the print statement that you traditionally start with in coding!"
   ]
  },
  {
   "cell_type": "code",
   "execution_count": 1,
   "id": "f69d3c8f-074e-4b78-bbce-dc171dd5ce03",
   "metadata": {},
   "outputs": [
    {
     "name": "stdout",
     "output_type": "stream",
     "text": [
      "Hello World!\n"
     ]
    }
   ],
   "source": [
    "print(\"Hello World!\")"
   ]
  },
  {
   "cell_type": "markdown",
   "id": "c2fc6c13-4a81-4411-af55-7fe32ebe1f60",
   "metadata": {},
   "source": [
    "We can print a lot of things, and this is very useful to understand what's happening in your program.\n",
    "\n",
    "Before we keep talking about print, I want to mention that code cells in a notebook will \"print\" without `print()`."
   ]
  },
  {
   "cell_type": "code",
   "execution_count": 2,
   "id": "1208d4a2-65f0-4f05-a353-578e86111f96",
   "metadata": {},
   "outputs": [
    {
     "data": {
      "text/plain": [
       "\"The cell will show this like it's printed\""
      ]
     },
     "execution_count": 2,
     "metadata": {},
     "output_type": "execute_result"
    }
   ],
   "source": [
    "\"The cell will show this\" + \" like it's printed\""
   ]
  },
  {
   "cell_type": "code",
   "execution_count": 3,
   "id": "9c1c24a1-9701-4e3e-b298-34fb1f344717",
   "metadata": {},
   "outputs": [
    {
     "data": {
      "text/plain": [
       "3"
      ]
     },
     "execution_count": 3,
     "metadata": {},
     "output_type": "execute_result"
    }
   ],
   "source": [
    "x = 2\n",
    "x + 1"
   ]
  },
  {
   "cell_type": "markdown",
   "id": "5f4c4d6e-8237-41a1-ba29-a9b8e1d12567",
   "metadata": {},
   "source": [
    "Let me show you some more print statements for fun!\n",
    "\n",
    "There's another way to print multiple lines at once using triple quotes `\"\"\"`. This is called a `multiline string`."
   ]
  },
  {
   "cell_type": "code",
   "execution_count": 4,
   "id": "fb123c87-379d-4a17-ab07-30dcc28339a1",
   "metadata": {},
   "outputs": [
    {
     "name": "stdout",
     "output_type": "stream",
     "text": [
      "\n",
      "A multiline string\n",
      "goes over more than one line,\n",
      "and can contain \"quoted\" stuff,\n",
      "or 'single quoted' stuff,\n",
      "or a word with an apostrophe.\n",
      "\n"
     ]
    }
   ],
   "source": [
    "print(\"\"\"\n",
    "A multiline string\n",
    "goes over more than one line,\n",
    "and can contain \"quoted\" stuff,\n",
    "or 'single quoted' stuff,\n",
    "or a word with an apostrophe.\n",
    "\"\"\")"
   ]
  },
  {
   "cell_type": "markdown",
   "id": "5ed03bcf-cc36-4b84-9afb-0beca62b6aef",
   "metadata": {},
   "source": [
    "### Game project\n",
    "\n",
    "Over the next few lessons, let's make a couple of simple games with text. We can make a choose-your-own adventure type of game, and a Mad Libs style game!\n",
    "\n",
    "The game will display a menu. The `user`, meaning the person playing the game, can choose a theme, like sci-fi. Text will appear on the screen and ask you what you'd like to do next.\n",
    "\n",
    "### Game menu\n",
    "\n",
    "Let's think through a game menu step by step. Imagine we want to make a few text-based games. We can give the user two choices, if they want a sci-fi type of game or a fantasy one."
   ]
  },
  {
   "cell_type": "code",
   "execution_count": 5,
   "id": "4450c3f6-4bfb-40ed-b7bb-df727f8dbf16",
   "metadata": {},
   "outputs": [
    {
     "name": "stdout",
     "output_type": "stream",
     "text": [
      "Game Menu\n",
      "1. Sci-Fi\n",
      "2. Fantasy\n"
     ]
    }
   ],
   "source": [
    "print(\"Game Menu\")\n",
    "print(\"1. Sci-Fi\")\n",
    "print(\"2. Fantasy\")"
   ]
  },
  {
   "cell_type": "markdown",
   "id": "c82c0b62-9c52-46d0-b78d-fc798c2a7ea4",
   "metadata": {},
   "source": [
    "Perhaps we can improve it by adding emojis. `print()` will display emojis!"
   ]
  },
  {
   "cell_type": "code",
   "execution_count": 6,
   "id": "ff4f458f-f8b0-4cb1-9f42-bc65007452fd",
   "metadata": {},
   "outputs": [
    {
     "name": "stdout",
     "output_type": "stream",
     "text": [
      "🎮 Game Menu\n",
      "1. 🚀 Sci-Fi\n",
      "2. 🧙 Fantasy\n"
     ]
    }
   ],
   "source": [
    "print(\"🎮 Game Menu\")\n",
    "print(\"1. 🚀 Sci-Fi\")\n",
    "print(\"2. 🧙 Fantasy\")"
   ]
  },
  {
   "cell_type": "markdown",
   "id": "bd34df14-1d95-4889-9ed3-d23be001a673",
   "metadata": {},
   "source": [
    "That's nice, but maybe we can make the \"Game Menu\" stand out more by adding a line underneath it."
   ]
  },
  {
   "cell_type": "code",
   "execution_count": 7,
   "id": "fdcafeb8-8396-4594-bf94-5b64b37701cb",
   "metadata": {},
   "outputs": [
    {
     "name": "stdout",
     "output_type": "stream",
     "text": [
      "🎮 Game Menu\n",
      "------------\n",
      "1. 🚀 Sci-Fi\n",
      "2. 🧙 Fantasy\n"
     ]
    }
   ],
   "source": [
    "print(\"🎮 Game Menu\")\n",
    "print(\"------------\")\n",
    "print(\"1. 🚀 Sci-Fi\")\n",
    "print(\"2. 🧙 Fantasy\")"
   ]
  },
  {
   "cell_type": "markdown",
   "id": "0b78a2d8-4ab7-4ca3-9385-ee885a674db5",
   "metadata": {},
   "source": [
    "That's looking nice. Let's go bananas and add more categories, including a choice so the user can exit the game."
   ]
  },
  {
   "cell_type": "code",
   "execution_count": 8,
   "id": "d711fbbc-a3ff-4b1d-ba4c-b4c427ff5191",
   "metadata": {},
   "outputs": [
    {
     "name": "stdout",
     "output_type": "stream",
     "text": [
      "🎮 Game Menu\n",
      "------------\n",
      "1. 🚀 Sci-Fi\n",
      "2. 🧙 Fantasy\n",
      "3. 🦖 Dinosaur\n",
      "4. 🕵️ Mystery\n",
      "6. ❌ Quit\n"
     ]
    }
   ],
   "source": [
    "print(\"🎮 Game Menu\")\n",
    "print(\"------------\")\n",
    "print(\"1. 🚀 Sci-Fi\")\n",
    "print(\"2. 🧙 Fantasy\")\n",
    "print(\"3. 🦖 Dinosaur\")\n",
    "print(\"4. 🕵️ Mystery\")\n",
    "print(\"6. ❌ Quit\")"
   ]
  },
  {
   "cell_type": "markdown",
   "id": "04deb9d2-36c8-4f1c-9138-31aa742bf96d",
   "metadata": {},
   "source": [
    "## Apostrophes\n",
    "\n",
    "The print statements above all have used double quotes `\"`, but you can use single quotes too."
   ]
  },
  {
   "cell_type": "code",
   "execution_count": 9,
   "id": "fb57465d-b834-464e-9fa5-8d299b92b8bc",
   "metadata": {},
   "outputs": [
    {
     "name": "stdout",
     "output_type": "stream",
     "text": [
      "I can use single quotes, too!\n"
     ]
    }
   ],
   "source": [
    "print('I can use single quotes, too!')"
   ]
  },
  {
   "cell_type": "markdown",
   "id": "b8179555-0a60-4758-8820-f5e9535d51de",
   "metadata": {},
   "source": [
    "One thing that will be important if you make your text game, is you need to know how to print something with a contraction, or other things with single quotes. A contraction is a word that is two words in one, separated by an apostrophe, like \"it is\" = \"it's\"\n",
    "\n",
    "They need to be surrounded in print with double quotes. So our line isn't too long, we separate it onto two lines. We also use a + to combine the two strings together. See below."
   ]
  },
  {
   "cell_type": "code",
   "execution_count": 1,
   "id": "30081f1f-09e6-4e46-9c44-e4a438820477",
   "metadata": {},
   "outputs": [
    {
     "name": "stdout",
     "output_type": "stream",
     "text": [
      "This print statement contains an apostrophe, so it needs double quotes. It's is a contraction.\n"
     ]
    }
   ],
   "source": [
    "print(\"This print statement contains an apostrophe, \"\n",
    "      + \"so it needs double quotes. It's is a contraction.\")"
   ]
  },
  {
   "cell_type": "markdown",
   "id": "b76e1210-bc44-4c08-a6c7-600d27759c70",
   "metadata": {},
   "source": [
    "The triple quotes also allows double quotes and single quotes inside it.\n",
    "\n",
    "Just be mindful of the types of quotes you're using in a program, and how they're `nested` with each other. Nested means when something is between something else. The double quotes in the example below are nested between triple quotes.\n",
    "\n",
    "I'm going to explain to you how the quotes are in the `print()` below. \"triple quotes start\" and \"triple quotes end\" refer to the three quotation marks next to each other where you see `print(\"\"\"` and `\"\"\")`.\n",
    "\n",
    "The part that says \"double quotes start and end\" refers to \"But I can next \"double quotes\" within the triple quotes.\"\n",
    "\n",
    "```text\n",
    "\"\"\"   -> triple quotes start\n",
    "\" \"   -> double quotes start and end\n",
    "'     -> a single quote by itself!\n",
    "' '   -> single quote start and end\n",
    "\" ' \" -> double quotes in single quotes\n",
    "\"\"\"   -> triple quotes end\n",
    "```\n",
    "\n",
    "\"Keep up with the Jones's\" is an expression about staying with current trends."
   ]
  },
  {
   "cell_type": "code",
   "execution_count": 11,
   "id": "e7ec141a-143f-4211-bdd1-9f7d6c11923f",
   "metadata": {},
   "outputs": [
    {
     "name": "stdout",
     "output_type": "stream",
     "text": [
      "\n",
      "This is all nested within triple quotes.\n",
      "But I can nest \"double quotes\" within the triple quotes.\n",
      "Don't you see my single quote?\n",
      "'But this is fine here too'\n",
      "\"Keep up with the Jones's\" if you want to use quotes.\n",
      "\n"
     ]
    }
   ],
   "source": [
    "print(\"\"\"\n",
    "This is all nested within triple quotes.\n",
    "But I can nest \"double quotes\" within the triple quotes.\n",
    "Don't you see my single quote?\n",
    "'But this is fine here too'\n",
    "\"Keep up with the Jones's\" if you want to use quotes.\n",
    "\"\"\")"
   ]
  },
  {
   "cell_type": "markdown",
   "id": "885cccec-d515-4e43-805a-407c24bcc5e6",
   "metadata": {},
   "source": [
    "In some programming languages, writing code like the examples above can be tricky because you have to use special marks called `slashes` next to the quotes.\n",
    "\n",
    "But in Python, it’s easier! Most of the time, you don’t need to add those slashes when you use `print()`.\n",
    "\n",
    "One thing to watch out for is `unbalanced` quotes. That means if you start with a quote `\"`, you have to finish with a matching quote `\"`. Otherwise, Python gets confused and shows an error. Study the above example carefully.\n",
    "\n",
    "The only time it’s okay not to close a quote right away is if you’re using triple quotes `\"\"\"` to write multiple lines or if the quotes are inside other quotes — like in the examples we did!"
   ]
  },
  {
   "cell_type": "markdown",
   "id": "5c60eb37-c388-4f27-ae3c-31410c4b4a88",
   "metadata": {},
   "source": [
    "## Recap\n",
    "\n",
    "In conclusion, we learned about `print()` and how to use it.\n",
    "\n",
    "- It can display information for us, and print on multiple lines.\n",
    "- We learned to watch out for the types of quotes `'` `\"` `\"\"\"` we're using together.\n",
    "- We can use emojis.\n",
    "- We'll be able to make a game!\n",
    "\n",
    "After the first few lessons, go to the \"projects\" folder and try out [Silly Story v1](/docs/python/foundations/projects/story-project-v1). This is the first game you make."
   ]
  }
 ],
 "metadata": {
  "kernelspec": {
   "display_name": "Python 3 (ipykernel)",
   "language": "python",
   "name": "python3"
  },
  "language_info": {
   "codemirror_mode": {
    "name": "ipython",
    "version": 3
   },
   "file_extension": ".py",
   "mimetype": "text/x-python",
   "name": "python",
   "nbconvert_exporter": "python",
   "pygments_lexer": "ipython3",
   "version": "3.10.12"
  }
 },
 "nbformat": 4,
 "nbformat_minor": 5
}
