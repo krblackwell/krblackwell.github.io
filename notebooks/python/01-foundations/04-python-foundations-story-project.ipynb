{
 "cells": [
  {
   "cell_type": "markdown",
   "id": "8ac0b478-c310-4f2f-930c-d6e0db0904e8",
   "metadata": {},
   "source": [
    "<!-- markdownlint-disable-next-line MD041 -->\n",
    "[Go back to Home](/) - [Go to lesson page](/docs/python/foundations/python-foundations-story-project) - [Go to Foundations section](/docs/python/foundations)"
   ]
  },
  {
   "cell_type": "markdown",
   "id": "5d578e46-ddfd-4c04-a950-d1e5652a0479",
   "metadata": {},
   "source": [
    "# Project - Silly Stories v1\n",
    "\n",
    "You may know some _libs_ that might be a little _mad_! Those silly sentences with fill-in-the-blank words are a fun game to play. We're going to start with that for our project.\n",
    "\n",
    "You need to know the following:\n",
    "\n",
    "- variables\n",
    "- `print()`\n",
    "- f-strings\n",
    "\n",
    "That's it! And you don't have to do this with f-strings, but we are going to.\n",
    "\n",
    "## What is a Silly Story?\n",
    "\n",
    "**(exclamation)**! Well, if **(person)** has never heard of a **(adjective)** Story, that's a shame!\n",
    "\n",
    "A Silly Story is a sentence that has some words taken out, and a friend fills them in (no peeking!).\n",
    "\n",
    "## Let's start with the full story\n",
    "\n",
    "Here is the story we'll use.\n",
    "\n",
    "Pip is an axolotl who lives in a beautiful lake. Every day, Pip wakes up with a yawn, and eats his breakfast of waffles. He goes to the market. As he passes his turtle friends, they exclaim, \"What a beautiful day!\"\n",
    "\n",
    "Print this story in the next cell. So my line isn't too long, I'm using the triple quotes `\"\"\"` and putting it on multiple lines. This isn't an f-string, so there is no f at the start."
   ]
  },
  {
   "cell_type": "code",
   "execution_count": 1,
   "id": "18080792-0e6e-4cf1-9b66-913885944f1c",
   "metadata": {},
   "outputs": [
    {
     "name": "stdout",
     "output_type": "stream",
     "text": [
      "\n",
      "Pip is an axolotl who lives in a beautiful lake. Every day,\n",
      "Pip wakes up with a yawn, and eats his breakfast of waffles.\n",
      "He goes to the market.\n",
      "As he passes his turtle friends, they exclaim, \"What a beautiful day!\"\n",
      "\n"
     ]
    }
   ],
   "source": [
    "print(\"\"\"\n",
    "Pip is an axolotl who lives in a beautiful lake. Every day,\n",
    "Pip wakes up with a yawn, and eats his breakfast of waffles.\n",
    "He goes to the market.\n",
    "As he passes his turtle friends, they exclaim, \"What a beautiful day!\"\n",
    "\"\"\")"
   ]
  },
  {
   "cell_type": "markdown",
   "id": "e1276df3-2377-45be-b542-0560a2fb787d",
   "metadata": {},
   "source": [
    "## Replace words with variables\n",
    "\n",
    "The next step is to replace some of the words with variables that we will say are parts of speech, or specific types of words. Let's replace the name of our character with a variable. Remember to add the `f`!"
   ]
  },
  {
   "cell_type": "code",
   "execution_count": 2,
   "id": "755adc62-5140-4593-b2cd-d7665cee3747",
   "metadata": {},
   "outputs": [
    {
     "name": "stdout",
     "output_type": "stream",
     "text": [
      "\n",
      "Pip is an axolotl who lives in a beautiful lake. Every day,\n",
      "Pip wakes up with a yawn, and eats his breakfast of waffles.\n",
      "He goes to the market.\n",
      "As he passes his turtle friends, they exclaim, \"What a beautiful day!\"\n",
      "\n"
     ]
    }
   ],
   "source": [
    "name = 'Pip'\n",
    "\n",
    "print(f\"\"\"\n",
    "{name} is an axolotl who lives in a beautiful lake. Every day,\n",
    "{name} wakes up with a yawn, and eats his breakfast of waffles.\n",
    "He goes to the market.\n",
    "As he passes his turtle friends, they exclaim, \"What a beautiful day!\"\n",
    "\"\"\")"
   ]
  },
  {
   "cell_type": "markdown",
   "id": "7533535f-61a6-4052-ad11-e3b239774941",
   "metadata": {},
   "source": [
    "If you open this notebook up in the Lab, you can play around with the name value (try your name!) and with the different words to replace. In the next few steps, we'll remove a few different words one at a time.\n",
    "\n",
    "***💡TIP***\n",
    "The lab is a good place to do this project.\n",
    "*** ***"
   ]
  },
  {
   "cell_type": "code",
   "execution_count": 3,
   "id": "677e130f-34e2-499c-832e-9e369982411c",
   "metadata": {},
   "outputs": [
    {
     "name": "stdout",
     "output_type": "stream",
     "text": [
      "\n",
      "Pip is a/an axolotl who lives in a beautiful lake. Every day,\n",
      "Pip wakes up with a yawn, and eats his breakfast of waffles.\n",
      "He goes to the market.\n",
      "As he passes his turtle friends, they exclaim, \"What a beautiful day!\"\n",
      "\n"
     ]
    }
   ],
   "source": [
    "name = 'Pip'\n",
    "type_of_animal = 'axolotl'\n",
    "\n",
    "print(f\"\"\"\n",
    "{name} is a/an {type_of_animal} who lives in a beautiful lake. Every day,\n",
    "{name} wakes up with a yawn, and eats his breakfast of waffles.\n",
    "He goes to the market.\n",
    "As he passes his turtle friends, they exclaim, \"What a beautiful day!\"\n",
    "\"\"\")"
   ]
  },
  {
   "cell_type": "code",
   "execution_count": 4,
   "id": "f40e124f-0981-4024-87fd-218cb58cf1b7",
   "metadata": {},
   "outputs": [
    {
     "name": "stdout",
     "output_type": "stream",
     "text": [
      "\n",
      "Pip is a/an axolotl who lives in a beautiful lake. Every day,\n",
      "Pip wakes up with a yawn, and eats his breakfast of waffles.\n",
      "He goes to the market.\n",
      "As he passes his turtle friends, they exclaim, \"What a beautiful day!\"\n",
      "\n"
     ]
    }
   ],
   "source": [
    "name = 'Pip'\n",
    "type_of_animal = 'axolotl'\n",
    "adjective1 = 'beautiful'\n",
    "\n",
    "print(f\"\"\"\n",
    "{name} is a/an {type_of_animal} who lives in a {adjective1} lake. Every day,\n",
    "{name} wakes up with a yawn, and eats his breakfast of waffles.\n",
    "He goes to the market.\n",
    "As he passes his turtle friends, they exclaim, \"What a beautiful day!\"\n",
    "\"\"\")"
   ]
  },
  {
   "cell_type": "code",
   "execution_count": 5,
   "id": "ef1de38b-3cb4-4e79-8829-0e072cd4657e",
   "metadata": {},
   "outputs": [
    {
     "name": "stdout",
     "output_type": "stream",
     "text": [
      "\n",
      "Pip is a/an axolotl who lives in a beautiful lake. Every day,\n",
      "Pip wakes up with a yawn, and eats his breakfast of waffles.\n",
      "He goes to the market.\n",
      "As he passes his turtle friends, they exclaim, \"What a beautiful day!\"\n",
      "\n"
     ]
    }
   ],
   "source": [
    "name = 'Pip'\n",
    "type_of_animal = 'axolotl'\n",
    "adjective1 = 'beautiful'\n",
    "noun1 = 'day'\n",
    "\n",
    "print(f\"\"\"\n",
    "{name} is a/an {type_of_animal} who lives in a {adjective1} lake. Every day,\n",
    "{name} wakes up with a yawn, and eats his breakfast of waffles.\n",
    "He goes to the market.\n",
    "As he passes his turtle friends, they exclaim, \"What a beautiful day!\"\n",
    "\"\"\")"
   ]
  },
  {
   "cell_type": "markdown",
   "id": "1c1b7af4-7989-4218-a4fe-ab6e1c007652",
   "metadata": {},
   "source": [
    "Since you get the idea, I'll replace the rest."
   ]
  },
  {
   "cell_type": "code",
   "execution_count": 6,
   "id": "7a402867-336d-4425-be44-d50ac1014340",
   "metadata": {},
   "outputs": [
    {
     "name": "stdout",
     "output_type": "stream",
     "text": [
      "\n",
      "Pip is a/an axolotl who lives in a beautiful lake. Every day,\n",
      "Pip wakes up with a/an yawn, and eats his breakfast of waffles.\n",
      "He goes to the market.\n",
      "As he passes his turtle friends, they exclaim, \"What a beautiful day!\"\n",
      "\n"
     ]
    }
   ],
   "source": [
    "name = 'Pip'\n",
    "type_of_animal = 'axolotl'\n",
    "adjective1 = 'beautiful'\n",
    "noun1 = 'day'\n",
    "noun2 = 'yawn'\n",
    "noun3 = 'waffles'\n",
    "place = 'market'\n",
    "type_of_animal2 = 'turtle'\n",
    "exclamation = \"What a beautiful day\"\n",
    "\n",
    "print(f\"\"\"\n",
    "{name} is a/an {type_of_animal} who lives in a {adjective1} lake. Every day,\n",
    "{name} wakes up with a/an {noun2}, and eats his breakfast of {noun3}.\n",
    "He goes to the {place}.\n",
    "As he passes his {type_of_animal2} friends, they exclaim, \"{exclamation}!\"\n",
    "\"\"\")"
   ]
  },
  {
   "cell_type": "markdown",
   "id": "cae2a386-c6c1-4c32-9acd-85d4bb57fc04",
   "metadata": {},
   "source": [
    "Now I'm going to show that you can change the values and get a silly story! These come from one we did at home."
   ]
  },
  {
   "cell_type": "code",
   "execution_count": 7,
   "id": "99fd9485-f49f-4b0a-8c69-7f6e8cf2a21b",
   "metadata": {},
   "outputs": [
    {
     "name": "stdout",
     "output_type": "stream",
     "text": [
      "\n",
      "Cookie is a/an cat who lives in a smelly lake. Every day,\n",
      "Cookie wakes up with a/an egg, and eats his breakfast of boombox.\n",
      "He goes to the volcano.\n",
      "As he passes his snake friends, they exclaim, \"AH!\"\n",
      "\n"
     ]
    }
   ],
   "source": [
    "name = 'Cookie'\n",
    "type_of_animal = 'cat'\n",
    "adjective1 = 'smelly'\n",
    "noun1 = 'glue'\n",
    "noun2 = 'egg'\n",
    "noun3 = 'boombox'\n",
    "place = 'volcano'\n",
    "type_of_animal2 = 'snake'\n",
    "exclamation = \"AH\"\n",
    "\n",
    "print(f\"\"\"\n",
    "{name} is a/an {type_of_animal} who lives in a {adjective1} lake. Every day,\n",
    "{name} wakes up with a/an {noun2}, and eats his breakfast of {noun3}.\n",
    "He goes to the {place}.\n",
    "As he passes his {type_of_animal2} friends, they exclaim, \"{exclamation}!\"\n",
    "\"\"\")"
   ]
  },
  {
   "cell_type": "markdown",
   "id": "a4285f4e-92cd-4f06-aeca-3eb12f38ed99",
   "metadata": {},
   "source": [
    "Try making your own silly story, or fill in one with a friend!\n",
    "\n",
    "***💡TIP***\n",
    "[Open a new blank notebook in the Lab](/lite/lab/index.html?path=My_Own_Silly_Storyv1.ipynb) to test if you can remember how to do this on your own!\n",
    "*** ***"
   ]
  },
  {
   "cell_type": "markdown",
   "id": "3b94ac74-c6be-40c5-8bd7-c34cf1b21d21",
   "metadata": {},
   "source": [
    "## Conclusion\n",
    "\n",
    "In conclusion, we can use our new understanding of variables, the f-strings, and prints together to make a simple game. We'll come back to our Silly Stories as we learn more about how to code!"
   ]
  }
 ],
 "metadata": {
  "kernelspec": {
   "display_name": "Python 3 (ipykernel)",
   "language": "python",
   "name": "python3"
  },
  "language_info": {
   "codemirror_mode": {
    "name": "ipython",
    "version": 3
   },
   "file_extension": ".py",
   "mimetype": "text/x-python",
   "name": "python",
   "nbconvert_exporter": "python",
   "pygments_lexer": "ipython3",
   "version": "3.10.12"
  }
 },
 "nbformat": 4,
 "nbformat_minor": 5
}
