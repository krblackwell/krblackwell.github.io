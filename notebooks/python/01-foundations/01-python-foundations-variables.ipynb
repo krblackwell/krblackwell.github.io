{
 "cells": [
  {
   "cell_type": "markdown",
   "id": "29c327a3-edba-4aa2-b16c-87d832c838e3",
   "metadata": {},
   "source": [
    "# What are variables?\n",
    "\n",
    "When you code, you'll always be using something called a `variable`. A variable is like a container that holds information. It helps you to do a few things:\n",
    "\n",
    "- use the same information again without writing it over and over\n",
    "- make many changes in one place\n",
    "- make a program more flexible"
   ]
  },
  {
   "cell_type": "markdown",
   "id": "a363d4fb-2da0-40d1-970b-9d0ad3fc052f",
   "metadata": {},
   "source": [
    "## Learning Objectives\n",
    "\n",
    "In this notebook, you'll learn about what a variable is, how to use it, and some of the different types.\n",
    "\n",
    "- A variable holds information.\n",
    "- Variables are assigned values.\n",
    "- There are a few variable types we'll start with: strings and integers."
   ]
  },
  {
   "cell_type": "markdown",
   "id": "87bd7088-3868-451c-9493-99939b78e476",
   "metadata": {},
   "source": [
    "## A variable holds information\n",
    "\n",
    "Sometimes you'll want to save a word or phrase, numbers, or bigger things so you can refer back to them later or change them up.\n",
    "\n",
    "Let's look at an example without a variable, and then use a variable."
   ]
  },
  {
   "cell_type": "code",
   "execution_count": 1,
   "id": "2cd78580-d1d8-476a-b54e-e55fba07edc4",
   "metadata": {},
   "outputs": [
    {
     "name": "stdout",
     "output_type": "stream",
     "text": [
      "Hello, World!\n"
     ]
    }
   ],
   "source": [
    "print(\"Hello, World!\")"
   ]
  },
  {
   "cell_type": "markdown",
   "id": "0dfcb0d8-f1ce-4f46-ba69-8ddbfede584c",
   "metadata": {},
   "source": [
    "We're printing a phrase here, but what if we want to change who we say \"Hello\" to!\n",
    "\n",
    "We can use a variable to do that."
   ]
  },
  {
   "cell_type": "code",
   "execution_count": 2,
   "id": "c949e053-56b6-4bbf-9946-b2f20f765912",
   "metadata": {},
   "outputs": [
    {
     "name": "stdout",
     "output_type": "stream",
     "text": [
      "Hello, Katie\n"
     ]
    }
   ],
   "source": [
    "name = \"Katie\"\n",
    "print(\"Hello,\", name)"
   ]
  },
  {
   "cell_type": "markdown",
   "id": "aba0436b-00f3-4a06-9125-c956d0775a73",
   "metadata": {},
   "source": [
    "The variable can hold a name! It does more than that for us."
   ]
  },
  {
   "cell_type": "markdown",
   "id": "a91e7f21-5fe9-4ddd-a3a4-93a504d6fc55",
   "metadata": {},
   "source": [
    "## Variables are assigned values\n",
    "\n",
    "When we put information into a variable, we are assigning it a value. You use only 1 equal sign for this.\n",
    "\n",
    "`name = \"Luke\"`\n",
    "\n",
    "The name Luke is assigned to the variable name.\n",
    "\n",
    "***TIP***\n",
    "`name` is a string!\n",
    "*** ***"
   ]
  },
  {
   "cell_type": "markdown",
   "id": "70d2640a-5730-4cd1-a287-f129f13ce92b",
   "metadata": {},
   "source": [
    "## There are different variable types\n",
    "\n",
    "Programming languages, like Python, have many different variable types. Two common ones are strings and integers. \n",
    "\n",
    "### Strings\n",
    "\n",
    "### Integers"
   ]
  },
  {
   "cell_type": "markdown",
   "id": "a159577c-a12f-4b24-aaa0-9ebc78742822",
   "metadata": {},
   "source": [
    "## Recap\n",
    "\n",
    "In conclusion, we learned about "
   ]
  }
 ],
 "metadata": {
  "kernelspec": {
   "display_name": "Python 3 (ipykernel)",
   "language": "python",
   "name": "python3"
  },
  "language_info": {
   "codemirror_mode": {
    "name": "ipython",
    "version": 3
   },
   "file_extension": ".py",
   "mimetype": "text/x-python",
   "name": "python",
   "nbconvert_exporter": "python",
   "pygments_lexer": "ipython3",
   "version": "3.10.12"
  }
 },
 "nbformat": 4,
 "nbformat_minor": 5
}
