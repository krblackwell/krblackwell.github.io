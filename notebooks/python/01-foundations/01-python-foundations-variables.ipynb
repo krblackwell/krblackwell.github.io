{
 "cells": [
  {
   "cell_type": "markdown",
   "id": "29c327a3-edba-4aa2-b16c-87d832c838e3",
   "metadata": {},
   "source": [
    "# What are variables?\n",
    "\n",
    "When you code, you'll always be using something called a `variable`. A variable is like a container that holds information. It helps you to do a few things:\n",
    "\n",
    "- use the same information again without writing it over and over\n",
    "- make many changes in one place\n",
    "- make a program more flexible"
   ]
  },
  {
   "cell_type": "markdown",
   "id": "a363d4fb-2da0-40d1-970b-9d0ad3fc052f",
   "metadata": {},
   "source": [
    "## Learning Objectives\n",
    "\n",
    "In this notebook, you'll learn about what a variable is, how to use it, and some of the different types.\n",
    "\n",
    "- A variable holds information.\n",
    "- Variables are assigned values.\n",
    "- There are a few variable types we'll start with: strings and integers."
   ]
  },
  {
   "cell_type": "code",
   "execution_count": 1,
   "id": "2cd78580-d1d8-476a-b54e-e55fba07edc4",
   "metadata": {},
   "outputs": [
    {
     "name": "stdout",
     "output_type": "stream",
     "text": [
      "1\n"
     ]
    }
   ],
   "source": [
    "variable1 = 1\n",
    "print(variable1)"
   ]
  },
  {
   "cell_type": "markdown",
   "id": "495b5375-5748-4a78-b459-fb06b2f748c5",
   "metadata": {},
   "source": [
    "***TIP***\n",
    "here is a tip\n",
    "*** ***\n",
    "\n",
    "and some text\n",
    "\n",
    "***TIP***\n",
    "but\n",
    "*** ***\n",
    "\n",
    "then"
   ]
  },
  {
   "cell_type": "markdown",
   "id": "ad7de624-4913-4735-9fa7-94a3a00cf486",
   "metadata": {},
   "source": [
    "***WARNING***\n",
    "here is a warning\\\n",
    "that's multiple lines\n",
    "*** ***"
   ]
  },
  {
   "cell_type": "markdown",
   "id": "19e8360f-0693-47f9-83c9-de4cf99cf349",
   "metadata": {},
   "source": [
    "***DANGER***\n",
    "danger danger\n",
    "*** ***"
   ]
  },
  {
   "cell_type": "markdown",
   "id": "a159577c-a12f-4b24-aaa0-9ebc78742822",
   "metadata": {},
   "source": [
    "## Conclusion\n",
    "\n",
    "In conclusion, we learned a lot."
   ]
  }
 ],
 "metadata": {
  "kernelspec": {
   "display_name": "Python 3 (ipykernel)",
   "language": "python",
   "name": "python3"
  },
  "language_info": {
   "codemirror_mode": {
    "name": "ipython",
    "version": 3
   },
   "file_extension": ".py",
   "mimetype": "text/x-python",
   "name": "python",
   "nbconvert_exporter": "python",
   "pygments_lexer": "ipython3",
   "version": "3.10.12"
  }
 },
 "nbformat": 4,
 "nbformat_minor": 5
}
