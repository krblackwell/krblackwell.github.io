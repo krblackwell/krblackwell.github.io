{
 "cells": [
  {
   "cell_type": "markdown",
   "id": "1397302c-c436-4818-b890-3933a59a95bb",
   "metadata": {},
   "source": [
    "# Lists\n",
    "\n",
    "length, join, split\n"
   ]
  },
  {
   "cell_type": "markdown",
   "id": "4b5bc274-28a1-4218-9e30-e2958f620c6c",
   "metadata": {},
   "source": [
    "Let's revisit the example with whitespace from our previous lesson."
   ]
  },
  {
   "cell_type": "code",
   "execution_count": 1,
   "id": "4079fcd1-fcc2-4e4a-90a7-871ba8813c72",
   "metadata": {},
   "outputs": [
    {
     "data": {
      "text/plain": [
       "['Extra',\n",
       " 'spaces',\n",
       " 'at',\n",
       " 'the',\n",
       " 'start,',\n",
       " 'in',\n",
       " 'the',\n",
       " 'middle',\n",
       " ',',\n",
       " 'and',\n",
       " 'at',\n",
       " 'the',\n",
       " 'end.']"
      ]
     },
     "execution_count": 1,
     "metadata": {},
     "output_type": "execute_result"
    }
   ],
   "source": [
    "example = \"   Extra spaces at the start,  in the middle  ,  and at the end.  \"\n",
    "\n",
    "example.split()"
   ]
  },
  {
   "cell_type": "code",
   "execution_count": null,
   "id": "2b2cfbc2-c426-4594-9015-fb7b0e48c3ef",
   "metadata": {},
   "outputs": [],
   "source": [
    "' '.join(example.split())"
   ]
  },
  {
   "cell_type": "markdown",
   "id": "1fadae41-6069-4a71-b260-7d1f8d1bccad",
   "metadata": {},
   "source": [
    ".split() – Split on whitespace (or a delimiter)\n",
    "\n",
    ".rsplit() – Like split, from the right\n",
    "\n",
    ".splitlines() – Split on \\n, respecting line breaks"
   ]
  }
 ],
 "metadata": {
  "kernelspec": {
   "display_name": "Python 3 (ipykernel)",
   "language": "python",
   "name": "python3"
  },
  "language_info": {
   "codemirror_mode": {
    "name": "ipython",
    "version": 3
   },
   "file_extension": ".py",
   "mimetype": "text/x-python",
   "name": "python",
   "nbconvert_exporter": "python",
   "pygments_lexer": "ipython3",
   "version": "3.10.12"
  }
 },
 "nbformat": 4,
 "nbformat_minor": 5
}
