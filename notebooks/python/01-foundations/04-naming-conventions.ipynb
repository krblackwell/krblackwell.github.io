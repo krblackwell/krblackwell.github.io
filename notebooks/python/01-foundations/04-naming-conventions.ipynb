{
 "cells": [
  {
   "cell_type": "markdown",
   "id": "a4ece74b-daf0-4f7b-87eb-f43356319d29",
   "metadata": {},
   "source": [
    "<!-- markdownlint-disable-next-line MD041 -->\n",
    "[Go back to Home](/) - [Go to lesson page](/docs/python/foundations/naming-conventions) - [Go to Foundations section](/docs/python/foundations)"
   ]
  },
  {
   "cell_type": "markdown",
   "id": "a71d8503-203c-4a5e-960b-d5fd68e453ec",
   "metadata": {},
   "source": [
    "# What do I call stuff in Python?\n",
    "\n",
    "`Naming conventions` are rules for giving things a name. We're going to focus this lesson on naming variables. As you learn, you'll grow in your understanding of this concept.\n",
    "\n",
    "- ❌ No nos\n",
    "- ℹ️ Things to know\n",
    "- ✅ Good names\n",
    "\n",
    "## Learning Objectives\n",
    "\n",
    "In this notebook, you'll learn about how to name variables.\n",
    "\n",
    "- You'll learn how not to name things, and some things to watch out for.\n",
    "- You'll see examples of good names."
   ]
  },
  {
   "cell_type": "markdown",
   "id": "ff97e581-3537-4f36-ad1e-b6423599fb17",
   "metadata": {},
   "source": [
    "## ❌ No nos\n",
    "\n",
    "You're not allowed to use some things to name a variable:\n",
    "\n",
    "- ❌ starting with a number\n",
    "- ❌ symbols or punctuation like $, %, , @\n",
    "- ❌ `reserved words` - like `break` `class` `except` `finally` `True`\n",
    "\n",
    "Create cells below or use the cell and see what error messages you get when you do any of the \"no nos.\"\n",
    "\n",
    "***💡TIP***\n",
    "You might not understand the errors, but this shows you that you might get error messages that don't tell you what's really wrong.\n",
    "*** ***\n",
    "\n",
    "\"UsageError: Line magic function `%var` not found.\" doesn't exactly tell you that you can't use that name for a variable."
   ]
  },
  {
   "cell_type": "code",
   "execution_count": 13,
   "id": "e3465cb1-cef0-4668-8b3f-eb4e2d51f42c",
   "metadata": {},
   "outputs": [],
   "source": [
    "# 1thing = \"this will raise SyntaxError: invalid decimal literal\""
   ]
  },
  {
   "cell_type": "code",
   "execution_count": 1,
   "id": "06ccdbb3-c620-4691-9aa2-9ed4314db3c9",
   "metadata": {},
   "outputs": [],
   "source": [
    "# %var = \"one\""
   ]
  },
  {
   "cell_type": "code",
   "execution_count": 2,
   "id": "b05bb0a8-ded3-4241-93de-c11f03dea25c",
   "metadata": {},
   "outputs": [],
   "source": [
    "# class = 3"
   ]
  },
  {
   "cell_type": "code",
   "execution_count": 3,
   "id": "64b76e19-f097-4b1e-a1fb-dba35c5f8f5c",
   "metadata": {},
   "outputs": [],
   "source": [
    "# var%name%3 = \"zombie\""
   ]
  },
  {
   "cell_type": "code",
   "execution_count": 4,
   "id": "a52e34fa-de2e-484f-83e9-51c4ddacf2c9",
   "metadata": {},
   "outputs": [],
   "source": [
    "# what! = \"no\""
   ]
  },
  {
   "cell_type": "markdown",
   "id": "70e9291c-8653-4742-b3cf-68a3c0cf7320",
   "metadata": {},
   "source": [
    "## ℹ️ Things to know\n",
    "\n",
    "- ℹ️ underscores _ mean something specific\n",
    "- ℹ️ use `snake_case`\n",
    "\n",
    "### ℹ️ Underscores as the first character\n",
    "\n",
    "Underscores have special meaning in Python at the beginning of a name. You use them in a certain way to tell other programmers (or future you) about the variables in your program.\n",
    "\n",
    "Double underscores are called `dunders`.\n"
   ]
  },
  {
   "cell_type": "code",
   "execution_count": 5,
   "id": "17478ad2-734e-4040-95bd-d21b424af34c",
   "metadata": {},
   "outputs": [],
   "source": [
    "_secret = \"you can see this\"\n",
    "# but the underscore at the beginning means don't use it directly!"
   ]
  },
  {
   "cell_type": "code",
   "execution_count": 6,
   "id": "abe252a6-502a-4942-90a2-9337faba8cba",
   "metadata": {},
   "outputs": [],
   "source": [
    "__top_secret = \"'double underscore' also means something specific\""
   ]
  },
  {
   "cell_type": "code",
   "execution_count": 7,
   "id": "6fc0db47-928d-456f-b73a-d0a2e3410834",
   "metadata": {},
   "outputs": [],
   "source": [
    "BadGuy = \"allowed, but not snake case\""
   ]
  },
  {
   "cell_type": "markdown",
   "id": "a52ba823-2947-4e28-9ed7-feb957c2683b",
   "metadata": {},
   "source": [
    "### ℹ️ Snake case\n",
    "\n",
    "Python conventions for variable names and some other names follow `snake case`. Spaces are replaced with an underscore _ and letters are usually all lowercase."
   ]
  },
  {
   "cell_type": "code",
   "execution_count": 8,
   "id": "69c70429-9a69-4cff-8800-27af5606ab2a",
   "metadata": {},
   "outputs": [],
   "source": [
    "type_of_animal = \"marsupial\""
   ]
  },
  {
   "cell_type": "code",
   "execution_count": 9,
   "id": "35780610-0911-485c-8de9-03b85c3cb334",
   "metadata": {},
   "outputs": [],
   "source": [
    "favorite_show = \"Australian Dog Family\""
   ]
  },
  {
   "cell_type": "markdown",
   "id": "2723bb56-5e92-4dc9-9248-a24eeed2aeb6",
   "metadata": {},
   "source": [
    "## Good names\n",
    "\n",
    "- ✅ descriptive\n",
    "- ✅ snake case\n",
    "- ✅ start with a letter\n",
    "\n",
    "We talked about a lot of things NOT to do, so here are examples of good names. When your programs get larger, you might have parts of them in different files. You'll be glad if you give your variables unique, descriptive names.\n",
    "\n",
    "### ✅ Descriptive, ✅ Snake case, ✅ Starts with a letter\n",
    "\n",
    "In the [\"Silly Stories\" project](/docs/python/foundations/projects/silly-stories-v1), variable names like `noun1` are descriptive enough. You know you need a noun, but we don't want to give away anything about the story. It's ok to have a number without the underscore.\n",
    "\n",
    "If you make a game, you might want to know `current_player` rather than player1 vs player2. Game logic would be based on whose turn it is, a current_player, rather than player1. `current_player` is descriptive, starts with a letter, and is snake case!\n",
    "\n",
    "Maybe you have something that gives you a True or False (like a yes or no) if you check for a winner: `check_winner`.\n",
    "<!-- markdownlint-disable-next-line MD033 -->\n",
    "Try out some good names by creating new cells in <a href=\"/lite/lab/index.html?path=python/01-foundations/04-naming-conventions.ipynb\">the Lab</a>"
   ]
  },
  {
   "cell_type": "code",
   "execution_count": 10,
   "id": "b4bf095b-5cc7-4e51-bc59-5da6cee9bff1",
   "metadata": {},
   "outputs": [],
   "source": [
    "bad_name = \"not descriptive\""
   ]
  },
  {
   "cell_type": "code",
   "execution_count": 11,
   "id": "9657d11e-ef98-4c4f-b2e0-1d3d5f1039d9",
   "metadata": {},
   "outputs": [],
   "source": [
    "test_input = \"this name can be fine\"\n",
    "fake_input = \"this can be ok too\""
   ]
  },
  {
   "cell_type": "code",
   "execution_count": 12,
   "id": "ead8e84e-32cc-426f-924b-d33068a724c1",
   "metadata": {},
   "outputs": [],
   "source": [
    "zombie_npc = \"A zombie lurches toward you!\""
   ]
  },
  {
   "cell_type": "markdown",
   "id": "adc464f4-6321-4831-8ec1-56fd8ccfc35a",
   "metadata": {},
   "source": [
    "## Conclusion\n",
    "\n",
    "In conclusion, we talked about good ideas for naming variables in Python. Names should be descriptive, start with a letter, and be snake_case!"
   ]
  }
 ],
 "metadata": {
  "kernelspec": {
   "display_name": "Python 3 (ipykernel)",
   "language": "python",
   "name": "python3"
  },
  "language_info": {
   "codemirror_mode": {
    "name": "ipython",
    "version": 3
   },
   "file_extension": ".py",
   "mimetype": "text/x-python",
   "name": "python",
   "nbconvert_exporter": "python",
   "pygments_lexer": "ipython3",
   "version": "3.10.12"
  }
 },
 "nbformat": 4,
 "nbformat_minor": 5
}
