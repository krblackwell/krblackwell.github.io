{
 "cells": [
  {
   "cell_type": "markdown",
   "id": "49f7ac33-e0f8-456a-90e3-b220bbb13d93",
   "metadata": {},
   "source": [
    "<!-- markdownlint-disable-next-line MD041 -->\n",
    "[Go back to Home](/) - [Go to lesson page](/docs/python/foundations/string-methods) - [Go to Foundations section](/docs/python/foundations)"
   ]
  },
  {
   "cell_type": "markdown",
   "id": "82125763-aef2-4468-9e78-202191586511",
   "metadata": {},
   "source": [
    "# String methods\n",
    "\n",
    "When you use strings \"like this\" or \"this\" or \"even something super long,\" you can use Python to do things with them. This lesson is a little longer, and you might want to come back to it, or just focus on a few methods at a time.\n",
    "\n",
    "I don't cover every string method here. There are a lot more. The Python documentation is the best place to see what methods all exist for strings. The next lesson covers documentation, and it's something we'll come back to as we go along in the lessons.\n",
    "\n",
    "## Learning Objectives\n",
    "\n",
    "- Methods allow you to use complex code without creating it\n",
    "- Methods may or may not return something\n",
    "- Strings have a lot of methods built in\n",
    "- You can use multiple methods on one line on one variable"
   ]
  },
  {
   "cell_type": "markdown",
   "id": "f4043c79-242d-4602-9b91-ba44aecf7cdf",
   "metadata": {},
   "source": [
    "## Methods\n",
    "\n",
    "We haven't covered methods or functions yet, but you've already used one.\n",
    "\n",
    "`print()` is a function.\n",
    "\n",
    "Functions and methods allow you to use complex code without creating it yourself. It means you can do interesting things without knowing exactly how to code them.\n",
    "\n",
    "Functions and methods are ways to make your code do things — like printing, formatting text, or calculating values."
   ]
  },
  {
   "cell_type": "code",
   "execution_count": 1,
   "id": "b25a15f7-f27f-474d-b791-e2279bae77ed",
   "metadata": {},
   "outputs": [
    {
     "name": "stdout",
     "output_type": "stream",
     "text": [
      "Hello World!\n"
     ]
    }
   ],
   "source": [
    "print(\"Hello World!\")"
   ]
  },
  {
   "cell_type": "markdown",
   "id": "cfdd05aa-2c43-45aa-98f8-9f2bf2572df9",
   "metadata": {},
   "source": [
    "- In this example, `print()` is a function.\n",
    "\n",
    "- It takes an argument: `\"Hello World!\"`\n",
    "\n",
    "- It does something with the argument: Shows it on the screen\n",
    "\n",
    "Methods and functions take arguments, and may or may not return something. Methods are attached to something, like the string methods we'll learn about in this lesson.\n",
    "\n",
    "A function can be used by itself, like `print()`."
   ]
  },
  {
   "cell_type": "markdown",
   "id": "c390750c-b416-44da-8033-21533c76cbc1",
   "metadata": {},
   "source": [
    "Here's another method that is interesting and useful for strings, length: `len()`"
   ]
  },
  {
   "cell_type": "code",
   "execution_count": 2,
   "id": "3f033858-5a32-4e5d-8b72-26d9d5028a71",
   "metadata": {},
   "outputs": [
    {
     "data": {
      "text/plain": [
       "24"
      ]
     },
     "execution_count": 2,
     "metadata": {},
     "output_type": "execute_result"
    }
   ],
   "source": [
    "len(\"How long is this string?\")"
   ]
  },
  {
   "cell_type": "markdown",
   "id": "eb3bb4ab-b1e3-4d4e-bdd7-ab1246f82a64",
   "metadata": {},
   "source": [
    "The string is 24 characters long, including the spaces and the question mark at the end. `len()`, or length, doesn't count the quotes in the length.\n",
    "\n",
    "Let's get into the string methods."
   ]
  },
  {
   "cell_type": "markdown",
   "id": "1063d67d-9133-4aa8-a8c9-cf46d79daedc",
   "metadata": {},
   "source": [
    "## Upper and lower case\n",
    "\n",
    "If you have a string, you can set it to upper or lower case with `.upper()` and `.lower()`.\n",
    "\n",
    "This is really handy for comparing strings. If you have input provided by data or a person or something like that, you can set them both to upper or lowercase if you don't care about case."
   ]
  },
  {
   "cell_type": "code",
   "execution_count": 3,
   "id": "5637ff91-730a-4c70-a508-1a0203dd28e0",
   "metadata": {},
   "outputs": [
    {
     "data": {
      "text/plain": [
       "'A LOWERCASE STRING'"
      ]
     },
     "execution_count": 3,
     "metadata": {},
     "output_type": "execute_result"
    }
   ],
   "source": [
    "\"a lowercase string\".upper()"
   ]
  },
  {
   "cell_type": "code",
   "execution_count": 4,
   "id": "ad9d8da6-1f4c-4e41-9f67-7b33ce009b34",
   "metadata": {},
   "outputs": [
    {
     "data": {
      "text/plain": [
       "'A MIX OF UPPER AND LOWER CASE'"
      ]
     },
     "execution_count": 4,
     "metadata": {},
     "output_type": "execute_result"
    }
   ],
   "source": [
    "\"A MIX of UPPER and lower case\".upper()"
   ]
  },
  {
   "cell_type": "code",
   "execution_count": 5,
   "id": "b1db81f8-d028-49a8-801c-6dd36a9fbf5f",
   "metadata": {},
   "outputs": [
    {
     "data": {
      "text/plain": [
       "'an uppercase string'"
      ]
     },
     "execution_count": 5,
     "metadata": {},
     "output_type": "execute_result"
    }
   ],
   "source": [
    "\"AN UPPERCASE STRING\".lower()"
   ]
  },
  {
   "cell_type": "code",
   "execution_count": 6,
   "id": "a5e7690c-e68d-45fe-985c-35c4d65db6d1",
   "metadata": {},
   "outputs": [
    {
     "data": {
      "text/plain": [
       "'a mix of upper and lower case again'"
      ]
     },
     "execution_count": 6,
     "metadata": {},
     "output_type": "execute_result"
    }
   ],
   "source": [
    "\"A MIX of UPPER and lower case again\".lower()"
   ]
  },
  {
   "cell_type": "markdown",
   "id": "7397fcf6-c809-41d0-bb84-6cf799cbc945",
   "metadata": {},
   "source": [
    "## Change case for some letters\n",
    "\n",
    "There are three other interesting methods that change case:\n",
    "\n",
    "- `.capitalize()`\n",
    "- `.title()`\n",
    "- `.swapcase()`\n",
    "\n",
    "Let's check out what they can do, and then talk about them."
   ]
  },
  {
   "cell_type": "code",
   "execution_count": 7,
   "id": "064f8767-e5b1-4e26-a745-d59bb2f7ebb7",
   "metadata": {},
   "outputs": [
    {
     "data": {
      "text/plain": [
       "'Cookie the cat'"
      ]
     },
     "execution_count": 7,
     "metadata": {},
     "output_type": "execute_result"
    }
   ],
   "source": [
    "\"cookie the cat\".capitalize()"
   ]
  },
  {
   "cell_type": "markdown",
   "id": "e53a84ba-7393-44ab-87fe-9399ad8060e7",
   "metadata": {},
   "source": [
    "Notice this one capitalizes only the first letter in a string."
   ]
  },
  {
   "cell_type": "code",
   "execution_count": 8,
   "id": "11240ca7-52d5-43e4-b957-62bd7bc81ca3",
   "metadata": {},
   "outputs": [
    {
     "data": {
      "text/plain": [
       "'Cookie The Cat'"
      ]
     },
     "execution_count": 8,
     "metadata": {},
     "output_type": "execute_result"
    }
   ],
   "source": [
    "\"cookie the cat\".title()"
   ]
  },
  {
   "cell_type": "markdown",
   "id": "0189dcba-b397-4993-8e9a-d1a9339d8424",
   "metadata": {},
   "source": [
    "`title()` capitalizes each word, like in a book title."
   ]
  },
  {
   "cell_type": "code",
   "execution_count": 9,
   "id": "b17f1598-f69d-4c8d-a290-c516a89d58aa",
   "metadata": {},
   "outputs": [
    {
     "data": {
      "text/plain": [
       "'COOKIE THE CAT'"
      ]
     },
     "execution_count": 9,
     "metadata": {},
     "output_type": "execute_result"
    }
   ],
   "source": [
    "\"cookie the cat\".swapcase()"
   ]
  },
  {
   "cell_type": "markdown",
   "id": "31d248eb-c2a0-4013-aa9e-ea55c8453bfd",
   "metadata": {},
   "source": [
    "`.swapcase()` is maybe not as obvious right away. The string went from lowercase to uppercase. Let's change the example a little."
   ]
  },
  {
   "cell_type": "code",
   "execution_count": 10,
   "id": "cc46b409-d26b-4974-8fb7-956dbff44392",
   "metadata": {},
   "outputs": [
    {
     "data": {
      "text/plain": [
       "'cOOKIE tHE cAT'"
      ]
     },
     "execution_count": 10,
     "metadata": {},
     "output_type": "execute_result"
    }
   ],
   "source": [
    "\"Cookie The Cat\".swapcase()"
   ]
  },
  {
   "cell_type": "markdown",
   "id": "e788d084-adbf-47aa-ab11-f65837b5fcef",
   "metadata": {},
   "source": [
    "Now you can see that the uppercase letters became lowercase, and the lowercase letters became uppercase!\n",
    "\n",
    "The only thing I can really think of in the professional world that this might be useful for is after detecting accidental capslock."
   ]
  },
  {
   "cell_type": "code",
   "execution_count": 11,
   "id": "ff76bee2-f576-4874-847f-336d9e09e5c6",
   "metadata": {},
   "outputs": [
    {
     "data": {
      "text/plain": [
       "'My capslock is on, oops'"
      ]
     },
     "execution_count": 11,
     "metadata": {},
     "output_type": "execute_result"
    }
   ],
   "source": [
    "\"mY CAPSLOCK IS ON, OOPS\".swapcase()"
   ]
  },
  {
   "cell_type": "markdown",
   "id": "2c6a0528-cb27-40c1-8a33-cbb93b2ebc48",
   "metadata": {},
   "source": [
    "## Remove whitespace\n",
    "\n",
    "Here are some that I've used on the job, and they are very useful in cleaning data. We can `.strip()` the spaces out from a string.\n",
    "\n",
    "- `.strip()`\n",
    "- `.lstrip()`\n",
    "- `.rstrip()`\n",
    "\n",
    "Let's take a look at what these do, starting with `.strip()`."
   ]
  },
  {
   "cell_type": "code",
   "execution_count": 12,
   "id": "95236c08-c37d-41f4-99e1-b726df281bfe",
   "metadata": {},
   "outputs": [
    {
     "data": {
      "text/plain": [
       "'Extra spaces at the start, and at the end.'"
      ]
     },
     "execution_count": 12,
     "metadata": {},
     "output_type": "execute_result"
    }
   ],
   "source": [
    "\"     Extra spaces at the start, and at the end.    \".strip()"
   ]
  },
  {
   "cell_type": "markdown",
   "id": "4081d9c2-a555-4beb-b99b-1cfb35cd06ea",
   "metadata": {},
   "source": [
    "That removed the spaces at the start and end. Sometimes we only care about spaces at the start OR at the end, in other words, at the left or right."
   ]
  },
  {
   "cell_type": "code",
   "execution_count": 13,
   "id": "160df417-ccb8-48fe-ad2a-f576280dcb01",
   "metadata": {},
   "outputs": [
    {
     "data": {
      "text/plain": [
       "'     Extra spaces at the start, and at the end.'"
      ]
     },
     "execution_count": 13,
     "metadata": {},
     "output_type": "execute_result"
    }
   ],
   "source": [
    "\"     Extra spaces at the start, and at the end.    \".rstrip()"
   ]
  },
  {
   "cell_type": "markdown",
   "id": "c6438710-d124-4584-804b-2c98c0522b62",
   "metadata": {},
   "source": [
    "The extra spaces on the \"right,\" which is the R in `.rstrip()` are taken away."
   ]
  },
  {
   "cell_type": "code",
   "execution_count": 14,
   "id": "3afb394c-f9bf-472e-9fd2-94079c094e65",
   "metadata": {},
   "outputs": [
    {
     "data": {
      "text/plain": [
       "'Extra spaces at the start, and at the end.    '"
      ]
     },
     "execution_count": 14,
     "metadata": {},
     "output_type": "execute_result"
    }
   ],
   "source": [
    "\"     Extra spaces at the start, and at the end.    \".lstrip()"
   ]
  },
  {
   "cell_type": "markdown",
   "id": "2d28c08f-5524-4d02-964d-9e69287380f9",
   "metadata": {},
   "source": [
    "## Chaining methods\n",
    "\n",
    "Before we go to the next section, I want to tell you how to chain methods. This means using two or more at the same time. You can do something like this:"
   ]
  },
  {
   "cell_type": "code",
   "execution_count": 15,
   "id": "3fe7bed6-878f-4049-9d3d-955965a99a8c",
   "metadata": {},
   "outputs": [
    {
     "data": {
      "text/plain": [
       "'HELLO'"
      ]
     },
     "execution_count": 15,
     "metadata": {},
     "output_type": "execute_result"
    }
   ],
   "source": [
    "\" hello \".strip().upper()"
   ]
  },
  {
   "cell_type": "markdown",
   "id": "1e9a6f58-4c4e-444d-b344-60f5e72c5c35",
   "metadata": {},
   "source": [
    "This took a `\" hello \"` that has extra whitespace at the start and end of the string. First we removed the extra spaces."
   ]
  },
  {
   "cell_type": "code",
   "execution_count": 16,
   "id": "10e76bed-aee6-4600-b625-0474c03972bb",
   "metadata": {},
   "outputs": [
    {
     "data": {
      "text/plain": [
       "'hello'"
      ]
     },
     "execution_count": 16,
     "metadata": {},
     "output_type": "execute_result"
    }
   ],
   "source": [
    "\" hello \".strip()"
   ]
  },
  {
   "cell_type": "markdown",
   "id": "5449b295-d34a-4c66-8f1b-9ba5c3c12705",
   "metadata": {},
   "source": [
    "That is what's returned from the first method. What's returned is used in the second method. I'll show it in a different way."
   ]
  },
  {
   "cell_type": "code",
   "execution_count": 17,
   "id": "38e28f18-d328-4d9c-a10e-5082254aefca",
   "metadata": {},
   "outputs": [
    {
     "data": {
      "text/plain": [
       "'HELLO'"
      ]
     },
     "execution_count": 17,
     "metadata": {},
     "output_type": "execute_result"
    }
   ],
   "source": [
    "str1 = \" hello \".strip()\n",
    "\n",
    "str1.upper()"
   ]
  },
  {
   "cell_type": "markdown",
   "id": "ad3ea5c2-1f39-4f7f-98e1-513a7b17e81f",
   "metadata": {},
   "source": [
    "This is equivalent to `\" hello \".strip().upper()`.\n",
    "\n",
    "***💡TIP***\n",
    "Everything is an object in Python.\n",
    "*** ***"
   ]
  },
  {
   "cell_type": "markdown",
   "id": "60c6fc02-d6df-4ae0-b96c-d9e3fc4006b3",
   "metadata": {},
   "source": [
    "## Replace\n",
    "\n",
    "Can replace help us with the spaces in the middle? Let's look at what happens with `.replace(old, new)`.\n",
    "\n",
    "The example variable has our string. We'll replace 2 spaces with no space."
   ]
  },
  {
   "cell_type": "code",
   "execution_count": 18,
   "id": "fd5182a2-cb02-40c3-b3de-c11a6b0b22f7",
   "metadata": {},
   "outputs": [
    {
     "data": {
      "text/plain": [
       "' Extra spaces at the start,in the middle,and at the end.'"
      ]
     },
     "execution_count": 18,
     "metadata": {},
     "output_type": "execute_result"
    }
   ],
   "source": [
    "example = \"   Extra spaces at the start,  in the middle,  and at the end.  \"\n",
    "example.replace(\"  \", \"\")"
   ]
  },
  {
   "cell_type": "markdown",
   "id": "0b535119-02a0-44ee-ab8c-e4d05e8f201f",
   "metadata": {},
   "source": [
    "It doesn't really work for this example, but sometimes it can be helpful for replacing whitespace. In the lesson on lists and strings, I'll show you how you can fix it properly.\n",
    "\n",
    "Let's play around with replace and see what it's good for. I've used replace functions a lot for working with data. I'll give a few examples of that with an address."
   ]
  },
  {
   "cell_type": "code",
   "execution_count": 19,
   "id": "a0c9093b-719c-44ca-84fd-39b6f397ab44",
   "metadata": {},
   "outputs": [
    {
     "data": {
      "text/plain": [
       "' 1234 main st'"
      ]
     },
     "execution_count": 19,
     "metadata": {},
     "output_type": "execute_result"
    }
   ],
   "source": [
    "\" 1234 main street\".replace(\"street\", \"st\")"
   ]
  },
  {
   "cell_type": "markdown",
   "id": "0caf8595-1d13-4427-a14b-607a0da53d10",
   "metadata": {},
   "source": [
    "Now let's do another thing with it."
   ]
  },
  {
   "cell_type": "code",
   "execution_count": 20,
   "id": "4813b14b-224e-4ccd-999b-4b9930884447",
   "metadata": {},
   "outputs": [
    {
     "data": {
      "text/plain": [
       "'1234 main st'"
      ]
     },
     "execution_count": 20,
     "metadata": {},
     "output_type": "execute_result"
    }
   ],
   "source": [
    "x = \" 1234 main street\".replace(\"street\", \"st\")\n",
    "y = x.strip()\n",
    "\n",
    "y"
   ]
  },
  {
   "cell_type": "markdown",
   "id": "8de0d545-7584-4ce9-be5b-93a468b50740",
   "metadata": {},
   "source": [
    "Note that this time I saved the second step to a variable with `y = x.strip()`.\n",
    "\n",
    "In a program, you won't just be printing things like we're doing so much in these lessons.\n",
    "\n",
    "You'll need to save things into variables to use them. This is called assigning a value to a variable.\n",
    "\n",
    "***💡TIP***\n",
    "Assign values to a variable so you can use them in your program.\n",
    "*** ***\n",
    "\n",
    "Next, we'll do a more fun example of find and replace that will help when you do the \"Alien Translator\" project.\n",
    "\n",
    "Let's imagine we have intercepted a secret message and translated it partway already. There's one last piece. The secret code is the alphabet but all the letters are shifted over one.\n",
    "\n",
    "| Letter | A | B | C | D | E | F | G | H | I |\n",
    "|--------|---|---|---|---|---|---|---|---|---|\n",
    "| Means  | B | C | D | E | F | G | H | I | J |\n",
    "\n",
    "| Letter | J | K | L | M | N | O | P | Q | R |\n",
    "|--------|---|---|---|---|---|---|---|---|---|\n",
    "| Means  | K | L | M | N | O | P | Q | R | S |\n",
    "\n",
    "| Letter | S | T | U | V | W | X | Y | Z |\n",
    "|--------|---|---|---|---|---|---|---|---|\n",
    "| Means  | T | U | V | W | X | Y | Z | A |"
   ]
  },
  {
   "cell_type": "code",
   "execution_count": 22,
   "id": "6a30165c-4f3e-4909-9b4d-13bfcb9b8481",
   "metadata": {},
   "outputs": [
    {
     "data": {
      "text/plain": [
       "'Meet me at the CAFE'"
      ]
     },
     "execution_count": 22,
     "metadata": {},
     "output_type": "execute_result"
    }
   ],
   "source": [
    "secret_message = \"Meet me at the BZED\"\n",
    "\n",
    "secret_message.replace(\"B\", \"C\")\\\n",
    "              .replace(\"Z\", \"A\")\\\n",
    "              .replace(\"E\", \"F\")\\\n",
    "              .replace(\"D\", \"E\")"
   ]
  },
  {
   "cell_type": "markdown",
   "id": "28f8c861-c140-4ca4-82a6-caac3ae7e5f6",
   "metadata": {},
   "source": [
    "This is a little tedious to type each letter one at a time, but the exercise will be easier when we learn dictionaries.\n",
    "\n",
    "***💡TIP***\n",
    "See the `\\` backslash used in the cell above? You can use that to continue code on another line. This is helpful to keep lines shorter.\n",
    "*** ***"
   ]
  },
  {
   "cell_type": "markdown",
   "id": "7ba17a08-a5db-46dc-91dc-e9d7fdcaffbf",
   "metadata": {},
   "source": [
    "## Conclusion\n",
    "\n",
    "In conclusion, we learned methods for the string class `str`, and how it returns things.\n",
    "\n",
    "- `.upper()`\n",
    "- `.lower()`\n",
    "- `.capitalize()`\n",
    "- `.title()`\n",
    "- `.swapcase()`\n",
    "- `.strip()`\n",
    "- `.lstrip()`\n",
    "- `.rstrip()`\n",
    "- `.replace()`"
   ]
  }
 ],
 "metadata": {
  "kernelspec": {
   "display_name": "Python 3 (ipykernel)",
   "language": "python",
   "name": "python3"
  },
  "language_info": {
   "codemirror_mode": {
    "name": "ipython",
    "version": 3
   },
   "file_extension": ".py",
   "mimetype": "text/x-python",
   "name": "python",
   "nbconvert_exporter": "python",
   "pygments_lexer": "ipython3",
   "version": "3.10.12"
  }
 },
 "nbformat": 4,
 "nbformat_minor": 5
}
