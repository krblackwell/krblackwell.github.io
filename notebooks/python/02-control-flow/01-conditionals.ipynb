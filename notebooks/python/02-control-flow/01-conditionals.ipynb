{
 "cells": [
  {
   "cell_type": "markdown",
   "id": "8a2f129c-d4e2-49d4-8f49-d1cac286acfc",
   "metadata": {},
   "source": [
    "<!-- markdownlint-disable-next-line MD041 -->\n",
    "[Go back to Home](/) - [Go to lesson page](/docs/python/control-flow/conditionals) - [Go to Control Flow section](/docs/python/control-flow)"
   ]
  },
  {
   "cell_type": "markdown",
   "id": "2b0aa170-b756-4800-b9db-458585841980",
   "metadata": {},
   "source": [
    "# Conditionals\n",
    "\n",
    "You might've heard the word \"unconditional\" like \"unconditional love\" when someone loves someone else no matter what. There are no conditions on it.\n",
    "\n",
    "Conditionals in programming are if-then statements.\n",
    "\n",
    "Maybe an example is what you do for the day depends on the weather. If the weather is bad, you do one thing, if the weather is nice, do another.\n",
    "\n",
    "```text\n",
    "If it's hot outside, then\n",
    "    we go to the pool.\n",
    "Else,\n",
    "    we go to the mall.\n",
    "```\n",
    "\n",
    "What we do depends on the weather.\n",
    "\n",
    "```text\n",
    "If it rains, then\n",
    "    we stay inside.\n",
    "Else,\n",
    "    let's play outside.\n",
    "```\n",
    "\n",
    "We can add more ifs in there too!\n",
    "\n",
    "```text\n",
    "If it rains, then\n",
    "    we stay inside.\n",
    "Else if it's drizzling, then\n",
    "    we jump in the puddles.\n",
    "Else if it's cloudy, then\n",
    "    we go fishing.\n",
    "Else if it's sunny AND warm, then\n",
    "    we go to the beach.\n",
    "Else if it's too hot, then\n",
    "    we go to the mall.\n",
    "Else\n",
    "    we play soccer.\n",
    "```\n",
    "\n",
    "In Python, it can look like this. Sometimes, we use just an if by itself."
   ]
  },
  {
   "cell_type": "code",
   "execution_count": 1,
   "id": "a79a3318-8b4d-400a-85f4-4ba332cf9d4b",
   "metadata": {},
   "outputs": [
    {
     "name": "stdout",
     "output_type": "stream",
     "text": [
      "1 equals 1\n"
     ]
    }
   ],
   "source": [
    "if 1 == 1:\n",
    "    print(\"1 equals 1\")"
   ]
  },
  {
   "cell_type": "markdown",
   "id": "744ccd8a-49a4-4e97-b6f0-b89ff07277a8",
   "metadata": {},
   "source": [
    "But you can do if-else too."
   ]
  },
  {
   "cell_type": "code",
   "execution_count": 2,
   "id": "86b7b6ef-5cd7-474e-80c2-078cd19b6de2",
   "metadata": {},
   "outputs": [
    {
     "name": "stdout",
     "output_type": "stream",
     "text": [
      "You see this!\n"
     ]
    }
   ],
   "source": [
    "if False:\n",
    "    print(\"You won't see this\")\n",
    "else:\n",
    "    print(\"You see this!\")"
   ]
  },
  {
   "cell_type": "code",
   "execution_count": 3,
   "id": "90b2bd14-5e25-4332-9603-f7c2a7e167ab",
   "metadata": {},
   "outputs": [
    {
     "name": "stdout",
     "output_type": "stream",
     "text": [
      "You see this because it's True\n"
     ]
    }
   ],
   "source": [
    "if True:\n",
    "    print(\"You see this because it's True\")\n",
    "else:\n",
    "    print(\"But not this.\")"
   ]
  },
  {
   "cell_type": "markdown",
   "id": "3be5b0e5-66e2-4553-9286-78b8bc3cb4ba",
   "metadata": {},
   "source": [
    "Remember those logical operators? Let's try it out."
   ]
  },
  {
   "cell_type": "code",
   "execution_count": 4,
   "id": "231884ce-f0a0-4f1b-bf69-9114ac236af7",
   "metadata": {},
   "outputs": [
    {
     "name": "stdout",
     "output_type": "stream",
     "text": [
      "Weekend!\n"
     ]
    }
   ],
   "source": [
    "day = \"Sunday\"\n",
    "if day == (\"Saturday\") or (day == \"Sunday\"):\n",
    "    print(\"Weekend!\")\n",
    "else:\n",
    "    print(\"It's a weekday.\")"
   ]
  },
  {
   "cell_type": "markdown",
   "id": "e551b9f0-092a-41d1-ace1-1202541edf14",
   "metadata": {},
   "source": [
    "I'm going to give you a more real world example that I encounter in my work. Not every programmer works with data like I do. It's one of many careers that you could have as a programmer. If you're interested in that!\n",
    "\n",
    "Let me explain the idea behind the code below. Feel free to skip this explanation if the code example makes sense enough.\n",
    "\n",
    "When working with data on people, you usually have age, and often you `recode` age into categories. You take age 1, 2, 3, 4, 5, etc, and group them together. A variable like age being in some number of years (20, 21, 22, 23, etc) is called a `continuous` variable. We'll recode it to a `categorical` where it will be 1, 2, 3, 4, 5, and each of those numbers means a bunch of ages grouped together.\n",
    "\n",
    "When I print \"1: 0-3 years\" this is because often you `recode` variables/columns when you work with data. The recode will create number or string categories. In our example below, let's imagine we create categories like this:\n",
    "\n",
    "| recode | age in years |\n",
    "|---|---|\n",
    "| 1 | 0-3 |\n",
    "| 2 | 4-13 |\n",
    "| 3 | 14-20 |\n",
    "| 4 | 21-64 |\n",
    "| 5 | 65+ |\n",
    "\n",
    "We cover every age category because we end with \"65+\" meaning 65 and older.\n",
    "\n",
    "Age can be grouped in different ways depending on what you're studying and what type of things you're interested in knowing about. For example, if you want to know about driving, age 16 is significant because in the USA that's when you can get a license. But if you have to work, you can get it earlier.\n",
    "\n",
    "In a lot of frameworks/packages that help you work with data, you can make labels for your columns and variables. So our print below is going to be like the label. When I'm working with a variable, I make sure to include the value in the label, and the description. In our case, \"1: 0-3 years\" lets us know that recode=1 means 0 - 3 years of age.\n",
    "\n",
    "Variables/columns can have descriptions added to them too, so the label for the recode (which here is just a print statement and not actually something being output) would be \"recode: age in years category.\"\n",
    "\n",
    "If you sort of followed that, that's fine. We'll cover working with data in a different lesson section."
   ]
  },
  {
   "cell_type": "code",
   "execution_count": 5,
   "id": "6e043667-9523-4d86-88d7-ea12b3991401",
   "metadata": {},
   "outputs": [
    {
     "name": "stdout",
     "output_type": "stream",
     "text": [
      "4: 21-64 years\n"
     ]
    }
   ],
   "source": [
    "age = 25\n",
    "\n",
    "if age < 0:\n",
    "    print(\"Invalid age.\")\n",
    "elif age >= 0 and age <= 3:\n",
    "    print(\"1: 0-3 years\")\n",
    "elif age > 3 and age <= 13:\n",
    "    print(\"2: 4-13 years\")\n",
    "elif age > 13 and age <= 20:\n",
    "    print(\"3: 14-20 years\")\n",
    "elif age > 20 and age < 65:\n",
    "    print(\"4: 21-64 years\")\n",
    "elif age >= 65:\n",
    "    print(\"5: 65 years and up\")\n"
   ]
  },
  {
   "cell_type": "markdown",
   "id": "938e5020-4cde-4003-b57f-52a225a8e0a1",
   "metadata": {},
   "source": [
    "Sometimes, you get input from a process or a person, and then do something based on that."
   ]
  },
  {
   "cell_type": "code",
   "execution_count": 6,
   "id": "d5b786ab-175a-4cee-b4b8-69153b92313e",
   "metadata": {},
   "outputs": [
    {
     "name": "stdout",
     "output_type": "stream",
     "text": [
      "Good job!\n"
     ]
    }
   ],
   "source": [
    "input_in = \"yes\"\n",
    "\n",
    "if (input_in == \"yes\"):\n",
    "    print(\"Good job!\")\n",
    "else:\n",
    "    print(\"Try again.\")"
   ]
  },
  {
   "cell_type": "markdown",
   "id": "387efb1c-399e-4d95-a71c-5595a57746c5",
   "metadata": {},
   "source": [
    "The next example might be like if you go shopping and have a military discount applied to your purchase.\n",
    "\n",
    "Notice in this next example we don't need to say `is_military is True`. For truthy values (\"not zero\" vs 0) or \"string contains values\" vs empty string), you can do this too.\n",
    "\n",
    "If you have something that is a `boolean`, you can just ask `if boolean_variable`.\n",
    "Remember boolean is the name for a variable that's just True or False."
   ]
  },
  {
   "cell_type": "code",
   "execution_count": 7,
   "id": "a25066ca-187e-4435-9f61-020f61264f70",
   "metadata": {},
   "outputs": [
    {
     "name": "stdout",
     "output_type": "stream",
     "text": [
      "You get a discount! \n"
     ]
    }
   ],
   "source": [
    "is_military = True\n",
    "\n",
    "if is_military:\n",
    "    print(\"You get a discount! \")\n",
    "else:\n",
    "    print(\"No discount applied.\")"
   ]
  },
  {
   "cell_type": "markdown",
   "id": "00aa6161-878f-46c7-ba16-449faea466c0",
   "metadata": {},
   "source": [
    "Or you want something to happen based on output from a method or function."
   ]
  },
  {
   "cell_type": "code",
   "execution_count": 8,
   "id": "fbb83360-9a6d-4551-b567-b9373ae43aa2",
   "metadata": {},
   "outputs": [
    {
     "name": "stdout",
     "output_type": "stream",
     "text": [
      "Score!\n"
     ]
    }
   ],
   "source": [
    "returned_data = 20\n",
    "\n",
    "if (returned_data > 30):\n",
    "    print(\"More than 30?\")\n",
    "elif (returned_data == 20):\n",
    "    print(\"Score!\")\n",
    "else:\n",
    "    print(\"Less than 30, not 20\")"
   ]
  },
  {
   "cell_type": "markdown",
   "id": "02637112-c36d-405e-b600-1b3ad838c134",
   "metadata": {},
   "source": [
    "And we can use those logical operators. Here we have an `and`."
   ]
  },
  {
   "cell_type": "code",
   "execution_count": 9,
   "id": "b5649004-d707-4b0b-ac11-4231f2a59c54",
   "metadata": {},
   "outputs": [
    {
     "name": "stdout",
     "output_type": "stream",
     "text": [
      "⭐️⭐️☆\n",
      "Good job!\n"
     ]
    }
   ],
   "source": [
    "returned_data = 15.33\n",
    "\n",
    "if (returned_data < 15):\n",
    "    print(\"⭐️☆☆\")\n",
    "    print(\"You got it!\")\n",
    "elif (returned_data >= 15) and (returned_data < 35):\n",
    "    print(\"⭐️⭐️☆\")\n",
    "    print(\"Good job!\")\n",
    "else:\n",
    "    print(\"⭐️⭐️⭐️\")\n",
    "    print(\"Amazing! You nailed it! 🎉\")"
   ]
  },
  {
   "cell_type": "markdown",
   "id": "51fd8289-867e-4652-b8e1-3d88f83f1e2a",
   "metadata": {},
   "source": [
    "You can put ifs within ifs. This is called a `nested` conditionals."
   ]
  },
  {
   "cell_type": "code",
   "execution_count": 10,
   "id": "3b63f289-0ef1-4285-bc24-32ad45e9eeae",
   "metadata": {},
   "outputs": [
    {
     "name": "stdout",
     "output_type": "stream",
     "text": [
      "Wow, you won by a lot!\n"
     ]
    }
   ],
   "source": [
    "player_score = 10\n",
    "computer_score = 1\n",
    "\n",
    "if (player_score > computer_score):\n",
    "    if (player_score > computer_score * 2):\n",
    "        print(\"Wow, you won by a lot!\")\n",
    "    elif (player_score > computer_score):\n",
    "        print(\"You win!\")\n",
    "    else:\n",
    "        print(\"You lose.\")"
   ]
  },
  {
   "cell_type": "markdown",
   "id": "7f5cfcd6-14ac-4fd6-b9c7-db1caad3543e",
   "metadata": {},
   "source": [
    "What might it look like with rock, paper, scissors?\n",
    "\n",
    "Pretend you're playing against the computer. Let's say you chose paper and the computer chose rock."
   ]
  },
  {
   "cell_type": "code",
   "execution_count": 11,
   "id": "84f76883-ac7d-4dd5-a7e8-ec9f5430fd82",
   "metadata": {},
   "outputs": [
    {
     "name": "stdout",
     "output_type": "stream",
     "text": [
      "You win!\n"
     ]
    }
   ],
   "source": [
    "player = \"paper\"\n",
    "computer = \"rock\"\n",
    "\n",
    "if (player == computer):\n",
    "    print(\"It's a tie!\")\n",
    "elif (player == 'rock'):\n",
    "    if (computer == 'scissors'):\n",
    "        print(\"You win!\")\n",
    "    elif (computer == 'paper'):\n",
    "        print(\"You lose!\")\n",
    "elif (player == 'paper'):\n",
    "    if (computer == 'rock'):\n",
    "        print(\"You win!\")\n",
    "    elif (computer == 'scissors'):\n",
    "        print(\"You lose!\")\n",
    "elif (player == 'scissors'):\n",
    "    if (computer == 'paper'):\n",
    "        print(\"You win!\")\n",
    "    elif (computer == 'rock'):\n",
    "        print(\"You lose!\")\n",
    "else:\n",
    "    print(\"Invalid choice.\")"
   ]
  },
  {
   "cell_type": "markdown",
   "id": "1ef368dc-ceb8-4120-9ebc-9b8bf3860933",
   "metadata": {},
   "source": [
    "That might look a little overwhelming, but if you get the if-elif-else, you can do it!\n",
    "\n",
    "Let's not forget about `not`."
   ]
  },
  {
   "cell_type": "code",
   "execution_count": 12,
   "id": "bcfa0a59-56d9-41de-9c81-0b9192a3a484",
   "metadata": {},
   "outputs": [
    {
     "name": "stdout",
     "output_type": "stream",
     "text": [
      "You don't have a potion\n"
     ]
    }
   ],
   "source": [
    "inventory = [\"boomerang\", \"arrows\"]\n",
    "user_request = \"potion\"\n",
    "\n",
    "if user_request not in inventory:\n",
    "    print(f\"You don't have a {user_request}\")"
   ]
  },
  {
   "cell_type": "markdown",
   "id": "d369b776-26e5-4aec-adc8-b3ef90957a0d",
   "metadata": {},
   "source": [
    "If you're ever in a bind, you can sometimes use if-else to avoid coding something that's not working."
   ]
  },
  {
   "cell_type": "code",
   "execution_count": 13,
   "id": "6f90ff1d-b961-4895-badc-99380e817a8f",
   "metadata": {},
   "outputs": [
    {
     "name": "stdout",
     "output_type": "stream",
     "text": [
      "You don't have a sticky potion\n"
     ]
    }
   ],
   "source": [
    "inventory = [\"healing potion\", \"exploding potion\"]\n",
    "user_request = \"sticky potion\"\n",
    "\n",
    "if user_request in inventory:\n",
    "    print(f\"You use {user_request}!\")\n",
    "else:\n",
    "    print(f\"You don't have a {user_request}\")"
   ]
  },
  {
   "cell_type": "markdown",
   "id": "57c87cc9-d232-4b99-9a6c-731566b3716c",
   "metadata": {},
   "source": [
    "In designing programs, you use things called \"feature flags\" to test out new features you want to add to a system or app. If something goes wrong, you can disable it.\n",
    "\n",
    "Here's a real world example.\n",
    "\n",
    "Let's say I have a game where players can explore a big world. I have a new feature that the players have asked for. They want the weather to change, and the weather can impact game play.\n",
    "\n",
    "Remember, the seed set for random is just for the notebook testing purposes. You wouldn't want to add it in this case. Sometimes you DO want to add it when doing research or working with data to be able to `reproduce`, or get, the same results."
   ]
  },
  {
   "cell_type": "code",
   "execution_count": 21,
   "id": "1507b151-5401-4643-acc9-c595333c5d16",
   "metadata": {},
   "outputs": [
    {
     "name": "stdout",
     "output_type": "stream",
     "text": [
      "Current weather: rain\n",
      "The ground is slippery! Movement speed reduced.\n"
     ]
    }
   ],
   "source": [
    "import random\n",
    "\n",
    "random.seed(292)\n",
    "\n",
    "enable_weather_changes = True\n",
    "\n",
    "weather_types = [\"sun\", \"rain\", \"fog\", \"thunderstorm\"]\n",
    "\n",
    "current_weather = \"sun\"\n",
    "\n",
    "if enable_weather_changes:\n",
    "    current_weather = random.choice(weather_types)\n",
    "\n",
    "print(f\"Current weather: {current_weather}\")\n",
    "\n",
    "if current_weather == \"rain\":\n",
    "    print(\"The ground is slippery! Movement speed reduced.\")\n",
    "elif current_weather == \"fog\":\n",
    "    print(\"Visibility is low. Enemies don't appear until\"\n",
    "          + \"they are 2 tiles away.\")\n",
    "elif current_weather == \"thunderstorm\":\n",
    "    print(\"Lightning strikes randomly! Strikes to player cause damage.\")\n",
    "else:\n",
    "    print(\"☀️ Clear skies. No weather effect on the player.\")"
   ]
  },
  {
   "cell_type": "markdown",
   "id": "830ddd46-0bc4-4b49-af9e-2d3444f2e448",
   "metadata": {},
   "source": [
    "Or sometimes you toggle certain features, like a theme, or dark vs light mode."
   ]
  },
  {
   "cell_type": "code",
   "execution_count": 15,
   "id": "5281b40f-2b80-43c5-8e0e-2c9cbc33eba9",
   "metadata": {},
   "outputs": [
    {
     "name": "stdout",
     "output_type": "stream",
     "text": [
      "Dark mode is on.\n"
     ]
    }
   ],
   "source": [
    "dark_mode_enabled = True\n",
    "\n",
    "if not dark_mode_enabled:\n",
    "    print(\"Light mode is on.\")\n",
    "else:\n",
    "    print(\"Dark mode is on.\")"
   ]
  },
  {
   "cell_type": "markdown",
   "id": "15921f5a-0746-4768-8017-fbca6b39a43c",
   "metadata": {},
   "source": [
    "When naming variables and using`not`, keep in mind how easy something is to read. If you read it out loud and it sounds confusing, you might want to change how you `not` it (how you invert it).\n",
    "\n",
    "\"not dark mode enabled\" sounds ok, and there's probably not a much clearer way. \"not light mode enabled\" sounds the same (to me!) but I use dark mode by default.\n",
    "\n",
    "Let's look at a confusing example."
   ]
  },
  {
   "cell_type": "code",
   "execution_count": 16,
   "id": "c417737f-3ed2-4f8b-bb5a-e8af284290f1",
   "metadata": {},
   "outputs": [
    {
     "name": "stdout",
     "output_type": "stream",
     "text": [
      "You need a score of at least 100 to unlock level 2. Try again.\n"
     ]
    }
   ],
   "source": [
    "level_complete = True\n",
    "score = 60\n",
    "\n",
    "if not score >= 100 and level_complete:\n",
    "    print(\"You need a score of at least 100 to unlock level 2. Try again.\")"
   ]
  },
  {
   "cell_type": "markdown",
   "id": "b1280071-70d8-4a6c-ab5e-7cb4f9a2dddb",
   "metadata": {},
   "source": [
    "This evaluates as expected. Score wasn't enough even though the level was completed. You need to score at least 100 to unlock the next level.\n",
    "\n",
    "However, we can make it clearer with parentheses."
   ]
  },
  {
   "cell_type": "code",
   "execution_count": 17,
   "id": "79d36d21-c83f-4ea8-aae4-66475c4a7d7e",
   "metadata": {},
   "outputs": [
    {
     "name": "stdout",
     "output_type": "stream",
     "text": [
      "Try again.\n"
     ]
    }
   ],
   "source": [
    "if not (score >= 100) and level_complete:\n",
    "    print(\"Try again.\")"
   ]
  },
  {
   "cell_type": "markdown",
   "id": "a746f4c3-adb2-4232-aaa7-0fc8c8575390",
   "metadata": {},
   "source": [
    "This makes it clearer that you want to invert the value of score >= 100."
   ]
  },
  {
   "cell_type": "code",
   "execution_count": 18,
   "id": "05afae67-2632-47df-87ab-85f01170efdf",
   "metadata": {},
   "outputs": [
    {
     "data": {
      "text/plain": [
       "False"
      ]
     },
     "execution_count": 18,
     "metadata": {},
     "output_type": "execute_result"
    }
   ],
   "source": [
    "score >= 100"
   ]
  },
  {
   "cell_type": "code",
   "execution_count": 19,
   "id": "e3ff11c1-afcc-4a2b-b4c0-cdbf8ebfa7f2",
   "metadata": {},
   "outputs": [
    {
     "data": {
      "text/plain": [
       "True"
      ]
     },
     "execution_count": 19,
     "metadata": {},
     "output_type": "execute_result"
    }
   ],
   "source": [
    "not (score >= 100)"
   ]
  },
  {
   "cell_type": "markdown",
   "id": "5d8bdc4c-392f-4c39-8fed-a877f1a5250a",
   "metadata": {},
   "source": [
    "But I try to avoid using `not` as much as possible when working with data. In this case I would code it like the below instead, without `not`.\n",
    "\n",
    "This is easier to read because your brain only has to ask one question \"what is score < 100?\" instead of two questions with the `not`: \"what is score >= 100\" and then \"What is the opposite of that?\""
   ]
  },
  {
   "cell_type": "code",
   "execution_count": 20,
   "id": "47f65473-2b22-42cd-b9a8-5754d2804231",
   "metadata": {},
   "outputs": [
    {
     "name": "stdout",
     "output_type": "stream",
     "text": [
      "Try again.\n"
     ]
    }
   ],
   "source": [
    "if (score < 100) and level_complete:\n",
    "    print(\"Try again.\")"
   ]
  },
  {
   "cell_type": "markdown",
   "id": "3379ab27-007a-490c-8b1d-450cf586fedb",
   "metadata": {},
   "source": [
    "## Conclusion\n",
    "\n",
    "We covered examples of conditionals with the logical and comparison operators we covered in the other lesson. You also got some information about times when you would use conditionals. We'll use them a lot going forward."
   ]
  }
 ],
 "metadata": {
  "kernelspec": {
   "display_name": "Python 3 (ipykernel)",
   "language": "python",
   "name": "python3"
  },
  "language_info": {
   "codemirror_mode": {
    "name": "ipython",
    "version": 3
   },
   "file_extension": ".py",
   "mimetype": "text/x-python",
   "name": "python",
   "nbconvert_exporter": "python",
   "pygments_lexer": "ipython3",
   "version": "3.10.12"
  }
 },
 "nbformat": 4,
 "nbformat_minor": 5
}
