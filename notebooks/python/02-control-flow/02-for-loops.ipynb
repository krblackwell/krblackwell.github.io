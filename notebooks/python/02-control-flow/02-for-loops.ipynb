{
 "cells": [
  {
   "cell_type": "markdown",
   "id": "735d2d34-f401-4108-b213-0ceca5fa36a3",
   "metadata": {},
   "source": [
    "<!-- markdownlint-disable-next-line MD041 -->\n",
    "[Go back to Home](/) - [Go to lesson page](/docs/python/control-flow/for-loops) - [Go to Control Flow section](/docs/python/control-flow)"
   ]
  },
  {
   "cell_type": "markdown",
   "id": "03ec72a4-5db3-4433-aa03-b8524a04bdcc",
   "metadata": {},
   "source": [
    "# For Loops\n",
    "\n",
    "For loops allow you to run code over and over. We often use them to go through elements of a list one at a time.\n",
    "\n",
    "A real world example would be delivering food. Let's say a pizza delivery driver has to go to House 1, House 2, and House 3 to deliver orders. You could loop through the list of houses and say `for house in houses:` deliver pizza.\n",
    "\n",
    "The most common for loop in Python is one that looks like the following. In some languages, this is called an \"enhanced\" for loop."
   ]
  },
  {
   "cell_type": "code",
   "execution_count": 1,
   "id": "ca698eee-105e-492e-be18-84d40cd3d620",
   "metadata": {},
   "outputs": [
    {
     "name": "stdout",
     "output_type": "stream",
     "text": [
      "a\n",
      "b\n",
      "c\n",
      "d\n"
     ]
    }
   ],
   "source": [
    "mylist = ['a', 'b', 'c', 'd']\n",
    "\n",
    "for letter in mylist:\n",
    "    print(letter)"
   ]
  },
  {
   "cell_type": "markdown",
   "id": "619026ef-e34b-46e5-a32f-edaa633213e6",
   "metadata": {},
   "source": [
    "In Python, another way you might do a for loop sometimes is like the following, with `enumerate`. This allows us to get the index and value of elements in a list."
   ]
  },
  {
   "cell_type": "code",
   "execution_count": 2,
   "id": "63a114da-70fe-4e90-a372-1b2d6cf71cd2",
   "metadata": {},
   "outputs": [
    {
     "name": "stdout",
     "output_type": "stream",
     "text": [
      "0 a\n",
      "1 b\n",
      "2 c\n",
      "3 d\n"
     ]
    }
   ],
   "source": [
    "mylist = ['a', 'b', 'c', 'd']\n",
    "\n",
    "for idx, val in enumerate(mylist):\n",
    "    print(idx, val)"
   ]
  },
  {
   "cell_type": "markdown",
   "id": "7c8c6228-84cd-4535-b05d-b9d4aba66c52",
   "metadata": {},
   "source": [
    "Sometimes this can be useful when you have two lists that are the same length and you need to use them together."
   ]
  },
  {
   "cell_type": "code",
   "execution_count": 3,
   "id": "d88c1fc6-259a-41e1-8a8e-86fd4722f309",
   "metadata": {},
   "outputs": [
    {
     "name": "stdout",
     "output_type": "stream",
     "text": [
      "a apple\n",
      "b banana\n",
      "c cherry\n",
      "d durian\n"
     ]
    }
   ],
   "source": [
    "mylist = ['a', 'b', 'c', 'd']\n",
    "words = ['apple', 'banana', 'cherry', 'durian']\n",
    "\n",
    "for idx, letter in enumerate(mylist):\n",
    "    word = words[idx]\n",
    "    print(letter, word)"
   ]
  },
  {
   "cell_type": "code",
   "execution_count": null,
   "id": "67604283-389f-49bb-8cd2-21da9a2d9415",
   "metadata": {},
   "outputs": [],
   "source": [
    "Sometimes "
   ]
  },
  {
   "cell_type": "code",
   "execution_count": 1,
   "id": "e81c7d88-e452-4583-a07a-3bfe2c54a7f1",
   "metadata": {},
   "outputs": [
    {
     "name": "stdout",
     "output_type": "stream",
     "text": [
      "1\n",
      "2\n",
      "3\n",
      "4\n",
      "5\n",
      "6\n"
     ]
    }
   ],
   "source": [
    "for number in range(1,7):\n",
    "    print(number)"
   ]
  },
  {
   "cell_type": "code",
   "execution_count": null,
   "id": "25d4c1c7-396c-4e68-9d40-bf6fb6531771",
   "metadata": {},
   "outputs": [],
   "source": []
  }
 ],
 "metadata": {
  "kernelspec": {
   "display_name": "Python 3 (ipykernel)",
   "language": "python",
   "name": "python3"
  },
  "language_info": {
   "codemirror_mode": {
    "name": "ipython",
    "version": 3
   },
   "file_extension": ".py",
   "mimetype": "text/x-python",
   "name": "python",
   "nbconvert_exporter": "python",
   "pygments_lexer": "ipython3",
   "version": "3.10.12"
  }
 },
 "nbformat": 4,
 "nbformat_minor": 5
}
