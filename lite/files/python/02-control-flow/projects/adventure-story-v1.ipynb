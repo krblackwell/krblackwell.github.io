{
 "cells": [
  {
   "cell_type": "markdown",
   "id": "c7dadab3-3895-4017-9bb0-82bf0c64011b",
   "metadata": {},
   "source": [
    "<!-- markdownlint-disable-next-line MD041 -->\n",
    "[Go back to Home](/) - [Go to lesson page](/docs/python/control-flow/projects/adventure-story-v1) - [Go to Control Flow section](/docs/python/control-flow)"
   ]
  },
  {
   "cell_type": "markdown",
   "id": "38710d5a-4d0a-458f-9404-4b2820a3e42f",
   "metadata": {},
   "source": [
    "# Adventure Story v1\n",
    "\n",
    "We're going to create an adventure story using what we learned. This will help you remember if statements. I'm going to walk you through how to create this one step at a time. I'll talk through the thinking process.\n",
    "\n",
    "We're going to make the game part very simple to start with. If you want, you can keep going and make something really interesting! You can make as many choices as you want. Just remember, the more choices, the more complicated, and the more difficult it is to keep track. We have easier ways of creating and maintaining things as they get more complicated.\n",
    "\n",
    "<a href=\"/lite/lab/index.html?path=python/02-control-flow/projects/adventure-story-v1.ipynb\">If you open this notebook in the Lab</a>, you can click on the diagram and see ` ```mermaid `. This is a way of diagramming things in code. It's very handy, and we'll cover it in another lesson."
   ]
  },
  {
   "cell_type": "code",
   "execution_count": 1,
   "id": "09d3ecb0-5d24-45e5-b3d5-d3c49e903c7c",
   "metadata": {},
   "outputs": [
    {
     "name": "stdout",
     "output_type": "stream",
     "text": [
      "\n",
      "     Welcome to the Adventure!\n",
      "Select what theme you would like for your game.\n",
      "\n",
      "\n",
      "🎮 Game Menu\n",
      "------------\n",
      "1. 🚀 Sci-Fi\n",
      "2. 🧙 Fantasy\n",
      "3. 🦖 Dinosaur\n",
      "4. 🕵️ Mystery\n",
      "5. ❌ Quit\n"
     ]
    }
   ],
   "source": [
    "print(\"\"\"\n",
    "     Welcome to the Adventure!\n",
    "Select what theme you would like for your game.\n",
    "\n",
    "\"\"\")\n",
    "\n",
    "# remember this from our print lesson?\n",
    "print(\"🎮 Game Menu\")\n",
    "print(\"------------\")\n",
    "print(\"1. 🚀 Sci-Fi\")\n",
    "print(\"2. 🧙 Fantasy\")\n",
    "print(\"3. 🦖 Dinosaur\")\n",
    "print(\"4. 🕵️ Mystery\")\n",
    "print(\"5. ❌ Quit\")"
   ]
  },
  {
   "cell_type": "code",
   "execution_count": 2,
   "id": "3657d068-42da-40c6-87d3-7b52aff18edc",
   "metadata": {},
   "outputs": [],
   "source": [
    "menu_selection = 1\n",
    "name = \"Katie\""
   ]
  },
  {
   "cell_type": "markdown",
   "id": "357d6c8e-4436-41ed-9e2a-8f0cedbdf4b7",
   "metadata": {},
   "source": [
    "We're going to create a dictionary for each theme that contains some important information that we can reuse.\n",
    "\n",
    "The next four cells define a dictionary for each story and print a key-value pair for each."
   ]
  },
  {
   "cell_type": "code",
   "execution_count": 3,
   "id": "109ae752-48bf-4d2a-8e4a-767f1e8bb96b",
   "metadata": {},
   "outputs": [
    {
     "data": {
      "text/plain": [
       "\"fixing a malfunctioning gravity controller in the honky tonk dance hall. It's scheduled to open in 20 minutes. You notice a few unusual power spikes.\""
      ]
     },
     "execution_count": 3,
     "metadata": {},
     "output_type": "execute_result"
    }
   ],
   "source": [
    "sci_fi_dict = {\n",
    "    \"story_type\": \"sci-fi\",\n",
    "    \"vehicle_name\": \"Starbender\",\n",
    "    \"vehicle_type\": \"intergalactic cruise ship\",\n",
    "    \"problem\": \"Things have been disappearing from people's rooms.\",\n",
    "    \"starter\": (\n",
    "        \"fixing a malfunctioning gravity controller \"\n",
    "        \"in the honky tonk dance hall. \"\n",
    "        \"It's scheduled to open in 20 minutes. \"\n",
    "        \"You notice a few unusual power spikes.\"\n",
    "    ),\n",
    "}\n",
    "sci_fi_dict.get(\"starter\")"
   ]
  },
  {
   "cell_type": "code",
   "execution_count": 4,
   "id": "4bc9666d-c124-4dbb-9a83-a7f2792486fd",
   "metadata": {},
   "outputs": [
    {
     "data": {
      "text/plain": [
       "'Root Grinder'"
      ]
     },
     "execution_count": 4,
     "metadata": {},
     "output_type": "execute_result"
    }
   ],
   "source": [
    "fantasy_dict = {\n",
    "    \"story_type\": \"fantasy\",\n",
    "    \"vehicle_name\": \"Root Grinder\",\n",
    "    \"vehicle_type\": \"scout horse\",\n",
    "    \"problem\": (\n",
    "        \"The princess of the land\"\n",
    "        \" had a vision of a new enemy.\"\n",
    "    ),\n",
    "    \"starter\": \"organizing notes for your mentor, a sorceress.\"\n",
    "}\n",
    "fantasy_dict.get(\"vehicle_name\")"
   ]
  },
  {
   "cell_type": "code",
   "execution_count": 17,
   "id": "0aa0dfb6-399b-4fed-b8d8-8b14f4bd12bd",
   "metadata": {},
   "outputs": [
    {
     "data": {
      "text/plain": [
       "'armored dino'"
      ]
     },
     "execution_count": 17,
     "metadata": {},
     "output_type": "execute_result"
    }
   ],
   "source": [
    "dinosaur_dict = {\n",
    "    \"story_type\": \"dinosaur\",\n",
    "    \"vehicle_name\": \"Guts\",\n",
    "    \"vehicle_type\": \"armored dino\",\n",
    "    \"problem\": \"The bugs have been growing bigger.\",\n",
    "    \"starter\": (\n",
    "        \"on the way to check on the pterosaur \"\n",
    "        \"unit. They haven't reported back after their \"\n",
    "        \"latest sortie.\"\n",
    "        )\n",
    "}\n",
    "dinosaur_dict.get(\"vehicle_type\")"
   ]
  },
  {
   "cell_type": "code",
   "execution_count": 6,
   "id": "d8dd6db0-d6db-40c9-83ac-cd4b0da0fa3b",
   "metadata": {},
   "outputs": [
    {
     "data": {
      "text/plain": [
       "'mystery'"
      ]
     },
     "execution_count": 6,
     "metadata": {},
     "output_type": "execute_result"
    }
   ],
   "source": [
    "mystery_dict = {\n",
    "    \"story_type\": \"mystery\",\n",
    "    \"vehicle_name\": \"City Stops Regional\",\n",
    "    \"vehicle_type\": \"trolley\",\n",
    "    \"problem\": \"A woman is seemingly killed by her AI caregiver.\",\n",
    "    # \"mystery problem\" is from one of my favorite short stories:\n",
    "    #     \"The Final Performance of the Amazing Ralphie\"\n",
    "    \"starter\": (\n",
    "        \"slouching in a trolley seat, on the way to work \"\n",
    "        \"at an investigative unit specializing in crime \"\n",
    "        \"committed by computers.\"\n",
    "        )\n",
    "}\n",
    "mystery_dict.get(\"story_type\")"
   ]
  },
  {
   "cell_type": "markdown",
   "id": "80d076ba-cc2f-4583-bc03-2969503db7e0",
   "metadata": {},
   "source": [
    "Next, we can apply our chosen theme to a story. We will be changing it, so let's make sure we set the chosen_theme to something. We selected \"mystery,\" so we want to set `chosen_theme` to `mystery_dict`.\n",
    "\n",
    "To decide what to put in each dictionary, I had the initial idea of each story having some kind of interesting vehicle involved so our main character can travel. Because in my favorite science fiction series, they're on a ship in space.\n",
    "\n",
    "So I wrote the `story_intro` and filled in each dictionary item a little at a time, going back and forth between the two."
   ]
  },
  {
   "cell_type": "code",
   "execution_count": 7,
   "id": "79600907-c7ac-4994-8041-b68bd99590a2",
   "metadata": {},
   "outputs": [
    {
     "name": "stdout",
     "output_type": "stream",
     "text": [
      "\n",
      "Welcome to the sci-fi world, Katie.\n",
      "\n",
      "You are on an intergalactic cruise ship, called\n",
      "Starbender.\n",
      "\n",
      "But something has happened! Things have been disappearing from people's rooms.\n",
      "\n",
      "You're fixing a malfunctioning gravity controller in the honky tonk dance hall. It's scheduled to open in 20 minutes. You notice a few unusual power spikes.\n",
      "\n",
      "What do you do next?\n",
      "\n"
     ]
    }
   ],
   "source": [
    "chosen_theme = sci_fi_dict\n",
    "\n",
    "story_intro = f\"\"\"\n",
    "Welcome to the {chosen_theme.get(\"story_type\")} world, {name}.\n",
    "\n",
    "You are on an {chosen_theme.get(\"vehicle_type\")}, called\n",
    "{chosen_theme.get(\"vehicle_name\")}.\n",
    "\n",
    "But something has happened! {chosen_theme.get(\"problem\")}\n",
    "\n",
    "You're {chosen_theme.get(\"starter\")}\n",
    "\n",
    "What do you do next?\n",
    "\"\"\"\n",
    "\n",
    "print(story_intro)"
   ]
  },
  {
   "cell_type": "markdown",
   "id": "5daa3980-6d52-46e2-84ab-3f53cc69660c",
   "metadata": {},
   "source": [
    "Oooo! I wonder what happens next.\n",
    "\n",
    "We're going to put some things together in string variables to help us organize all this.\n",
    "\n",
    "I started out by creating the prints and if-then statements without variables. I started to get an idea of the direction I wanted the story to go. I realized a few paths can come back together, so I can reuse paths in multiple places. I wanted to make sure I had paths that converged like this, but I wasn't totally sure how I would do it or what the story would be.\n",
    "\n",
    "This type of method works fine for smaller projects, but drawing it out or writing it out on paper can be very helpful for big and small projects. Brainstorming can help a lot.\n",
    "\n",
    "Below, we define our story"
   ]
  },
  {
   "cell_type": "code",
   "execution_count": 8,
   "id": "22f1cb43-7791-4838-91d9-2751f936ba70",
   "metadata": {},
   "outputs": [],
   "source": [
    "A1 = \"Call your supervisor to let them know they can open the dance hall.\"\n",
    "B1 = \"Stay and monitor the system quietly during the first dance.\"\n",
    "B2 = \"Head back to write a report and clock out.\""
   ]
  },
  {
   "cell_type": "code",
   "execution_count": 9,
   "id": "2aea9e8c-9991-4a44-87e7-10ba6499b965",
   "metadata": {},
   "outputs": [],
   "source": [
    "A2 = \"Run a secondary diagnostic to troubleshoot the electrical.\"\n",
    "B3 = \"Mention you started it in your report for your shift. Clock out,\"\\\n",
    "    + \" and head back to your bunk.\"\n",
    "B4 = \"Stay and wait for the diagnostic to finish.\""
   ]
  },
  {
   "cell_type": "markdown",
   "id": "5f48751e-2a98-4c7c-9ba4-d41bb5ce01f1",
   "metadata": {},
   "source": [
    "If every choice can diverge into a different  if-then is going to lead us to this type of flow, and you'll have a lot of story pieces to manage. We're going to do things a little differently.\n",
    "\n",
    "```mermaid\n",
    "graph TD\n",
    "\n",
    "Starter\n",
    "\n",
    "Starter --> A1\n",
    "Starter --> A2\n",
    "\n",
    "A1 --> B1\n",
    "A1 --> B2\n",
    "\n",
    "A2 --> B3\n",
    "A2 --> B4\n",
    "\n",
    "B1 --> C1\n",
    "B1 --> C2\n",
    "B2 --> C3\n",
    "B2 --> C4\n",
    "B3 --> C5\n",
    "B3 --> C6\n",
    "B4 --> C7\n",
    "B4 --> C8\n",
    "```"
   ]
  },
  {
   "cell_type": "code",
   "execution_count": 10,
   "id": "08e7ce8c-bfea-4ba8-98c7-d49777df313c",
   "metadata": {},
   "outputs": [
    {
     "name": "stdout",
     "output_type": "stream",
     "text": [
      "\n",
      "Select one of the following by entering 1 or 2.\n",
      "1. Call your supervisor to let them know they can open the dance hall.\n",
      "2. Run a secondary diagnostic to troubleshoot the electrical.\n",
      "\n"
     ]
    }
   ],
   "source": [
    "print(f\"\"\"\n",
    "Select one of the following by entering 1 or 2.\n",
    "1. {A1}\n",
    "2. {A2}\n",
    "\"\"\")\n",
    "\n",
    "choice1 = 2"
   ]
  },
  {
   "cell_type": "code",
   "execution_count": 11,
   "id": "578717fd-150a-4656-ac17-54d47305da83",
   "metadata": {},
   "outputs": [],
   "source": [
    "choice = choice1"
   ]
  },
  {
   "cell_type": "code",
   "execution_count": 12,
   "id": "f9ad2d50-35c4-4295-a64c-5b18a8ab9c70",
   "metadata": {},
   "outputs": [
    {
     "name": "stdout",
     "output_type": "stream",
     "text": [
      "The diagnostic will take a while to run. It already\n",
      "looks a little off, but you'll wait to make any judgements until\n",
      "it's done.\n",
      "\n",
      "What's your next move?\n",
      "1. Mention you started it in your report for your shift. Clock out, and head back to your bunk.\n",
      "2. Stay and wait for the diagnostic to finish.\n",
      "\n"
     ]
    }
   ],
   "source": [
    "if (choice == 1):\n",
    "    print(f\"\"\"\n",
    "The floor stabilizers power up. You feel the floor vibrate and\n",
    "pull you down. The disco ball hologram flickers to life.\n",
    "everything looks ok.\n",
    "\n",
    "Choose your next move.\n",
    "\n",
    "1. {B1}\n",
    "2. {B2}\n",
    "\"\"\")\n",
    "elif (choice == 2):\n",
    "    print(f\"\"\"The diagnostic will take a while to run. It already\n",
    "looks a little off, but you'll wait to make any judgements until\n",
    "it's done.\n",
    "\n",
    "What's your next move?\n",
    "1. {B3}\n",
    "2. {B4}\n",
    "\"\"\")"
   ]
  },
  {
   "cell_type": "code",
   "execution_count": 13,
   "id": "1e851d6c-aeae-470d-b934-1b2075a6228c",
   "metadata": {},
   "outputs": [],
   "source": [
    "choice2 = 1"
   ]
  },
  {
   "cell_type": "markdown",
   "id": "f2bb6ea0-8eff-4ae6-8606-8d990ecbdf24",
   "metadata": {},
   "source": [
    "Notice we have a few choices that can lead us to the same next path.\n",
    "\n",
    "You can have your story converge to fixed important events if you want, or maybe you like for each path to have a very different outcome.\n",
    "\n",
    "Here, we have the same thing happen on these different paths. Something interesting we can do with the story if it converges is we can have the character know different things at different points. Maybe the character's experience is different for the different paths.\n",
    "\n",
    "Here's an updated diagram.\n",
    "\n",
    "```mermaid\n",
    "graph TD\n",
    "\n",
    "Starter\n",
    "\n",
    "Starter --> A1\n",
    "Starter --> A2\n",
    "\n",
    "A1 --> B1\n",
    "A1 --> B2\n",
    "\n",
    "A2 --> B3\n",
    "A2 --> B4\n",
    "\n",
    "B1 --> C1[C1: Stay]\n",
    "B1 --> C1[C1: Stay]\n",
    "B2 --> C2[C2: Clock]\n",
    "B2 --> C2[C2: Clock]\n",
    "B3 --> C2[C2: Clock]\n",
    "B3 --> C2[C2: Clock]\n",
    "B4 --> C1[C1: Stay]\n",
    "B4 --> C1[C1: Stay]\n",
    "```\n",
    "\n",
    "One of the reasons we are putting the text in variables is because this helps us to reuse code.\n",
    "\n",
    "When we save things in a variable, we don't have to repeat code. In this case, we would be repeating the story text in our print. If we wanted to change something about the story, we would have to change it in each place. With variables, we change it in one place."
   ]
  },
  {
   "cell_type": "code",
   "execution_count": 14,
   "id": "6382b04b-70c9-4011-8e9d-c7a51556b082",
   "metadata": {},
   "outputs": [],
   "source": [
    "# stay in the dance hall a little longer (B1, B4)\n",
    "C1 = (\n",
    "    \"You had started the program and let it run for a minute. Since you know \"\n",
    "    \"it's started running fine, you decide to get up and stretch your legs. \"\n",
    "    \"People have already started to stream in, get drinks, chat. The AI DJ \"\n",
    "    \"boots up and starts to play quiet music. It's even programmed to make \"\n",
    "    \"small talk with people in the crowd. Everyone signs terms of service to \"\n",
    "    \"allow their data to be used for entertainment and promotional purposes, \"\n",
    "    \"including for the on-board AI to access. You stretch. You were under \"\n",
    "    \"the panel for a long time. You step out on the edges of the dance hall.\"\n",
    "    \" Part of your job is staying out of sight a bit, but it's dark, so no \"\n",
    "    \"one will see you. As you look around, you see a couple of drink glasses \"\n",
    "    \"at an empty table. But when you look back, you think maybe one of \"\n",
    "    \"them looks less full than it was a second ago. Could be anything. \"\n",
    "    \"Maybe you're just tired.\"\n",
    ")\n",
    "\n",
    "# you clock out (B2, B3)\n",
    "C2 = (\n",
    "    \"On the way walking back to the office, you happen to look up \"\n",
    "    \"and see one of the old service drones lit up. But those \"\n",
    "    \"were decommissioned months ago. Maybe it's just a maintenance \"\n",
    "    \"cycle. They want to repurpose them, so maybe they need to \"\n",
    "    \"keep them running smoothly.\"\n",
    ")"
   ]
  },
  {
   "cell_type": "code",
   "execution_count": 15,
   "id": "55201c31-5aa2-4fb5-bd46-7151431da014",
   "metadata": {},
   "outputs": [
    {
     "name": "stdout",
     "output_type": "stream",
     "text": [
      "You had started the program and let it run for a minute. Since you know it's started running fine, you decide to get up and stretch your legs. People have already started to stream in, get drinks, chat. The AI DJ boots up and starts to play quiet music. It's even programmed to make small talk with people in the crowd. Everyone signs terms of service to allow their data to be used for entertainment and promotional purposes, including for the on-board AI to access. You stretch. You were under the panel for a long time. You step out on the edges of the dance hall. Part of your job is staying out of sight a bit, but it's dark, so no one will see you. As you look around, you see a couple of drink glasses at an empty table. But when you look back, you think maybe one of them looks less full than it was a second ago. Could be anything. Maybe you're just tired.\n"
     ]
    }
   ],
   "source": [
    "if (choice == 1):\n",
    "    print(C2)\n",
    "elif (choice == 2):\n",
    "    print(C1)\n",
    "else:\n",
    "    print(\"Invalid selection.\")"
   ]
  },
  {
   "cell_type": "markdown",
   "id": "509fc6fb-0446-4a47-9569-b3e2fbaf04f2",
   "metadata": {},
   "source": [
    "***💡TIP***\n",
    "I recommend you <a href=\"/lite/lab/index.html\">open a blank notebook in the lab</a> for any of the activities. Ask yourself questions, like \"What do I need next?\" or \"What happens first?\" And try to remember what you learned. If you have to look up syntax, that's ok. You'll remember it with time and experience.\n",
    "*** ***"
   ]
  },
  {
   "cell_type": "markdown",
   "id": "c7489015-0cce-48bf-91ea-62bf2d5bb6e7",
   "metadata": {},
   "source": [
    "## Conclusion\n",
    "\n",
    "We used if statements to create a story."
   ]
  }
 ],
 "metadata": {
  "kernelspec": {
   "display_name": "Python 3 (ipykernel)",
   "language": "python",
   "name": "python3"
  },
  "language_info": {
   "codemirror_mode": {
    "name": "ipython",
    "version": 3
   },
   "file_extension": ".py",
   "mimetype": "text/x-python",
   "name": "python",
   "nbconvert_exporter": "python",
   "pygments_lexer": "ipython3",
   "version": "3.10.12"
  }
 },
 "nbformat": 4,
 "nbformat_minor": 5
}
