{
 "cells": [
  {
   "cell_type": "markdown",
   "id": "49f7ac33-e0f8-456a-90e3-b220bbb13d93",
   "metadata": {},
   "source": [
    "<!-- markdownlint-disable-next-line MD041 -->\n",
    "[Go back to Home](/) - [Go to lesson page](/docs/python/foundations/documentation) - [Go to Foundations section](/docs/python/foundations)"
   ]
  },
  {
   "cell_type": "markdown",
   "id": "82125763-aef2-4468-9e78-202191586511",
   "metadata": {},
   "source": [
    "# Documentation\n",
    "\n",
    "Reading documentation is a skill in programming that is very important, and can be tricky to learn. It's not something you can do right away.\n",
    "\n",
    "You have to understand a little about coding and how programming works.\n",
    "\n",
    "Some documentation is better than others. You might have things that are poorly documented, and I see people blame themselves for not being \"smart enough\" to understand it. I don't like that mindset.\n",
    "\n",
    "***💡TIP***\n",
    "Sometimes if you don't \"get\" something, it's because it's presented in a confusing way, outdated, or incomplete.\n",
    "*** ***\n",
    "\n",
    "Some documentation is great and very clear. When you come across that, make note of how they explain things and how they present things. Also note dates. When was something last updated? If it's not working, it might need updates.\n",
    "\n",
    "## Learning Objectives\n",
    "\n",
    "- Documentation is a thing\n",
    "\n",
    "The learning objective here is simple. You may need to come back to this page multiple times, and we'll come back to documentation as we learn more.\n",
    "\n",
    "It takes time and effort to understand how to read documentation and then actually use it. Even if you're someone who has relied on AI tools like ChatGPT or Perplexity to give you code and explanation, it's important to know how to read documentation.\n",
    "\n",
    "***💡DANGER***\n",
    "AI makes mistakes. It's a language model that's created to spit out language that sounds like it makes sense. AI is not made to understand the language it makes.\n",
    "*** ***\n",
    "\n",
    "***💡TIP***\n",
    "Documentation can provide key pieces of information to clear up errors you make or that AI language models make.\n",
    "*** ***"
   ]
  },
  {
   "cell_type": "markdown",
   "id": "59616a68-9e08-4e28-9abc-98fc404951f2",
   "metadata": {},
   "source": [
    "## String documentation\n",
    "\n",
    "It's ok if this makes zero sense to you at this point, but I want to point out that documentation is a thing. Eventually, you'll find it helpful. I just want you to know this exists. If you can't remember the `.capitalize()` function, or it used to work and isn't anymore, you can check the docs. Sometimes things change.\n",
    "\n",
    "### [`.islower()`](https://docs.python.org/3/library/stdtypes.html#str.islower)\n",
    "\n",
    "Let's look at one example. The docs look like this at the time I'm writing this lesson:\n",
    "\n",
    "**str.islower()**\n",
    "Return True if all cased characters [4] in the string are lowercase and there is at least one cased character, False otherwise.\n",
    "\n",
    "The [4] footnote says this:\n",
    "Cased characters are those with general category property being one of “Lu” (Letter, uppercase), “Ll” (Letter, lowercase), or “Lt” (Letter, titlecase)."
   ]
  },
  {
   "cell_type": "code",
   "execution_count": 1,
   "id": "3b36ce02-eb87-438d-8e3e-d02b3f0fbcb5",
   "metadata": {},
   "outputs": [
    {
     "name": "stdout",
     "output_type": "stream",
     "text": [
      "True\n"
     ]
    }
   ],
   "source": [
    "print(\"a\".islower())"
   ]
  },
  {
   "cell_type": "markdown",
   "id": "af29560a-0c08-4462-9ea3-4ca2eb2ff59d",
   "metadata": {},
   "source": [
    "You can jump in and try to test a function, like we did with the cell above. I'll walk you through this piece of documentation one piece at a time.\n",
    "\n",
    "\"Return True\"\n",
    "\n",
    "You see from the cell above that we got `True` in the output. We printed `\"a\".islower()`. This means `\"a\".islower()` **returns** True. I could save this in a variable if I wanted. When an expression returns something, you can save it in a variable."
   ]
  },
  {
   "cell_type": "code",
   "execution_count": 2,
   "id": "7e85d879-ab8e-4752-aca0-055b87077fdc",
   "metadata": {},
   "outputs": [
    {
     "name": "stdout",
     "output_type": "stream",
     "text": [
      "True\n"
     ]
    }
   ],
   "source": [
    "a_is_lower = \"a\".islower()\n",
    "\n",
    "print(a_is_lower)"
   ]
  },
  {
   "cell_type": "markdown",
   "id": "580ace67-55db-4684-bb9d-8bea670d5c68",
   "metadata": {},
   "source": [
    "OK, I think we have an idea of that part.\n",
    "\n",
    "\"Return True if all cased characters in the string are lowercase\"\n",
    "\n",
    "There's a note for cased characters, but let's ignore that for a second and think about \"all ~~cased~~ characters in the string are lowercase.\" If all characters are lowercase, it should return true."
   ]
  },
  {
   "cell_type": "code",
   "execution_count": 3,
   "id": "b0aa7aed-3de1-4e53-8f57-91aae29ed8b2",
   "metadata": {},
   "outputs": [
    {
     "name": "stdout",
     "output_type": "stream",
     "text": [
      "True\n"
     ]
    }
   ],
   "source": [
    "is_lower = \"all characters are lowercase here\".islower()\n",
    "\n",
    "print(is_lower)"
   ]
  },
  {
   "cell_type": "markdown",
   "id": "f099047c-5a8e-4d5c-8b85-788987c13ce0",
   "metadata": {},
   "source": [
    "This behaves how we would expect `.islower()` makes me think \"if something is lowercase, it'll return true.\"\n",
    "\n",
    "But there are two other pieces that tell us some special circumstances where it'll also return true or not.\n",
    "\n",
    "- \"cased characters\"\n",
    "- \"at least one cased character\"\n",
    "\n",
    "A cased character is a character that can be upper or lowercase. A number or symbol can't. Let's see what that looks like:"
   ]
  },
  {
   "cell_type": "code",
   "execution_count": 4,
   "id": "cfda5122-5614-46aa-b853-f86fd66e886d",
   "metadata": {},
   "outputs": [
    {
     "name": "stdout",
     "output_type": "stream",
     "text": [
      "False\n"
     ]
    }
   ],
   "source": [
    "is_lower = \"3\".islower()\n",
    "\n",
    "print(is_lower)"
   ]
  },
  {
   "cell_type": "code",
   "execution_count": 5,
   "id": "ec58864b-64b9-4abe-b9cd-4982f379e1f7",
   "metadata": {},
   "outputs": [
    {
     "name": "stdout",
     "output_type": "stream",
     "text": [
      "False\n"
     ]
    }
   ],
   "source": [
    "is_lower = \"!\".islower()\n",
    "\n",
    "print(is_lower)"
   ]
  },
  {
   "cell_type": "markdown",
   "id": "4fd0d0d4-955f-4ed8-9259-2df2e996659a",
   "metadata": {},
   "source": [
    "OK, so `3` and `!` can't have a case. They are what they are. They will return False by themselves.\n",
    "\n",
    "That's what \"and there is at least one cased character\" means. Returns true if the characters that _can_ be upper or lowercase are there, and they're all lowercase.\n",
    "\n",
    "So let's see what happens if we add \"at least one cased character\" to those."
   ]
  },
  {
   "cell_type": "code",
   "execution_count": 6,
   "id": "8a8ada71-6d3b-44ec-8d14-f1edc4a42102",
   "metadata": {},
   "outputs": [
    {
     "name": "stdout",
     "output_type": "stream",
     "text": [
      "True\n"
     ]
    }
   ],
   "source": [
    "is_lower = \"3a\".islower()\n",
    "\n",
    "print(is_lower)"
   ]
  },
  {
   "cell_type": "code",
   "execution_count": 7,
   "id": "350c68fe-758b-4e15-b389-04c8b24875b4",
   "metadata": {},
   "outputs": [
    {
     "name": "stdout",
     "output_type": "stream",
     "text": [
      "True\n"
     ]
    }
   ],
   "source": [
    "is_lower = \"!a\".islower()\n",
    "\n",
    "print(is_lower)"
   ]
  },
  {
   "cell_type": "markdown",
   "id": "c40e2ac6-efdc-44b4-99f2-614f600e5d5a",
   "metadata": {},
   "source": [
    "## Conclusion\n",
    "\n",
    "If you understood this lesson fully, good job! That's great. If some of it went over your head, don't worry.\n",
    "\n",
    "We'll come back to documentation in other lessons, and you can come back to this lesson again later. It takes time for this type of skill to develop and \"click.\" But it will click for you, and you'll understand documentation like a pro if you keep at it."
   ]
  }
 ],
 "metadata": {
  "kernelspec": {
   "display_name": "Python 3 (ipykernel)",
   "language": "python",
   "name": "python3"
  },
  "language_info": {
   "codemirror_mode": {
    "name": "ipython",
    "version": 3
   },
   "file_extension": ".py",
   "mimetype": "text/x-python",
   "name": "python",
   "nbconvert_exporter": "python",
   "pygments_lexer": "ipython3",
   "version": "3.10.12"
  }
 },
 "nbformat": 4,
 "nbformat_minor": 5
}
