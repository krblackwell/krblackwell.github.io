{
 "cells": [
  {
   "cell_type": "markdown",
   "id": "9eff1398-d54d-4aa6-9019-627d855bbfd1",
   "metadata": {},
   "source": [
    "# What are f-strings?\n",
    "\n",
    "Now that you know how to use `print()` and `variables`, we can work with `f-strings`! This is a way that some people find easier to write long blocks of text that have variables in the middle.\n",
    "\n",
    "They look like this:"
   ]
  },
  {
   "cell_type": "code",
   "execution_count": 1,
   "id": "da79a07f-94a3-4501-82c1-2f74a4a79c97",
   "metadata": {},
   "outputs": [
    {
     "name": "stdout",
     "output_type": "stream",
     "text": [
      "This is an f-string\n"
     ]
    }
   ],
   "source": [
    "type_of_thing = \"an f-string\"\n",
    "\n",
    "print(f\"This is {type_of_thing}\")"
   ]
  },
  {
   "cell_type": "markdown",
   "id": "64f22978-13b2-43a2-8f7d-342c67a416cd",
   "metadata": {},
   "source": [
    "## Learning Objective\n",
    "\n",
    "- `f-strings` are special strings that let you insert a variable.\n",
    "- `f-strings` can help print nicely formatted messages.\n",
    "- An alternative to `f-strings` is using `+` pluses or `,` commas."
   ]
  },
  {
   "cell_type": "markdown",
   "id": "a4a45af7-58f4-4364-8504-1204df5dfef6",
   "metadata": {},
   "source": [
    "## `f-strings` are special strings that let you insert a variable\n",
    "\n",
    "Note the `f` at the beginning of the string. It's not inside the quotes.\n",
    "\n",
    "We created a variable called `name`, and assigned it a value.\n",
    "\n",
    "`name` is referenced with curly brackets in the string.\n",
    "\n",
    "If we say we have an f-string, we should put a variable in there in curly brackets. Your code will still run, but it's a good habit to always make an f-string an f-string with its curly brackets and variable."
   ]
  },
  {
   "cell_type": "code",
   "execution_count": 2,
   "id": "ef64ae43-6563-45c6-a7b3-2421917f1c0f",
   "metadata": {},
   "outputs": [
    {
     "name": "stdout",
     "output_type": "stream",
     "text": [
      "Hello, Ella!\n"
     ]
    }
   ],
   "source": [
    "name = \"Ella\"\n",
    "print(f\"Hello, {name}!\")"
   ]
  },
  {
   "cell_type": "code",
   "execution_count": 3,
   "id": "b8d2addd-341a-4075-87d6-31d24fd13a2f",
   "metadata": {},
   "outputs": [
    {
     "name": "stdout",
     "output_type": "stream",
     "text": [
      "Wait! Another example already?\n"
     ]
    }
   ],
   "source": [
    "exclamation = \"Wait\"\n",
    "word = \"example\"\n",
    "\n",
    "print(f\"{exclamation}! Another {word} already?\")"
   ]
  },
  {
   "cell_type": "markdown",
   "id": "7163a88a-8742-43fe-9be7-f3de7d6ab507",
   "metadata": {},
   "source": [
    "***TIP***\n",
    "If you say you're using an f-string, make sure you actually put a variable inside the curly brackets {}!\n",
    "*** ***"
   ]
  },
  {
   "cell_type": "code",
   "execution_count": 4,
   "id": "5b262356-d538-441d-b134-1ddf3e47697c",
   "metadata": {},
   "outputs": [
    {
     "name": "stdout",
     "output_type": "stream",
     "text": [
      "I can use single quotes\n"
     ]
    }
   ],
   "source": [
    "repeat_word = \"quotes\"\n",
    "glossary_word = \"balance\"\n",
    "\n",
    "print(f'I can use single {repeat_word}')"
   ]
  },
  {
   "cell_type": "code",
   "execution_count": 5,
   "id": "112c3a16-d358-4efb-a6cd-403af3a7a801",
   "metadata": {},
   "outputs": [
    {
     "name": "stdout",
     "output_type": "stream",
     "text": [
      "blah blah no variable - Hey wait, this isn't best practice!\n"
     ]
    }
   ],
   "source": [
    "print(f\"blah blah no variable - Hey wait, this isn't best practice!\")"
   ]
  },
  {
   "cell_type": "markdown",
   "id": "523fee8e-184a-4363-b209-33dd08eb840f",
   "metadata": {},
   "source": [
    "See? The code ran! But following the tip is `best practice`.\n",
    "\n",
    "***TIP***\n",
    "Best practices` are smart habits that help you write code that’s clean, easy to understand, and less likely to have mistakes.\n",
    "*** ***\n",
    "\n",
    "Think of best practices like brushing your teeth or wearing a helmet — you could skip it, but doing it the right way helps you in the long run!"
   ]
  },
  {
   "cell_type": "markdown",
   "id": "67b2b601-5965-46eb-97b3-767dc46cb9b6",
   "metadata": {},
   "source": [
    "### More examples of f-strings\n",
    "\n"
   ]
  },
  {
   "cell_type": "code",
   "execution_count": 6,
   "id": "cace8fd1-495d-4903-a50c-5dbf4b65ca25",
   "metadata": {},
   "outputs": [
    {
     "name": "stdout",
     "output_type": "stream",
     "text": [
      "I am 11 years old.\n"
     ]
    }
   ],
   "source": [
    "age = 11\n",
    "print(f\"I am {age} years old.\")"
   ]
  },
  {
   "cell_type": "code",
   "execution_count": 7,
   "id": "7d65b445-ada2-4aa3-99d9-b4d6a567cc90",
   "metadata": {},
   "outputs": [
    {
     "name": "stdout",
     "output_type": "stream",
     "text": [
      "5 plus 7 equals 12\n"
     ]
    }
   ],
   "source": [
    "a = 5\n",
    "b = 7\n",
    "print(f\"{a} plus {b} equals {a + b}\")"
   ]
  },
  {
   "cell_type": "markdown",
   "id": "b2269783-2957-420c-8fa7-0082b45a3cd4",
   "metadata": {},
   "source": [
    "## `f-strings` can help print nicely formatted messages\n",
    "\n",
    "If we’re making a text-based game, for example, we might want to print the same messages for every player — like instructions, story parts, or game updates. There are also other times when it’s helpful to print neat and clear messages, even in less exciting programs I use for work. We’ll talk about those a bit later."
   ]
  },
  {
   "cell_type": "code",
   "execution_count": 8,
   "id": "15ca8046-bd15-40e3-8ad0-0be2ded76e36",
   "metadata": {},
   "outputs": [
    {
     "name": "stdout",
     "output_type": "stream",
     "text": [
      "Great job, Ava! You scored 95 points!\n"
     ]
    }
   ],
   "source": [
    "name = \"Ava\"\n",
    "score = 95\n",
    "\n",
    "print(f\"Great job, {name}! You scored {score} points!\")"
   ]
  },
  {
   "cell_type": "code",
   "execution_count": 9,
   "id": "53a1535d-96d7-4806-a1e3-96839d4a6710",
   "metadata": {},
   "outputs": [
    {
     "name": "stdout",
     "output_type": "stream",
     "text": [
      "Player Max scored 42 points!\n"
     ]
    }
   ],
   "source": [
    "player = \"Max\"\n",
    "score = 42\n",
    "print(f\"Player {player} scored {score} points!\")"
   ]
  },
  {
   "cell_type": "code",
   "execution_count": 10,
   "id": "cc03e002-13ba-4857-95a6-539fe303494e",
   "metadata": {},
   "outputs": [
    {
     "name": "stdout",
     "output_type": "stream",
     "text": [
      "🎉 Congrats! You’ve reached level 5! Keep going!\n"
     ]
    }
   ],
   "source": [
    "level = 5\n",
    "print(f\"🎉 Congrats! You’ve reached level {level}! Keep going!\")"
   ]
  },
  {
   "cell_type": "code",
   "execution_count": 11,
   "id": "a8f17276-bfdd-4675-9df1-26b47d42150d",
   "metadata": {},
   "outputs": [
    {
     "name": "stdout",
     "output_type": "stream",
     "text": [
      " Welcome, Hoda! Get ready for an amazing adventure!\n"
     ]
    }
   ],
   "source": [
    "player_name = \"Hoda\"\n",
    "print(f\" Welcome, {player_name}! Get ready for an amazing adventure!\")"
   ]
  },
  {
   "cell_type": "code",
   "execution_count": 12,
   "id": "0c781d96-a8fa-4eb1-a362-9acd397db563",
   "metadata": {},
   "outputs": [
    {
     "name": "stdout",
     "output_type": "stream",
     "text": [
      "⚠️ Watch out, Vik! You only have 2 lives left!\n"
     ]
    }
   ],
   "source": [
    "lives = 2\n",
    "name = \"Vik\"\n",
    "print(f\"⚠️ Watch out, {name}! You only have {lives} lives left!\")"
   ]
  },
  {
   "cell_type": "markdown",
   "id": "42360e31-819d-49b5-8b0e-0cb70f591ec3",
   "metadata": {},
   "source": [
    "## Use `+` pluses instead of f-strings\n",
    "\n",
    "You don’t have to use an f-string to put a message together.\\\n",
    "You can also use `+` signs to connect strings and variables.\n",
    "\n",
    "***TIP***\n",
    "The `+` plus can create a big string variable.\n",
    "*** ***\n",
    "\n",
    "Here’s how it works:\n",
    "Put the variable in between the parts of the sentence, and use `+` to glue everything together."
   ]
  },
  {
   "cell_type": "code",
   "execution_count": 13,
   "id": "cf8c4b03-d442-4a05-bae5-12ff1a9f1004",
   "metadata": {},
   "outputs": [
    {
     "name": "stdout",
     "output_type": "stream",
     "text": [
      "I have a string here. A variable string to insert. And another string\n"
     ]
    }
   ],
   "source": [
    "sentence2 = \"A variable string to insert. \"\n",
    "\n",
    "print(\"I have a string here. \" + sentence2 + \"And another string\")"
   ]
  },
  {
   "cell_type": "code",
   "execution_count": 14,
   "id": "feb027c2-e9b1-4147-8bb8-31851531e914",
   "metadata": {},
   "outputs": [
    {
     "name": "stdout",
     "output_type": "stream",
     "text": [
      "I have a string here. A variable string to insert. And another string\n"
     ]
    }
   ],
   "source": [
    "sentence2 = \"A variable string to insert. \"\n",
    "big_sentence = \"I have a string here. \" + sentence2 + \"And another string\"\n",
    "\n",
    "print(big_sentence)"
   ]
  },
  {
   "cell_type": "markdown",
   "id": "d296b020-fbef-46a0-b3c4-c05169f169d1",
   "metadata": {},
   "source": [
    "***TIP***\n",
    "Note the spaces added. The + won't add space between your strings for you.\n",
    "*** ***\n",
    "\n",
    "However, you need to be mindful of the variable types you are gluing together. A string won't join with a number when you use `+` plus.\n",
    "\n",
    "***WARNING***\n",
    "Numbers with the pluses have to be converted to a string with something like `str()`.\n",
    "*** ***"
   ]
  },
  {
   "cell_type": "code",
   "execution_count": 15,
   "id": "722484ed-c3eb-4c87-ad58-9ca79329e71e",
   "metadata": {},
   "outputs": [
    {
     "name": "stdout",
     "output_type": "stream",
     "text": [
      "Number is: 5\n"
     ]
    }
   ],
   "source": [
    "number = 5\n",
    "\n",
    "print(\"Number is: \" + str(number))"
   ]
  },
  {
   "cell_type": "markdown",
   "id": "2ceceb7d-5fbf-4205-8a88-3dcf41761912",
   "metadata": {},
   "source": [
    "## Use `,` commas instead of f-strings\n",
    "\n",
    "You can use `,` commas to connect strings and variables similar to the `+`.\\\n",
    "However, commas can't join strings together inside a variable like pluses can.\n",
    "\n",
    "***TIP***\n",
    "Commas will add a space for you.\n",
    "*** ***"
   ]
  },
  {
   "cell_type": "code",
   "execution_count": 16,
   "id": "7894ee6a-1c8e-45da-abf2-3a32b7f772c4",
   "metadata": {},
   "outputs": [
    {
     "name": "stdout",
     "output_type": "stream",
     "text": [
      "Variable = 5\n"
     ]
    }
   ],
   "source": [
    "variable = 5\n",
    "\n",
    "\n",
    "print(\"Variable =\", variable)"
   ]
  },
  {
   "cell_type": "markdown",
   "id": "a4c75e9f-0f44-4307-b7eb-306fee800a49",
   "metadata": {},
   "source": [
    "In a `print()`, you can mix numbers and strings like this without converting the numbers to strings."
   ]
  },
  {
   "cell_type": "code",
   "execution_count": 17,
   "id": "41e336c9-c6a0-4f1f-a04e-500e1ed82d4d",
   "metadata": {},
   "outputs": [
    {
     "name": "stdout",
     "output_type": "stream",
     "text": [
      "Here's another example. Multiple lines can go like this. Commas are separating the strings, but they print on a single line.\n"
     ]
    }
   ],
   "source": [
    "print(\"Here's another example.\",\n",
    "      \"Multiple lines can go like this.\",\n",
    "      \"Commas are separating the strings, but they print on a single line.\")"
   ]
  },
  {
   "cell_type": "markdown",
   "id": "c549c949-5c98-4bf4-bcc1-7f98dee81012",
   "metadata": {},
   "source": [
    "See the next example also. We can separate a long line into multiple lines."
   ]
  },
  {
   "cell_type": "code",
   "execution_count": 18,
   "id": "6f333744-46f8-47cf-9d30-da4b5289f28b",
   "metadata": {},
   "outputs": [
    {
     "name": "stdout",
     "output_type": "stream",
     "text": [
      "Here's another example. With plus and multiple lines\n"
     ]
    }
   ],
   "source": [
    "print(\"Here's another example. \"\n",
    "      \"With plus \"\n",
    "      \"and multiple lines\")"
   ]
  },
  {
   "cell_type": "markdown",
   "id": "e857ad95-0e57-47e3-aa6c-07ec529b3730",
   "metadata": {},
   "source": [
    "But it doesn't work with a variable in there. You need the plus or comma to join the lines. Remember the comma adds a space between strings."
   ]
  },
  {
   "cell_type": "code",
   "execution_count": 19,
   "id": "bbe1427d-47da-4ddb-a80f-51822224fb29",
   "metadata": {},
   "outputs": [
    {
     "name": "stdout",
     "output_type": "stream",
     "text": [
      "Here's another example. With plus and multiple lines\n"
     ]
    }
   ],
   "source": [
    "sentence_part = \"and multiple lines\"\n",
    "\n",
    "print(\"Here's another example. \"\n",
    "      + \"With plus \"\n",
    "      + sentence_part)"
   ]
  },
  {
   "cell_type": "code",
   "execution_count": 20,
   "id": "5bf6aa8c-f1a3-4f28-8ca2-b331ab3698bb",
   "metadata": {},
   "outputs": [
    {
     "name": "stdout",
     "output_type": "stream",
     "text": [
      "Here's another example. With commas and multiple lines\n"
     ]
    }
   ],
   "source": [
    "sentence_part = \"and multiple lines\"\n",
    "\n",
    "print(\"Here's another example.\",\n",
    "      \"With commas\",\n",
    "      sentence_part)"
   ]
  },
  {
   "cell_type": "markdown",
   "id": "fca701de-3b47-4e9a-a537-f2178bd53401",
   "metadata": {},
   "source": [
    "You might wonder, \"Why should I separate my lines like this?\" In Python, we try to keep line lengths shorter than 80 characters. It's a good habit to get into.\n",
    "\n",
    "- It makes your code easier to read.\n",
    "- It fits nicely on the screen (even small ones).\n",
    "- It helps others understand your code faster.\n",
    "\n",
    "The below code block is one that needs to be on two lines so it meets this best practice."
   ]
  },
  {
   "cell_type": "code",
   "execution_count": 21,
   "id": "dd10b260-725a-4415-88a1-588397c0691f",
   "metadata": {},
   "outputs": [
    {
     "name": "stdout",
     "output_type": "stream",
     "text": [
      "I can use single quotes, but remember how to properly balance your types of quotes around each other.\n"
     ]
    }
   ],
   "source": [
    "repeat_word = \"quotes\"\n",
    "glossary_word = \"balance\"\n",
    "\n",
    "print(f'I can use single {repeat_word}, but remember how to properly '\n",
    "      f'{glossary_word} your types of {repeat_word} around each other.')"
   ]
  },
  {
   "cell_type": "markdown",
   "id": "9fd48c9c-388e-4403-9e70-0df268e5978a",
   "metadata": {},
   "source": [
    "## Recap\n",
    "\n",
    "In sum, we covered f-strings and their alternatives."
   ]
  }
 ],
 "metadata": {
  "kernelspec": {
   "display_name": "Python 3 (ipykernel)",
   "language": "python",
   "name": "python3"
  },
  "language_info": {
   "codemirror_mode": {
    "name": "ipython",
    "version": 3
   },
   "file_extension": ".py",
   "mimetype": "text/x-python",
   "name": "python",
   "nbconvert_exporter": "python",
   "pygments_lexer": "ipython3",
   "version": "3.10.12"
  }
 },
 "nbformat": 4,
 "nbformat_minor": 5
}
