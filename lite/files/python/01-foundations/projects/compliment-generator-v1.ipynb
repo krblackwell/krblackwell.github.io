{
 "cells": [
  {
   "cell_type": "markdown",
   "id": "f104ed8f-4e19-4cb1-ad50-ffdbd2c1b690",
   "metadata": {},
   "source": [
    "<!-- markdownlint-disable-next-line MD041 -->\n",
    "[Go back to Home](/) - [Go to lesson page](/docs/python/foundations/projects/compliment-generator-v1) - [Go to Foundations section](/docs/python/foundations)"
   ]
  },
  {
   "cell_type": "markdown",
   "id": "136f0702-d88d-4765-9b47-e7f6b2495579",
   "metadata": {},
   "source": [
    "# Python Project Compliment Generator\n",
    "\n",
    "In this project, we'll create a compliment generator. We'll use the `random` library to randomly select from three lists of words to get something like \"You're a glorious, swimming, pancake.\""
   ]
  },
  {
   "cell_type": "code",
   "execution_count": 1,
   "id": "379ca6cb-c203-47e7-8c05-107c0cccc6f8",
   "metadata": {},
   "outputs": [
    {
     "data": {
      "text/plain": [
       "'You are a glorious, breathing, pickle!'"
      ]
     },
     "execution_count": 1,
     "metadata": {},
     "output_type": "execute_result"
    }
   ],
   "source": [
    "descriptor = ['handsome', 'lovely', 'wild', 'glorious']\n",
    "action = ['laughing', 'rolling', 'jumping', 'breathing']\n",
    "noun = ['waffle', 'squishmallow', 'panda', 'pickle']\n",
    "\n",
    "f\"You are a {descriptor[3]}, {action[3]}, {noun[3]}!\""
   ]
  },
  {
   "cell_type": "markdown",
   "id": "9e07480d-97dc-4ce4-b1c7-69b9a87b047c",
   "metadata": {},
   "source": [
    "## Random\n",
    "\n",
    "Something interesting we can do here is randomly pick from this list. But how do we do that? With the random library. This is one that you'll have to use import to bring in to your program.\n",
    "\n",
    "You'll see I also set random.seed(11). This is so when I run this notebook through tests, I get the same result every time. I only want a test to fail if something has changed about the functionality of a package or piece of code.\n",
    "\n",
    "If a test fails because of something being randomly generated, and that's how it works! I don't want it to fail because it's working."
   ]
  },
  {
   "cell_type": "code",
   "execution_count": 2,
   "id": "fe9fed85-6914-4a0b-bcba-0a061ed4e9b5",
   "metadata": {},
   "outputs": [
    {
     "name": "stdout",
     "output_type": "stream",
     "text": [
      "\n",
      "You are a glorious,\n",
      "breathing,\n",
      "pickle.\n",
      "\n"
     ]
    }
   ],
   "source": [
    "import random\n",
    "\n",
    "random.seed(11)\n",
    "\n",
    "print(f\"\"\"\n",
    "You are a {descriptor[random.randint(0, len(descriptor) - 1)]},\n",
    "{action[random.randint(0, len(action) - 1)]},\n",
    "{noun[random.randint(0, len(noun) - 1)]}.\n",
    "\"\"\")"
   ]
  },
  {
   "cell_type": "markdown",
   "id": "c0376841-f50c-4eb5-aea7-da4508fd2059",
   "metadata": {},
   "source": [
    "***💡TIP***\n",
    "<a href=\"/lite/lab/index.html\">Open a new blank notebook in the Lab</a> to test if you can remember how to do this on your own! To open a new notebook from the link, click on the tile that says \"Py\" or \"Python.\"\n",
    "Create three lists like we did here. Randomly select something from each list using `import random` without the seed. Run it over and over!\n",
    "*** ***"
   ]
  },
  {
   "cell_type": "markdown",
   "id": "00d50dce-0ea7-412b-a8fa-507e231a4170",
   "metadata": {},
   "source": [
    "## Conclusion\n",
    "\n",
    "We used lists and the random library to create a compliment generator."
   ]
  }
 ],
 "metadata": {
  "kernelspec": {
   "display_name": "Python 3 (ipykernel)",
   "language": "python",
   "name": "python3"
  },
  "language_info": {
   "codemirror_mode": {
    "name": "ipython",
    "version": 3
   },
   "file_extension": ".py",
   "mimetype": "text/x-python",
   "name": "python",
   "nbconvert_exporter": "python",
   "pygments_lexer": "ipython3",
   "version": "3.10.12"
  }
 },
 "nbformat": 4,
 "nbformat_minor": 5
}
