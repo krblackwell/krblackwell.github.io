{
 "cells": [
  {
   "cell_type": "markdown",
   "id": "5b38a955-bd8c-4fe1-ba18-3915c5b48fd5",
   "metadata": {},
   "source": [
    "<!-- markdownlint-disable-next-line MD041 -->\n",
    "[Go back to Home](/) - [Go to lesson page](/docs/python/foundations/projects/story-project-v2) - [Go to Foundations section](/docs/python/foundations)"
   ]
  },
  {
   "cell_type": "markdown",
   "id": "2b57629d-51fb-461d-8346-ef6a012aacf3",
   "metadata": {},
   "source": [
    "# Story Project v2\n",
    "\n",
    "We created a \"Silly Story\" in [Story Project v1](/docs/python/foundations/projects/story-project-v1), and we're going to expand on that with lists.\n",
    "\n",
    "## What is a Silly Story?\n",
    "\n",
    "**(exclamation)**! Well, if **(person)** has never heard of a **(adjective)** Story, that's a shame!\n",
    "\n",
    "A Silly Story is a sentence that has some words taken out, and a friend fills them in (no peeking!).\n",
    "\n",
    "## Let's start with the full story\n",
    "\n",
    "Here is the story we used before.\n",
    "\n",
    "Pip is an axolotl who lives in a beautiful lake. Every day, Pip wakes up with a yawn, and eats his breakfast of waffles. He goes to the market. As he passes his turtle friends, they exclaim, \"What a beautiful day!\"\n",
    "\n",
    "The next cell contains the story with variables inserted, so you can add words in"
   ]
  },
  {
   "cell_type": "code",
   "execution_count": 1,
   "id": "388ca248-66c9-498b-b61f-a833548d9323",
   "metadata": {},
   "outputs": [
    {
     "name": "stdout",
     "output_type": "stream",
     "text": [
      "\n",
      "Fifi is a/an dog who lives in a fizzy lake. Every day,\n",
      "Fifi wakes up with a/an crinkle paper, and eats his breakfast of cactus.\n",
      "He goes to the Timbuktu.\n",
      "As he passes his gopher friends, they exclaim, \"Whoa!\"\n",
      "\n"
     ]
    }
   ],
   "source": [
    "name = 'Fifi'\n",
    "type_of_animal = 'dog'\n",
    "adjective1 = 'fizzy'\n",
    "noun1 = 'nose'\n",
    "noun2 = 'crinkle paper'\n",
    "noun3 = 'cactus'\n",
    "place = 'Timbuktu'\n",
    "type_of_animal2 = 'gopher'\n",
    "exclamation = \"Whoa\"\n",
    "\n",
    "print(f\"\"\"\n",
    "{name} is a/an {type_of_animal} who lives in a {adjective1} lake. Every day,\n",
    "{name} wakes up with a/an {noun2}, and eats his breakfast of {noun3}.\n",
    "He goes to the {place}.\n",
    "As he passes his {type_of_animal2} friends, they exclaim, \"{exclamation}!\"\n",
    "\"\"\")"
   ]
  },
  {
   "cell_type": "markdown",
   "id": "f15c31b0-fb1f-4fb8-87fd-1f49c3e6e936",
   "metadata": {},
   "source": [
    "Now that we know lists, we can do something here to create a new story each time we run the cell!\n",
    "\n",
    "We can create a list of names, for example."
   ]
  },
  {
   "cell_type": "code",
   "execution_count": 2,
   "id": "0c3fe3b9-45c1-4ea1-a055-0565991089d3",
   "metadata": {},
   "outputs": [
    {
     "data": {
      "text/plain": [
       "['Fifi', 'James', 'Sam', 'Opal', 'Jackson', 'Lakshmi', 'Chloe']"
      ]
     },
     "execution_count": 2,
     "metadata": {},
     "output_type": "execute_result"
    }
   ],
   "source": [
    "names = ['Fifi', 'James', 'Sam', 'Opal', 'Jackson', 'Lakshmi', 'Chloe']\n",
    "\n",
    "names"
   ]
  },
  {
   "cell_type": "markdown",
   "id": "40621187-b031-46df-bef4-cff0ed789315",
   "metadata": {},
   "source": [
    "## Random\n",
    "\n",
    "Something interesting we can do here is randomly pick from this list. But how do we do that? With the `random` library. This is one that you'll have to use `import` to bring in to your program.\n",
    "\n",
    "You'll see I also set `random.seed(5)`. This is so when I run this notebook through tests, I get the same result every time. I only want a test to fail if something has changed about the functionality of a package or piece of code.\n",
    "\n",
    "If a test fails because of something being randomly generated, and that's how it works! I don't want it to fail because it's working."
   ]
  },
  {
   "cell_type": "code",
   "execution_count": 3,
   "id": "3c6b3419-64a2-4f7a-8593-5dfdc78678e9",
   "metadata": {},
   "outputs": [],
   "source": [
    "import random\n",
    "\n",
    "random.seed(5)  # gives me the same result for a first run through"
   ]
  },
  {
   "cell_type": "markdown",
   "id": "5835d056-882f-43d7-be71-916992287f75",
   "metadata": {},
   "source": [
    "Run the below cell a couple of times. You should see the value of `random_choice` change."
   ]
  },
  {
   "cell_type": "code",
   "execution_count": 4,
   "id": "e876c768-9ad0-475e-a393-c6f5154dbe5e",
   "metadata": {},
   "outputs": [
    {
     "data": {
      "text/plain": [
       "4"
      ]
     },
     "execution_count": 4,
     "metadata": {},
     "output_type": "execute_result"
    }
   ],
   "source": [
    "random_choice = random.randint(0, len(names) - 1)\n",
    "\n",
    "random_choice"
   ]
  },
  {
   "cell_type": "markdown",
   "id": "592a4c20-87b2-4265-b9f6-42a1ebb54e7a",
   "metadata": {},
   "source": [
    "You should only see numbers ranging from 0 to 6. The first index of the list `name` is 0 and the last one is 6. If we randomly generate the index, we can get a new name each time.\n",
    "\n",
    "We'll create some lists below, and give them plural names."
   ]
  },
  {
   "cell_type": "code",
   "execution_count": 5,
   "id": "a3beddd1-39c0-4dc0-9c7f-6e43a6143187",
   "metadata": {},
   "outputs": [],
   "source": [
    "names = ['Fifi', 'Cookie', 'Steve', 'Sean', 'Barry', 'James', 'Sam',\n",
    "         'Opal', 'Jackson', 'Lakshmi', 'Chloe', 'Regan', 'Phoebe']\n",
    "types_of_animals = ['dog', 'cat', 'snake', 'parrot', 'budgie',\n",
    "                    'bunny', 'sugar bear', 'hermit crab']\n",
    "adjectives = ['fizzy', 'stinky', 'flat', 'long', 'hairy', 'shimmery']\n",
    "nouns = ['nose', 'yawn', 'waffles', 'cat food', 'funyuns', 'phone',\n",
    "         'journal', 'bowling ball', 'tree', 'pumpkin', 'ceramic art']\n",
    "places = ['city of Timbuktu', 'forge', 'internet', 'backyard',\n",
    "          'mountain', 'volcano', 'kitchen']\n",
    "exclamations = [\"Whoa\", 'Hooray', 'Huzzah', 'Yippee', 'Oh no', 'What',\n",
    "                \"For Pete's Sake\", 'How']"
   ]
  },
  {
   "cell_type": "markdown",
   "id": "5a7f8629-a3eb-4693-ba2c-0b18df73a117",
   "metadata": {},
   "source": [
    "Next, we'll get a random value for each placeholder."
   ]
  },
  {
   "cell_type": "code",
   "execution_count": 6,
   "id": "b7f2d84c-4d5e-4a63-a294-1bd5ee107d20",
   "metadata": {},
   "outputs": [],
   "source": [
    "# Rerun me #1\n",
    "\n",
    "random_name = random.randint(0, len(names) - 1)\n",
    "random_animal1 = random.randint(0, len(types_of_animals) - 1)\n",
    "random_animal2 = random.randint(0, len(types_of_animals) - 1)\n",
    "random_adjective1 = random.randint(0, len(adjectives) - 1)\n",
    "random_noun1 = random.randint(0, len(nouns) - 1)\n",
    "random_noun2 = random.randint(0, len(nouns) - 1)\n",
    "random_noun3 = random.randint(0, len(nouns) - 1)\n",
    "random_place = random.randint(0, len(places) - 1)\n",
    "random_exclamation = random.randint(0, len(exclamations) - 1)"
   ]
  },
  {
   "cell_type": "markdown",
   "id": "ab5a2ce4-d370-43d5-808c-b16bb1087274",
   "metadata": {},
   "source": [
    "***💡TIP***\n",
    "Rerun the cell above to get different numbers.\n",
    "\n",
    "`random.seed()` makes sure I get the same numbers each time.\n",
    "\n",
    "Run the above cell, \"Rerun me #1\" then rerun \"Rerun me #2\" and \"Rerun me #3\" below.\n",
    "\n",
    "Rerun the lists if you change them!\n",
    "*** ***"
   ]
  },
  {
   "cell_type": "markdown",
   "id": "f52b9a10-538c-4d3f-9f20-17ac05651748",
   "metadata": {},
   "source": [
    "Now you can see each of these is a number that goes from 0 (first element in the list) to `len(list) - 1`, which is the length of the list. We minus 1 because lists start a 0."
   ]
  },
  {
   "cell_type": "code",
   "execution_count": 7,
   "id": "13bbce5e-d14d-439a-aefc-b3688d7acda0",
   "metadata": {},
   "outputs": [
    {
     "data": {
      "text/plain": [
       "13"
      ]
     },
     "execution_count": 7,
     "metadata": {},
     "output_type": "execute_result"
    }
   ],
   "source": [
    "len(names)"
   ]
  },
  {
   "cell_type": "code",
   "execution_count": 8,
   "id": "d0453d7d-1d56-4f03-b845-f3f1b0e98fb8",
   "metadata": {},
   "outputs": [
    {
     "data": {
      "text/plain": [
       "12"
      ]
     },
     "execution_count": 8,
     "metadata": {},
     "output_type": "execute_result"
    }
   ],
   "source": [
    "len(names) - 1"
   ]
  },
  {
   "cell_type": "markdown",
   "id": "4040bc45-337a-4b7e-b7e5-7ba981405c30",
   "metadata": {},
   "source": [
    "Here is one way to get the last item of a list."
   ]
  },
  {
   "cell_type": "code",
   "execution_count": 9,
   "id": "5c461521-4ec9-47a3-a099-aec463dc7fcb",
   "metadata": {},
   "outputs": [
    {
     "data": {
      "text/plain": [
       "'Phoebe'"
      ]
     },
     "execution_count": 9,
     "metadata": {},
     "output_type": "execute_result"
    }
   ],
   "source": [
    "names[len(names) - 1]"
   ]
  },
  {
   "cell_type": "markdown",
   "id": "6ac1357b-f8a5-4c72-8234-7bac88c900ee",
   "metadata": {},
   "source": [
    "And -1 is also how we can get the last item."
   ]
  },
  {
   "cell_type": "code",
   "execution_count": 10,
   "id": "136567ca-8c5d-40c8-85b4-9dbc0d5e835c",
   "metadata": {},
   "outputs": [
    {
     "data": {
      "text/plain": [
       "'Phoebe'"
      ]
     },
     "execution_count": 10,
     "metadata": {},
     "output_type": "execute_result"
    }
   ],
   "source": [
    "names[-1]"
   ]
  },
  {
   "cell_type": "markdown",
   "id": "128fc7f5-1303-407d-aaca-d44e0cad6a4d",
   "metadata": {},
   "source": [
    "Here are two examples of the random numbers we got."
   ]
  },
  {
   "cell_type": "code",
   "execution_count": 11,
   "id": "f09baf2c-03c3-420c-be98-b06ddcb48c8e",
   "metadata": {},
   "outputs": [
    {
     "data": {
      "text/plain": [
       "4"
      ]
     },
     "execution_count": 11,
     "metadata": {},
     "output_type": "execute_result"
    }
   ],
   "source": [
    "random_name"
   ]
  },
  {
   "cell_type": "code",
   "execution_count": 12,
   "id": "3fdea239-0cfc-4f63-aa7c-5dba589853f7",
   "metadata": {},
   "outputs": [
    {
     "data": {
      "text/plain": [
       "1"
      ]
     },
     "execution_count": 12,
     "metadata": {},
     "output_type": "execute_result"
    }
   ],
   "source": [
    "random_place"
   ]
  },
  {
   "cell_type": "markdown",
   "id": "6b441616-f713-425e-8295-08fedae91822",
   "metadata": {},
   "source": [
    "We apply the random numbers to each list, so we get a random item each time."
   ]
  },
  {
   "cell_type": "code",
   "execution_count": 13,
   "id": "93f37f3a-9507-4e34-8f6d-5860f8d843e1",
   "metadata": {},
   "outputs": [],
   "source": [
    "name = names[random_name]"
   ]
  },
  {
   "cell_type": "code",
   "execution_count": 14,
   "id": "b0cd7ba6-53c1-47ca-a331-233d7729e314",
   "metadata": {},
   "outputs": [
    {
     "data": {
      "text/plain": [
       "'Hooray'"
      ]
     },
     "execution_count": 14,
     "metadata": {},
     "output_type": "execute_result"
    }
   ],
   "source": [
    "exclamations[random_exclamation]"
   ]
  },
  {
   "cell_type": "code",
   "execution_count": 15,
   "id": "21cef29e-bd14-4954-a305-d2be6c7589ae",
   "metadata": {},
   "outputs": [],
   "source": [
    "# Rerun me #2\n",
    "\n",
    "name = names[random_name]\n",
    "type_of_animal = types_of_animals[random_animal1]\n",
    "adjective1 = adjectives[random_adjective1]\n",
    "noun1 = nouns[random_noun1]\n",
    "noun2 = nouns[random_noun2]\n",
    "noun3 = nouns[random_noun3]\n",
    "place = places[random_place]\n",
    "type_of_animal2 = types_of_animals[random_animal2]\n",
    "exclamation = exclamations[random_exclamation]"
   ]
  },
  {
   "cell_type": "code",
   "execution_count": 16,
   "id": "ea3e76d1-17e1-4a3e-bd58-950871ab078c",
   "metadata": {},
   "outputs": [
    {
     "name": "stdout",
     "output_type": "stream",
     "text": [
      "\n",
      "Barry is a/an bunny who lives in a long lake. Every day,\n",
      "Barry wakes up with a/an ceramic art, and eats his breakfast of nose.\n",
      "He goes to the forge.\n",
      "As he passes his dog friends, they exclaim, \"Hooray!\"\n",
      "\n"
     ]
    }
   ],
   "source": [
    "# Rerun me #3\n",
    "\n",
    "print(f\"\"\"\n",
    "{name} is a/an {type_of_animal} who lives in a {adjective1} lake. Every day,\n",
    "{name} wakes up with a/an {noun2}, and eats his breakfast of {noun3}.\n",
    "He goes to the {place}.\n",
    "As he passes his {type_of_animal2} friends, they exclaim, \"{exclamation}!\"\n",
    "\"\"\")"
   ]
  },
  {
   "cell_type": "markdown",
   "id": "6c7aaa67-b6c3-4a44-936d-6ec3cdcec982",
   "metadata": {},
   "source": [
    "Try making your own silly story, or fill in one with a friend! Add to the lists or fill them in with your own words.\n",
    "\n",
    "***💡TIP***\n",
    "<a href=\"/lite/lab/index.html\">Open a new blank notebook in the Lab</a> to test if you can remember how to do this on your own! To open a new notebook from the link, click on the tile that says \"Py\" or \"Python.\"\n",
    "*** ***"
   ]
  },
  {
   "cell_type": "markdown",
   "id": "13ba0aeb-f7bd-4165-868a-1bab02ee8768",
   "metadata": {},
   "source": [
    "## Conclusion\n",
    "\n",
    "We were able to take our silly story and add lists in to the mix. We learned how to use `import random` to get random values from the lists to make our story more interesting."
   ]
  }
 ],
 "metadata": {
  "kernelspec": {
   "display_name": "Python 3 (ipykernel)",
   "language": "python",
   "name": "python3"
  },
  "language_info": {
   "codemirror_mode": {
    "name": "ipython",
    "version": 3
   },
   "file_extension": ".py",
   "mimetype": "text/x-python",
   "name": "python",
   "nbconvert_exporter": "python",
   "pygments_lexer": "ipython3",
   "version": "3.10.12"
  }
 },
 "nbformat": 4,
 "nbformat_minor": 5
}
