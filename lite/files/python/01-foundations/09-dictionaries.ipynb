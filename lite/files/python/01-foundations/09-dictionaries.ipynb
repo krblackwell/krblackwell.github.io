{
 "cells": [
  {
   "cell_type": "markdown",
   "id": "a7dc2c4c-7019-4726-936c-8f71d61f6a51",
   "metadata": {},
   "source": [
    "<!-- markdownlint-disable-next-line MD041 -->\n",
    "[Go back to Home](/) - [Go to lesson page](/docs/python/foundations/dictionaries) - [Go to Foundations section](/docs/python/foundations)"
   ]
  },
  {
   "cell_type": "markdown",
   "id": "553230c3-b174-4afd-b5bf-16dc144fb4b6",
   "metadata": {},
   "source": [
    "# Dictionaries\n",
    "\n",
    "In Python, dictionaries are a useful key-value pair. Javascript objects and R lists are just like Python dictionaries.\n",
    "\n",
    "## Learning Objectives\n",
    "\n",
    "- Key-value pairs\n",
    "- Dictionary methods\n",
    "  - `.get()`\n",
    "  - `.set()`\n",
    "  - `.list()`\n",
    "  - `.copy()`\n",
    "  - `.pop()`\n",
    "\n",
    "There are a lot of things we can do with dictionaries, but we'll keep this one short."
   ]
  },
  {
   "cell_type": "markdown",
   "id": "d22df9e9-7e93-436e-aca9-f2f899a9ce74",
   "metadata": {},
   "source": [
    "## Key-value pairs\n",
    "\n",
    "A dictionary in real life is something where you can look up a word and get information, a definition. In a Python dictionary, the \"key\" is the word, and the \"value\" is the definition.\n",
    "\n",
    "To create an empty dictionary, it's similar to a list.\n",
    "\n",
    "An empty list was created with square brackets `List = []`.\\\n",
    "An empty dictionary is created with curly braces `Dictionary = {}`.\n",
    "\n",
    "Let's look at a word dictionary in Python dictionary format."
   ]
  },
  {
   "cell_type": "code",
   "execution_count": 1,
   "id": "ea8767be-b26a-4441-a6cd-ae0914ec2f51",
   "metadata": {},
   "outputs": [
    {
     "data": {
      "text/plain": [
       "{'cat': 'a small pet feline',\n",
       " 'sun': 'the brightest star in our solar system',\n",
       " 'book': 'pages bound together'}"
      ]
     },
     "execution_count": 1,
     "metadata": {},
     "output_type": "execute_result"
    }
   ],
   "source": [
    "dictionary_dict = {\n",
    "    \"cat\": \"a small pet feline\",\n",
    "    \"sun\": \"the brightest star in our solar system\",\n",
    "    \"book\": \"pages bound together\"\n",
    "}\n",
    "\n",
    "dictionary_dict"
   ]
  },
  {
   "cell_type": "markdown",
   "id": "a93d1ead-5d00-43af-96c8-5ca292d16357",
   "metadata": {},
   "source": [
    "I can \"look up\" a word in my dictionary. Let's find the definition for \"sun.\""
   ]
  },
  {
   "cell_type": "code",
   "execution_count": 2,
   "id": "8bb0782b-c3e3-40ec-9cef-112d2754f510",
   "metadata": {},
   "outputs": [
    {
     "data": {
      "text/plain": [
       "'the brightest star in our solar system'"
      ]
     },
     "execution_count": 2,
     "metadata": {},
     "output_type": "execute_result"
    }
   ],
   "source": [
    "dictionary_dict.get(\"sun\")"
   ]
  },
  {
   "cell_type": "markdown",
   "id": "c4aac814-a28e-461b-9872-4f3bff2ee35e",
   "metadata": {},
   "source": [
    "## `.get()` to get keys\n",
    "\n",
    "If I want to find a definition in my dictionary, I can use `.get()` like you saw above. Next, let's find the definition for \"book.\""
   ]
  },
  {
   "cell_type": "code",
   "execution_count": 3,
   "id": "25204a65-8496-47d2-98a1-14736cc9fea6",
   "metadata": {},
   "outputs": [
    {
     "data": {
      "text/plain": [
       "'pages bound together'"
      ]
     },
     "execution_count": 3,
     "metadata": {},
     "output_type": "execute_result"
    }
   ],
   "source": [
    "book_definition = dictionary_dict.get(\"book\")\n",
    "\n",
    "book_definition"
   ]
  },
  {
   "cell_type": "markdown",
   "id": "d4908ca6-0c32-4dbb-a370-2ce590fa0d9e",
   "metadata": {},
   "source": [
    "## Add key-value pairs\n",
    "\n",
    "If I want to add another definition, I can do it like this."
   ]
  },
  {
   "cell_type": "code",
   "execution_count": 4,
   "id": "396559d5-ed30-4442-aeed-5194551d8ed7",
   "metadata": {},
   "outputs": [
    {
     "data": {
      "text/plain": [
       "{'cat': 'a small pet feline',\n",
       " 'sun': 'the brightest star in our solar system',\n",
       " 'book': 'pages bound together',\n",
       " 'new word': 'new definition'}"
      ]
     },
     "execution_count": 4,
     "metadata": {},
     "output_type": "execute_result"
    }
   ],
   "source": [
    "dictionary_dict['new word'] = 'new definition'\n",
    "\n",
    "dictionary_dict"
   ]
  },
  {
   "cell_type": "markdown",
   "id": "a5b54d33-b2a1-4121-9eff-c8c973d7d3c1",
   "metadata": {},
   "source": [
    "I added something to the dictionary."
   ]
  },
  {
   "cell_type": "code",
   "execution_count": 5,
   "id": "6581e1e6-1a1a-4338-b4dd-d4a9453150b9",
   "metadata": {},
   "outputs": [
    {
     "data": {
      "text/plain": [
       "{'cat': 'a small pet feline',\n",
       " 'sun': 'the brightest star in our solar system',\n",
       " 'book': 'pages bound together',\n",
       " 'new word': 'new definition',\n",
       " 'tree': 'a woody plant with leaves or needles'}"
      ]
     },
     "execution_count": 5,
     "metadata": {},
     "output_type": "execute_result"
    }
   ],
   "source": [
    "dictionary_dict['tree'] = 'a woody plant with leaves or needles'\n",
    "\n",
    "dictionary_dict"
   ]
  },
  {
   "cell_type": "markdown",
   "id": "ab2953f0-62a6-417b-a994-a30862c2c84c",
   "metadata": {},
   "source": [
    "And we get one of our new definitions."
   ]
  },
  {
   "cell_type": "code",
   "execution_count": 6,
   "id": "0f1942fd-3375-4cbb-8ff7-24604bc631a8",
   "metadata": {},
   "outputs": [
    {
     "data": {
      "text/plain": [
       "'a woody plant with leaves or needles'"
      ]
     },
     "execution_count": 6,
     "metadata": {},
     "output_type": "execute_result"
    }
   ],
   "source": [
    "dictionary_dict.get(\"tree\")"
   ]
  },
  {
   "cell_type": "markdown",
   "id": "c9f0b7ae-9274-427f-b4f9-39eccf3cdd0f",
   "metadata": {},
   "source": [
    "## `list()`\n",
    "\n",
    "`list()` is a function that will return all the keys of a dictionary. So in our example, that means `list()` will show us the words in the dictionary."
   ]
  },
  {
   "cell_type": "code",
   "execution_count": 7,
   "id": "3b4d2250-ad5d-4bc3-9765-725605e667cc",
   "metadata": {},
   "outputs": [
    {
     "data": {
      "text/plain": [
       "['cat', 'sun', 'book', 'new word', 'tree']"
      ]
     },
     "execution_count": 7,
     "metadata": {},
     "output_type": "execute_result"
    }
   ],
   "source": [
    "list(dictionary_dict)"
   ]
  },
  {
   "cell_type": "markdown",
   "id": "73551f7a-1be2-4001-99ff-91dbf7c16f1b",
   "metadata": {},
   "source": [
    "## `.copy()`\n",
    "\n",
    "We can also copy the dictionary, but like lists, you probably won't be doing this much. Be cautious when making copies of anything, so you don't lose track of which one is right."
   ]
  },
  {
   "cell_type": "code",
   "execution_count": 8,
   "id": "778f4c14-67c3-4deb-8f65-b5b9a9d50bed",
   "metadata": {},
   "outputs": [
    {
     "data": {
      "text/plain": [
       "{'cat': 'a small pet feline',\n",
       " 'sun': 'the brightest star in our solar system',\n",
       " 'book': 'pages bound together',\n",
       " 'new word': 'new definition',\n",
       " 'tree': 'a woody plant with leaves or needles'}"
      ]
     },
     "execution_count": 8,
     "metadata": {},
     "output_type": "execute_result"
    }
   ],
   "source": [
    "new_dictionary = dictionary_dict.copy()\n",
    "\n",
    "new_dictionary"
   ]
  },
  {
   "cell_type": "markdown",
   "id": "a41549dd-0399-4d69-a4b1-71bd02dd347f",
   "metadata": {},
   "source": [
    "The dictionary looks the same as the original. Next, let's check if we have to worry about the same issues as the lists. When we used `.copy()` with a list, our lists were different."
   ]
  },
  {
   "cell_type": "code",
   "execution_count": 9,
   "id": "aea76bac-21aa-4210-a81a-73fb75cbce1f",
   "metadata": {},
   "outputs": [
    {
     "data": {
      "text/plain": [
       "False"
      ]
     },
     "execution_count": 9,
     "metadata": {},
     "output_type": "execute_result"
    }
   ],
   "source": [
    "id(new_dictionary) == id(dictionary_dict)"
   ]
  },
  {
   "cell_type": "markdown",
   "id": "62b88f39-253e-4f87-9e07-ef5f5dc8547e",
   "metadata": {},
   "source": [
    "The two dictionaries are different, just like with the lists. They do not share a reference when we use `.copy()`. It's a `deep copy`, meaning the two variables are different. If we do something to one, we're NOT doing it to the other. They can be treated as independent things.\n",
    "\n",
    "Just to be sure, though, let's check how a dictionary behaves if we set one equal to another."
   ]
  },
  {
   "cell_type": "code",
   "execution_count": 10,
   "id": "664cb547-303b-43a7-bb27-54dd1443690e",
   "metadata": {},
   "outputs": [
    {
     "data": {
      "text/plain": [
       "{'cat': 'a small pet feline',\n",
       " 'sun': 'the brightest star in our solar system',\n",
       " 'book': 'pages bound together',\n",
       " 'new word': 'new definition',\n",
       " 'tree': 'a woody plant with leaves or needles'}"
      ]
     },
     "execution_count": 10,
     "metadata": {},
     "output_type": "execute_result"
    }
   ],
   "source": [
    "dictionary_dict2 = dictionary_dict\n",
    "\n",
    "dictionary_dict2"
   ]
  },
  {
   "cell_type": "code",
   "execution_count": 11,
   "id": "df114222-e1c9-479c-8dd1-d1da587b1f12",
   "metadata": {},
   "outputs": [
    {
     "data": {
      "text/plain": [
       "True"
      ]
     },
     "execution_count": 11,
     "metadata": {},
     "output_type": "execute_result"
    }
   ],
   "source": [
    "id(dictionary_dict2) == id(dictionary_dict)"
   ]
  },
  {
   "cell_type": "markdown",
   "id": "5d6f186b-332f-4f79-8009-7f474c649040",
   "metadata": {},
   "source": [
    "They are the same. If I make a change to one dictionary, it will make a change to the other. This is behaving just like lists with shared references to a memory location."
   ]
  },
  {
   "cell_type": "markdown",
   "id": "a3b46f67-9481-4955-a4f6-a11e10b7075f",
   "metadata": {},
   "source": [
    "## `.pop()`\n",
    "\n",
    "We have a `.pop()` method for dictionaries, like we did with lists. We have to give it an argument. Let's yeet \"new word\" out of this dictionary."
   ]
  },
  {
   "cell_type": "code",
   "execution_count": 12,
   "id": "9c34209c-8350-4a4e-a153-5e9f5ac0fd17",
   "metadata": {},
   "outputs": [
    {
     "data": {
      "text/plain": [
       "'new definition'"
      ]
     },
     "execution_count": 12,
     "metadata": {},
     "output_type": "execute_result"
    }
   ],
   "source": [
    "dictionary_dict.pop(\"new word\")"
   ]
  },
  {
   "cell_type": "markdown",
   "id": "c3237ac5-4699-4cef-b428-38de7a048c5b",
   "metadata": {},
   "source": [
    "That returned what we dropped from the dictionary. If we look at the dictionary, we'll see \"new word\" and its definition are both gone. `.pop()` dropped the whole key-value pair."
   ]
  },
  {
   "cell_type": "code",
   "execution_count": 13,
   "id": "2cff3b98-bb24-4624-9e65-28066a0dfd93",
   "metadata": {},
   "outputs": [
    {
     "data": {
      "text/plain": [
       "{'cat': 'a small pet feline',\n",
       " 'sun': 'the brightest star in our solar system',\n",
       " 'book': 'pages bound together',\n",
       " 'tree': 'a woody plant with leaves or needles'}"
      ]
     },
     "execution_count": 13,
     "metadata": {},
     "output_type": "execute_result"
    }
   ],
   "source": [
    "dictionary_dict"
   ]
  },
  {
   "cell_type": "markdown",
   "id": "ea191b96-b076-435d-9858-1a6468cf4913",
   "metadata": {},
   "source": [
    "## Another example\n",
    "\n",
    "A dictionary is not literally a dictionary, where it has to be words and their definitions. If you continue with Python, you might be using dictionaries a lot depending on what you do.\n",
    "\n",
    "This is what a `JSON` format would look like storing a person and their favorite things. It's basically the same as a dictionary. This is a big step up from the previous example, but we'll look at it step by step."
   ]
  },
  {
   "cell_type": "code",
   "execution_count": 14,
   "id": "ecea91be-17ee-4358-b8b5-2b7da17abc22",
   "metadata": {},
   "outputs": [
    {
     "data": {
      "text/plain": [
       "{'name': 'Sam',\n",
       " 'age': 14,\n",
       " 'favorite_color': 'green',\n",
       " 'hobbies': ['running', 'writing', 'reading'],\n",
       " 'pet': {'type': 'cat', 'name': 'Steve'}}"
      ]
     },
     "execution_count": 14,
     "metadata": {},
     "output_type": "execute_result"
    }
   ],
   "source": [
    "person1 = {\n",
    "    \"name\": \"Sam\",\n",
    "    \"age\": 14,\n",
    "    \"favorite_color\": \"green\",\n",
    "    \"hobbies\": [\"running\", \"writing\", \"reading\"],\n",
    "    \"pet\": {\n",
    "        \"type\": \"cat\",\n",
    "        \"name\": \"Steve\"\n",
    "    }\n",
    "}\n",
    "\n",
    "person1"
   ]
  },
  {
   "cell_type": "markdown",
   "id": "4dbe1527-26d1-4770-9bc9-b137741fde01",
   "metadata": {},
   "source": [
    "There's a lot in there! We have a few keys that are just like what we saw before. Notice the dictionary can hold different data types. The \"name\" value is a string, \"Sam.\" But the \"age\" value is a number, 14."
   ]
  },
  {
   "cell_type": "code",
   "execution_count": 15,
   "id": "7cfa7b51-fd70-456c-9bf7-5561ff6c8f02",
   "metadata": {},
   "outputs": [
    {
     "name": "stdout",
     "output_type": "stream",
     "text": [
      "\n",
      "    Keys like before:\n",
      "    name: Sam\n",
      "    age: 14\n",
      "    favorite_color: green\n",
      "    \n"
     ]
    }
   ],
   "source": [
    "print(\n",
    "    f\"\"\"\n",
    "    Keys like before:\n",
    "    name: {person1.get(\"name\")}\n",
    "    age: {person1.get(\"age\")}\n",
    "    favorite_color: {person1.get(\"favorite_color\")}\n",
    "    \"\"\"\n",
    ")"
   ]
  },
  {
   "cell_type": "markdown",
   "id": "f5da62c1-6f1e-4030-9761-656dfb652793",
   "metadata": {},
   "source": [
    "The value for \"hobbies\" is a list. Once we get the value, we can use it like a list."
   ]
  },
  {
   "cell_type": "code",
   "execution_count": 16,
   "id": "77f00a68-f4f2-4bd2-a8ce-60b8b4b776d6",
   "metadata": {},
   "outputs": [
    {
     "data": {
      "text/plain": [
       "list"
      ]
     },
     "execution_count": 16,
     "metadata": {},
     "output_type": "execute_result"
    }
   ],
   "source": [
    "type(person1.get(\"hobbies\"))"
   ]
  },
  {
   "cell_type": "markdown",
   "id": "93825a90-d707-4033-8f15-90659b4e44b4",
   "metadata": {},
   "source": [
    "Get the list of hobbies."
   ]
  },
  {
   "cell_type": "code",
   "execution_count": 17,
   "id": "d73534a8-f736-47ef-bfda-8c3e6a001647",
   "metadata": {},
   "outputs": [
    {
     "data": {
      "text/plain": [
       "['running', 'writing', 'reading']"
      ]
     },
     "execution_count": 17,
     "metadata": {},
     "output_type": "execute_result"
    }
   ],
   "source": [
    "person1.get(\"hobbies\")"
   ]
  },
  {
   "cell_type": "markdown",
   "id": "d7c6da22-7365-4c09-98f8-675184097058",
   "metadata": {},
   "source": [
    "Get the first item in the list."
   ]
  },
  {
   "cell_type": "code",
   "execution_count": 18,
   "id": "5dc612eb-fe26-4954-98f9-6b4c88568f17",
   "metadata": {},
   "outputs": [
    {
     "data": {
      "text/plain": [
       "'running'"
      ]
     },
     "execution_count": 18,
     "metadata": {},
     "output_type": "execute_result"
    }
   ],
   "source": [
    "person1.get(\"hobbies\")[0]"
   ]
  },
  {
   "cell_type": "markdown",
   "id": "0790525e-4b62-4442-b7ef-2e6bdedfa64e",
   "metadata": {},
   "source": [
    "It can also look like this to get the first item in the hobbies list."
   ]
  },
  {
   "cell_type": "code",
   "execution_count": 19,
   "id": "48aee9b7-d308-425e-9435-43be1a26eda7",
   "metadata": {},
   "outputs": [
    {
     "data": {
      "text/plain": [
       "'running'"
      ]
     },
     "execution_count": 19,
     "metadata": {},
     "output_type": "execute_result"
    }
   ],
   "source": [
    "hobbies = person1.get(\"hobbies\")\n",
    "\n",
    "hobbies[0]"
   ]
  },
  {
   "cell_type": "markdown",
   "id": "f5c69ebb-a355-49bf-92e3-7baec141c0a1",
   "metadata": {},
   "source": [
    "We could even add a hobby. When we add a dictionary key, we used `dictionary_dict['new word'] = 'definition'` and we'll do something similar here."
   ]
  },
  {
   "cell_type": "code",
   "execution_count": 20,
   "id": "30bc97ec-decb-4aa9-b7b1-5b2f96d37c81",
   "metadata": {},
   "outputs": [
    {
     "data": {
      "text/plain": [
       "{'name': 'Sam',\n",
       " 'age': 14,\n",
       " 'favorite_color': 'green',\n",
       " 'hobbies': ['running', 'writing', 'reading', 'swimming'],\n",
       " 'pet': {'type': 'cat', 'name': 'Steve'}}"
      ]
     },
     "execution_count": 20,
     "metadata": {},
     "output_type": "execute_result"
    }
   ],
   "source": [
    "person1['hobbies'].append(\"swimming\")\n",
    "\n",
    "person1"
   ]
  },
  {
   "cell_type": "markdown",
   "id": "f890a103-df34-42ce-b000-c77061a979cf",
   "metadata": {},
   "source": [
    "We can see when we look at the whole dictionary for `person1`, that we added swimming and didn't change anything else. We can see the hobbies values the following way too."
   ]
  },
  {
   "cell_type": "code",
   "execution_count": 21,
   "id": "87b9d436-5609-4703-9dd7-05a4fc5aeb51",
   "metadata": {},
   "outputs": [
    {
     "data": {
      "text/plain": [
       "['running', 'writing', 'reading', 'swimming']"
      ]
     },
     "execution_count": 21,
     "metadata": {},
     "output_type": "execute_result"
    }
   ],
   "source": [
    "person1['hobbies']"
   ]
  },
  {
   "cell_type": "markdown",
   "id": "933b86f8-4c51-4e17-aea1-c9d38d34a870",
   "metadata": {},
   "source": [
    "And check the last item in the hobbies value list with `-1` because `.append()` adds something to the end of a list."
   ]
  },
  {
   "cell_type": "code",
   "execution_count": 22,
   "id": "973366d3-61c0-40f4-914e-ba86ae8ea1a4",
   "metadata": {},
   "outputs": [
    {
     "data": {
      "text/plain": [
       "'swimming'"
      ]
     },
     "execution_count": 22,
     "metadata": {},
     "output_type": "execute_result"
    }
   ],
   "source": [
    "person1['hobbies'][-1]"
   ]
  },
  {
   "cell_type": "markdown",
   "id": "ea1e23c7-c10c-42ad-99bc-1e14f5ec8459",
   "metadata": {},
   "source": [
    "Lastly, we can look at the \"pet\" key and see what its values are."
   ]
  },
  {
   "cell_type": "code",
   "execution_count": 23,
   "id": "3fda1f0e-676c-4f9c-89be-43197ba57b81",
   "metadata": {},
   "outputs": [
    {
     "data": {
      "text/plain": [
       "{'type': 'cat', 'name': 'Steve'}"
      ]
     },
     "execution_count": 23,
     "metadata": {},
     "output_type": "execute_result"
    }
   ],
   "source": [
    "person1.get(\"pet\")"
   ]
  },
  {
   "cell_type": "code",
   "execution_count": 24,
   "id": "40d62d59-945b-4130-9f14-543da99b1c56",
   "metadata": {},
   "outputs": [
    {
     "data": {
      "text/plain": [
       "dict"
      ]
     },
     "execution_count": 24,
     "metadata": {},
     "output_type": "execute_result"
    }
   ],
   "source": [
    "type(person1.get(\"pet\"))"
   ]
  },
  {
   "cell_type": "markdown",
   "id": "12041bbd-7853-4d19-b356-ec3b3c87e985",
   "metadata": {},
   "source": [
    "Interesting, we have a dictionary within a dictionary. We can get the values in different ways that achieve the same result."
   ]
  },
  {
   "cell_type": "code",
   "execution_count": 25,
   "id": "205020ee-5fba-4780-a5ef-e4edae88181e",
   "metadata": {},
   "outputs": [
    {
     "data": {
      "text/plain": [
       "'cat'"
      ]
     },
     "execution_count": 25,
     "metadata": {},
     "output_type": "execute_result"
    }
   ],
   "source": [
    "person1.get(\"pet\").get(\"type\")"
   ]
  },
  {
   "cell_type": "code",
   "execution_count": 26,
   "id": "4f458442-c763-4f3e-af94-29b5162d235a",
   "metadata": {},
   "outputs": [
    {
     "data": {
      "text/plain": [
       "'cat'"
      ]
     },
     "execution_count": 26,
     "metadata": {},
     "output_type": "execute_result"
    }
   ],
   "source": [
    "person1[\"pet\"][\"type\"]"
   ]
  },
  {
   "cell_type": "code",
   "execution_count": 27,
   "id": "ca85e76b-3fbe-46dc-8a73-a1c336397f2a",
   "metadata": {},
   "outputs": [
    {
     "data": {
      "text/plain": [
       "'cat'"
      ]
     },
     "execution_count": 27,
     "metadata": {},
     "output_type": "execute_result"
    }
   ],
   "source": [
    "pet = person1.get(\"pet\")\n",
    "\n",
    "pet['type']"
   ]
  },
  {
   "cell_type": "markdown",
   "id": "e71fdafd-1614-4acd-8da7-8a4847fe5d6e",
   "metadata": {},
   "source": [
    "But, I do recommend you keep your program consistent. If you use `.get()`, use it. Don't switch between `.get()` and `[]` square brackets."
   ]
  },
  {
   "cell_type": "code",
   "execution_count": 28,
   "id": "d0b86c60-4345-4667-a8b3-81dfa6942f2c",
   "metadata": {},
   "outputs": [
    {
     "data": {
      "text/plain": [
       "'cat'"
      ]
     },
     "execution_count": 28,
     "metadata": {},
     "output_type": "execute_result"
    }
   ],
   "source": [
    "pet = person1.get(\"pet\")\n",
    "\n",
    "pet.get(\"type\")"
   ]
  },
  {
   "cell_type": "markdown",
   "id": "e9d52df8-dd6b-4068-9daf-10c53f039dfa",
   "metadata": {},
   "source": [
    "## Conclusion\n",
    "\n",
    "We covered dictionaries in this lesson. We went over how to use them, change them, and what one can look like that contains a list or dictionary in it."
   ]
  }
 ],
 "metadata": {
  "kernelspec": {
   "display_name": "Python 3 (ipykernel)",
   "language": "python",
   "name": "python3"
  },
  "language_info": {
   "codemirror_mode": {
    "name": "ipython",
    "version": 3
   },
   "file_extension": ".py",
   "mimetype": "text/x-python",
   "name": "python",
   "nbconvert_exporter": "python",
   "pygments_lexer": "ipython3",
   "version": "3.10.12"
  }
 },
 "nbformat": 4,
 "nbformat_minor": 5
}
