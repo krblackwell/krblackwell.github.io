{
 "cells": [
  {
   "cell_type": "markdown",
   "id": "7de34f5d-15af-4ece-867f-30e9593b2de1",
   "metadata": {},
   "source": [
    "# 👋 Welcome to the Coding Lab!\n",
    "\n",
    "Hi! I'm a mom who codes, and I wanted to create a free and easy way to learn coding.\n",
    "\n",
    "This lab is a safe place to try out coding in **interactive notebooks** right here in your browser.\n",
    "\n",
    "You can **run and edit Python code** without needing to install anything, login, or manage a subscription.\n",
    "\n",
    "[Go back to Home](/) - [Go to Python lessons](/docs/python) - [Markdown Basics](/docs/markdown/markdown-basics)\n",
    "\n",
    "[View Privacy Policy](/privacy)\n",
    "\n",
    "### [How to use the lab](/docs/python/get-set-up/python-get-set-up-how-lab)\n",
    "\n",
    "- Launcher\n",
    "- Play around with code\n",
    "- View, run, change the notebook lessons\n",
    "- Markdown is text cells\n",
    "\n",
    "### [How to use a notebook](/docs/python/get-set-up/python-get-set-up-how-notebooks)\n",
    "\n",
    "- Connect the brains - kernel\n",
    "- Play button runs code\n",
    "- Fast forward button runs all code\n",
    "- Add cell, choose markdown (text) or leave as Python code\n",
    "\n",
    "### Play around with code\n",
    "\n",
    "Notebook code runs in your browser. It doesn't require any set up on your part. If you need to reset the lessons or if you can't see updates, you can clear browser cache related to the site.\n",
    "\n",
    "Clearing browser cache will delete any files you created within the Lab that you haven't downloaded.\n",
    "\n",
    "Enjoy exploring, and happy coding! 🚀\n"
   ]
  }
 ],
 "metadata": {
  "kernelspec": {
   "display_name": "Python 3 (ipykernel)",
   "language": "python",
   "name": "python3"
  },
  "language_info": {
   "codemirror_mode": {
    "name": "ipython",
    "version": 3
   },
   "file_extension": ".py",
   "mimetype": "text/x-python",
   "name": "python",
   "nbconvert_exporter": "python",
   "pygments_lexer": "ipython3",
   "version": "3.10.12"
  }
 },
 "nbformat": 4,
 "nbformat_minor": 5
}
